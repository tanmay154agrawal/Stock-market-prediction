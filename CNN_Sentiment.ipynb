{
  "nbformat": 4,
  "nbformat_minor": 0,
  "metadata": {
    "colab": {
      "provenance": []
    },
    "kernelspec": {
      "name": "python3",
      "display_name": "Python 3"
    },
    "language_info": {
      "name": "python"
    }
  },
  "cells": [
    {
      "cell_type": "code",
      "execution_count": null,
      "metadata": {
        "colab": {
          "base_uri": "https://localhost:8080/"
        },
        "id": "8t2vdhLxc7VQ",
        "outputId": "e9f847a3-ac6a-4259-c319-6850117a9263"
      },
      "outputs": [
        {
          "output_type": "stream",
          "name": "stderr",
          "text": [
            "[nltk_data] Downloading package vader_lexicon to /root/nltk_data...\n"
          ]
        }
      ],
      "source": [
        "import os\n",
        "import pandas as pd\n",
        "import matplotlib.pyplot as plt\n",
        "%matplotlib inline\n",
        "# NLTK VADER for sentiment analysis\n",
        "import nltk\n",
        "nltk.downloader.download('vader_lexicon')\n",
        "from nltk.sentiment.vader import SentimentIntensityAnalyzer\n",
        "import numpy as np\n",
        "import tensorflow as tf"
      ]
    },
    {
      "cell_type": "code",
      "source": [
        "# !unzip /content/archive.zip"
      ],
      "metadata": {
        "colab": {
          "base_uri": "https://localhost:8080/"
        },
        "id": "tGr-r-TndEAS",
        "outputId": "716cf89f-b1bf-4e1b-e4c3-34a9e88f3d1d"
      },
      "execution_count": null,
      "outputs": [
        {
          "output_type": "stream",
          "name": "stdout",
          "text": [
            "Archive:  /content/archive.zip\n",
            "replace News_sentiment_Jan2017_to_Apr2021.csv? [y]es, [n]o, [A]ll, [N]one, [r]ename: "
          ]
        }
      ]
    },
    {
      "cell_type": "code",
      "source": [
        "# news=pd.read_csv(\"/content/News_sentiment_Jan2017_to_Apr2021.csv\")\n",
        "news=pd.read_csv(\"/content/ICICI_BANK_NEWS_HEADLINES.csv\", encoding='ISO-8859-1')"
      ],
      "metadata": {
        "id": "qnOMOgxpd4VW"
      },
      "execution_count": null,
      "outputs": []
    },
    {
      "cell_type": "code",
      "source": [
        "news=pd.DataFrame(news)"
      ],
      "metadata": {
        "id": "AIZCBcP-eG6i"
      },
      "execution_count": null,
      "outputs": []
    },
    {
      "cell_type": "code",
      "source": [
        "news.head()"
      ],
      "metadata": {
        "colab": {
          "base_uri": "https://localhost:8080/",
          "height": 206
        },
        "id": "bGKzDnV_eKd5",
        "outputId": "5ff9b7fe-8a7c-4396-8608-94804da5412f"
      },
      "execution_count": null,
      "outputs": [
        {
          "output_type": "execute_result",
          "data": {
            "text/plain": [
              "         Date                                              Title\n",
              "0  2023-02-05  Trade setup for Wednesday : Top 15 things to k...\n",
              "1  2023-02-05  Amazon Sale : Amazon Kickstarter Deals : Shop ...\n",
              "2  2023-02-05  Stock market today : Sensex , Nifty extend win...\n",
              "3  2023-02-05  stocks to buy now : Hemang Jani top 6 bets in ...\n",
              "4  2023-02-05  active stocks : Share market update : Most act..."
            ],
            "text/html": [
              "\n",
              "  <div id=\"df-5e2b56f6-fa29-47f6-9e31-f876c5482042\" class=\"colab-df-container\">\n",
              "    <div>\n",
              "<style scoped>\n",
              "    .dataframe tbody tr th:only-of-type {\n",
              "        vertical-align: middle;\n",
              "    }\n",
              "\n",
              "    .dataframe tbody tr th {\n",
              "        vertical-align: top;\n",
              "    }\n",
              "\n",
              "    .dataframe thead th {\n",
              "        text-align: right;\n",
              "    }\n",
              "</style>\n",
              "<table border=\"1\" class=\"dataframe\">\n",
              "  <thead>\n",
              "    <tr style=\"text-align: right;\">\n",
              "      <th></th>\n",
              "      <th>Date</th>\n",
              "      <th>Title</th>\n",
              "    </tr>\n",
              "  </thead>\n",
              "  <tbody>\n",
              "    <tr>\n",
              "      <th>0</th>\n",
              "      <td>2023-02-05</td>\n",
              "      <td>Trade setup for Wednesday : Top 15 things to k...</td>\n",
              "    </tr>\n",
              "    <tr>\n",
              "      <th>1</th>\n",
              "      <td>2023-02-05</td>\n",
              "      <td>Amazon Sale : Amazon Kickstarter Deals : Shop ...</td>\n",
              "    </tr>\n",
              "    <tr>\n",
              "      <th>2</th>\n",
              "      <td>2023-02-05</td>\n",
              "      <td>Stock market today : Sensex , Nifty extend win...</td>\n",
              "    </tr>\n",
              "    <tr>\n",
              "      <th>3</th>\n",
              "      <td>2023-02-05</td>\n",
              "      <td>stocks to buy now : Hemang Jani top 6 bets in ...</td>\n",
              "    </tr>\n",
              "    <tr>\n",
              "      <th>4</th>\n",
              "      <td>2023-02-05</td>\n",
              "      <td>active stocks : Share market update : Most act...</td>\n",
              "    </tr>\n",
              "  </tbody>\n",
              "</table>\n",
              "</div>\n",
              "    <div class=\"colab-df-buttons\">\n",
              "\n",
              "  <div class=\"colab-df-container\">\n",
              "    <button class=\"colab-df-convert\" onclick=\"convertToInteractive('df-5e2b56f6-fa29-47f6-9e31-f876c5482042')\"\n",
              "            title=\"Convert this dataframe to an interactive table.\"\n",
              "            style=\"display:none;\">\n",
              "\n",
              "  <svg xmlns=\"http://www.w3.org/2000/svg\" height=\"24px\" viewBox=\"0 -960 960 960\">\n",
              "    <path d=\"M120-120v-720h720v720H120Zm60-500h600v-160H180v160Zm220 220h160v-160H400v160Zm0 220h160v-160H400v160ZM180-400h160v-160H180v160Zm440 0h160v-160H620v160ZM180-180h160v-160H180v160Zm440 0h160v-160H620v160Z\"/>\n",
              "  </svg>\n",
              "    </button>\n",
              "\n",
              "  <style>\n",
              "    .colab-df-container {\n",
              "      display:flex;\n",
              "      gap: 12px;\n",
              "    }\n",
              "\n",
              "    .colab-df-convert {\n",
              "      background-color: #E8F0FE;\n",
              "      border: none;\n",
              "      border-radius: 50%;\n",
              "      cursor: pointer;\n",
              "      display: none;\n",
              "      fill: #1967D2;\n",
              "      height: 32px;\n",
              "      padding: 0 0 0 0;\n",
              "      width: 32px;\n",
              "    }\n",
              "\n",
              "    .colab-df-convert:hover {\n",
              "      background-color: #E2EBFA;\n",
              "      box-shadow: 0px 1px 2px rgba(60, 64, 67, 0.3), 0px 1px 3px 1px rgba(60, 64, 67, 0.15);\n",
              "      fill: #174EA6;\n",
              "    }\n",
              "\n",
              "    .colab-df-buttons div {\n",
              "      margin-bottom: 4px;\n",
              "    }\n",
              "\n",
              "    [theme=dark] .colab-df-convert {\n",
              "      background-color: #3B4455;\n",
              "      fill: #D2E3FC;\n",
              "    }\n",
              "\n",
              "    [theme=dark] .colab-df-convert:hover {\n",
              "      background-color: #434B5C;\n",
              "      box-shadow: 0px 1px 3px 1px rgba(0, 0, 0, 0.15);\n",
              "      filter: drop-shadow(0px 1px 2px rgba(0, 0, 0, 0.3));\n",
              "      fill: #FFFFFF;\n",
              "    }\n",
              "  </style>\n",
              "\n",
              "    <script>\n",
              "      const buttonEl =\n",
              "        document.querySelector('#df-5e2b56f6-fa29-47f6-9e31-f876c5482042 button.colab-df-convert');\n",
              "      buttonEl.style.display =\n",
              "        google.colab.kernel.accessAllowed ? 'block' : 'none';\n",
              "\n",
              "      async function convertToInteractive(key) {\n",
              "        const element = document.querySelector('#df-5e2b56f6-fa29-47f6-9e31-f876c5482042');\n",
              "        const dataTable =\n",
              "          await google.colab.kernel.invokeFunction('convertToInteractive',\n",
              "                                                    [key], {});\n",
              "        if (!dataTable) return;\n",
              "\n",
              "        const docLinkHtml = 'Like what you see? Visit the ' +\n",
              "          '<a target=\"_blank\" href=https://colab.research.google.com/notebooks/data_table.ipynb>data table notebook</a>'\n",
              "          + ' to learn more about interactive tables.';\n",
              "        element.innerHTML = '';\n",
              "        dataTable['output_type'] = 'display_data';\n",
              "        await google.colab.output.renderOutput(dataTable, element);\n",
              "        const docLink = document.createElement('div');\n",
              "        docLink.innerHTML = docLinkHtml;\n",
              "        element.appendChild(docLink);\n",
              "      }\n",
              "    </script>\n",
              "  </div>\n",
              "\n",
              "\n",
              "<div id=\"df-4cb0740b-db19-4e46-873f-03e9592cce01\">\n",
              "  <button class=\"colab-df-quickchart\" onclick=\"quickchart('df-4cb0740b-db19-4e46-873f-03e9592cce01')\"\n",
              "            title=\"Suggest charts.\"\n",
              "            style=\"display:none;\">\n",
              "\n",
              "<svg xmlns=\"http://www.w3.org/2000/svg\" height=\"24px\"viewBox=\"0 0 24 24\"\n",
              "     width=\"24px\">\n",
              "    <g>\n",
              "        <path d=\"M19 3H5c-1.1 0-2 .9-2 2v14c0 1.1.9 2 2 2h14c1.1 0 2-.9 2-2V5c0-1.1-.9-2-2-2zM9 17H7v-7h2v7zm4 0h-2V7h2v10zm4 0h-2v-4h2v4z\"/>\n",
              "    </g>\n",
              "</svg>\n",
              "  </button>\n",
              "\n",
              "<style>\n",
              "  .colab-df-quickchart {\n",
              "      --bg-color: #E8F0FE;\n",
              "      --fill-color: #1967D2;\n",
              "      --hover-bg-color: #E2EBFA;\n",
              "      --hover-fill-color: #174EA6;\n",
              "      --disabled-fill-color: #AAA;\n",
              "      --disabled-bg-color: #DDD;\n",
              "  }\n",
              "\n",
              "  [theme=dark] .colab-df-quickchart {\n",
              "      --bg-color: #3B4455;\n",
              "      --fill-color: #D2E3FC;\n",
              "      --hover-bg-color: #434B5C;\n",
              "      --hover-fill-color: #FFFFFF;\n",
              "      --disabled-bg-color: #3B4455;\n",
              "      --disabled-fill-color: #666;\n",
              "  }\n",
              "\n",
              "  .colab-df-quickchart {\n",
              "    background-color: var(--bg-color);\n",
              "    border: none;\n",
              "    border-radius: 50%;\n",
              "    cursor: pointer;\n",
              "    display: none;\n",
              "    fill: var(--fill-color);\n",
              "    height: 32px;\n",
              "    padding: 0;\n",
              "    width: 32px;\n",
              "  }\n",
              "\n",
              "  .colab-df-quickchart:hover {\n",
              "    background-color: var(--hover-bg-color);\n",
              "    box-shadow: 0 1px 2px rgba(60, 64, 67, 0.3), 0 1px 3px 1px rgba(60, 64, 67, 0.15);\n",
              "    fill: var(--button-hover-fill-color);\n",
              "  }\n",
              "\n",
              "  .colab-df-quickchart-complete:disabled,\n",
              "  .colab-df-quickchart-complete:disabled:hover {\n",
              "    background-color: var(--disabled-bg-color);\n",
              "    fill: var(--disabled-fill-color);\n",
              "    box-shadow: none;\n",
              "  }\n",
              "\n",
              "  .colab-df-spinner {\n",
              "    border: 2px solid var(--fill-color);\n",
              "    border-color: transparent;\n",
              "    border-bottom-color: var(--fill-color);\n",
              "    animation:\n",
              "      spin 1s steps(1) infinite;\n",
              "  }\n",
              "\n",
              "  @keyframes spin {\n",
              "    0% {\n",
              "      border-color: transparent;\n",
              "      border-bottom-color: var(--fill-color);\n",
              "      border-left-color: var(--fill-color);\n",
              "    }\n",
              "    20% {\n",
              "      border-color: transparent;\n",
              "      border-left-color: var(--fill-color);\n",
              "      border-top-color: var(--fill-color);\n",
              "    }\n",
              "    30% {\n",
              "      border-color: transparent;\n",
              "      border-left-color: var(--fill-color);\n",
              "      border-top-color: var(--fill-color);\n",
              "      border-right-color: var(--fill-color);\n",
              "    }\n",
              "    40% {\n",
              "      border-color: transparent;\n",
              "      border-right-color: var(--fill-color);\n",
              "      border-top-color: var(--fill-color);\n",
              "    }\n",
              "    60% {\n",
              "      border-color: transparent;\n",
              "      border-right-color: var(--fill-color);\n",
              "    }\n",
              "    80% {\n",
              "      border-color: transparent;\n",
              "      border-right-color: var(--fill-color);\n",
              "      border-bottom-color: var(--fill-color);\n",
              "    }\n",
              "    90% {\n",
              "      border-color: transparent;\n",
              "      border-bottom-color: var(--fill-color);\n",
              "    }\n",
              "  }\n",
              "</style>\n",
              "\n",
              "  <script>\n",
              "    async function quickchart(key) {\n",
              "      const quickchartButtonEl =\n",
              "        document.querySelector('#' + key + ' button');\n",
              "      quickchartButtonEl.disabled = true;  // To prevent multiple clicks.\n",
              "      quickchartButtonEl.classList.add('colab-df-spinner');\n",
              "      try {\n",
              "        const charts = await google.colab.kernel.invokeFunction(\n",
              "            'suggestCharts', [key], {});\n",
              "      } catch (error) {\n",
              "        console.error('Error during call to suggestCharts:', error);\n",
              "      }\n",
              "      quickchartButtonEl.classList.remove('colab-df-spinner');\n",
              "      quickchartButtonEl.classList.add('colab-df-quickchart-complete');\n",
              "    }\n",
              "    (() => {\n",
              "      let quickchartButtonEl =\n",
              "        document.querySelector('#df-4cb0740b-db19-4e46-873f-03e9592cce01 button');\n",
              "      quickchartButtonEl.style.display =\n",
              "        google.colab.kernel.accessAllowed ? 'block' : 'none';\n",
              "    })();\n",
              "  </script>\n",
              "</div>\n",
              "    </div>\n",
              "  </div>\n"
            ]
          },
          "metadata": {},
          "execution_count": 29
        }
      ]
    },
    {
      "cell_type": "code",
      "source": [
        "news['Date'] = pd.to_datetime(news['Date']).dt.date"
      ],
      "metadata": {
        "id": "if3g2-NvgbGQ"
      },
      "execution_count": null,
      "outputs": []
    },
    {
      "cell_type": "code",
      "source": [
        "import yfinance as yf\n",
        "import datetime\n",
        "\n",
        "# Define the stock symbol (ICICI Bank's symbol is \"ICICIBANK.NS\" for NSE or \"ICICIBANK.BO\" for BSE)\n",
        "stock_symbol = \"ICICIBANK.NS\"\n",
        "\n",
        "# Define the start and end dates\n",
        "start_date = datetime.datetime(2017, 1, 1)\n",
        "end_date = datetime.datetime(2023, 12, 31)\n",
        "\n",
        "# Fetch historical data\n",
        "df = yf.download(stock_symbol, start=start_date, end=end_date)\n",
        "\n",
        "# Extract the closing prices\n",
        "\n",
        "\n",
        "\n",
        "\n",
        "\n"
      ],
      "metadata": {
        "colab": {
          "base_uri": "https://localhost:8080/"
        },
        "id": "JJuYPNtE9ojj",
        "outputId": "b58d7535-bf1c-4867-c0ab-61f5cbcaa355"
      },
      "execution_count": null,
      "outputs": [
        {
          "output_type": "stream",
          "name": "stdout",
          "text": [
            "\r[*********************100%%**********************]  1 of 1 completed\n"
          ]
        }
      ]
    },
    {
      "cell_type": "code",
      "source": [
        "df['Indicator'] = df['Open'] - df['Close']\n",
        "df['Indicator'] = df['Indicator'].apply(lambda x: 1 if x > 0 else -1)"
      ],
      "metadata": {
        "id": "3pVPTiyq-43A"
      },
      "execution_count": null,
      "outputs": []
    },
    {
      "cell_type": "code",
      "source": [
        "print(df)"
      ],
      "metadata": {
        "colab": {
          "base_uri": "https://localhost:8080/"
        },
        "id": "1dBFq9Tw9uJS",
        "outputId": "9cd50dff-5850-46f5-e861-5300f22831b2"
      },
      "execution_count": null,
      "outputs": [
        {
          "output_type": "stream",
          "name": "stdout",
          "text": [
            "            Indicator\n",
            "2017-01-02          1\n",
            "2017-01-03         -1\n",
            "2017-01-04          1\n",
            "2017-01-05         -1\n",
            "2017-01-06          1\n",
            "...               ...\n",
            "2023-08-29          1\n",
            "2023-08-30          1\n",
            "2023-08-31          1\n",
            "2023-09-01         -1\n",
            "2023-09-04          1\n",
            "\n",
            "[1651 rows x 1 columns]\n"
          ]
        }
      ]
    },
    {
      "cell_type": "code",
      "source": [
        "df=df.drop(['Open','High','Low','Close','Adj Close','Volume'],axis=1)"
      ],
      "metadata": {
        "id": "_XTHFi4V-8tf"
      },
      "execution_count": null,
      "outputs": []
    },
    {
      "cell_type": "code",
      "source": [
        "df.index = pd.to_datetime(df.index)\n",
        "\n",
        "# Convert the datetime index to date objects\n",
        "df.index = df.index.date"
      ],
      "metadata": {
        "id": "jKosOR4uAHwf"
      },
      "execution_count": null,
      "outputs": []
    },
    {
      "cell_type": "code",
      "source": [
        "news=news.set_index('Date')"
      ],
      "metadata": {
        "id": "2QOe9Geo-8qE"
      },
      "execution_count": null,
      "outputs": []
    },
    {
      "cell_type": "code",
      "source": [
        "merged_df = pd.merge(df, news, left_index=True, right_index=True, how='inner')\n"
      ],
      "metadata": {
        "id": "Uvl0ceTa_c-k"
      },
      "execution_count": null,
      "outputs": []
    },
    {
      "cell_type": "code",
      "source": [
        "print(news)"
      ],
      "metadata": {
        "colab": {
          "base_uri": "https://localhost:8080/"
        },
        "id": "jt8LrVSFApRS",
        "outputId": "5373ab9e-f37a-4baf-e701-a13c17df2023"
      },
      "execution_count": null,
      "outputs": [
        {
          "output_type": "stream",
          "name": "stdout",
          "text": [
            "                                                        Title\n",
            "Date                                                         \n",
            "2023-02-05  Trade setup for Wednesday : Top 15 things to k...\n",
            "2023-02-05  Amazon Sale : Amazon Kickstarter Deals : Shop ...\n",
            "2023-02-05  Stock market today : Sensex , Nifty extend win...\n",
            "2023-02-05  stocks to buy now : Hemang Jani top 6 bets in ...\n",
            "2023-02-05  active stocks : Share market update : Most act...\n",
            "...                                                       ...\n",
            "2017-10-01  5 cues from F & O market : Fresh Put writing a...\n",
            "2017-10-01  Nifty above 8250 , Sensex climbs over 100 pts ...\n",
            "2017-10-01  Sensex rallies over 100 points ; Nifty50 above...\n",
            "2017-10-01  Eleven stocks in focus on Tuesday , 10 January...\n",
            "2017-09-01  2017 promises to attract discerning investor t...\n",
            "\n",
            "[16709 rows x 1 columns]\n"
          ]
        }
      ]
    },
    {
      "cell_type": "code",
      "source": [
        "print(merged_df)"
      ],
      "metadata": {
        "colab": {
          "base_uri": "https://localhost:8080/"
        },
        "id": "7n8jurOW_oU6",
        "outputId": "452e0732-e5f9-4cef-f723-487b44d2abad"
      },
      "execution_count": null,
      "outputs": [
        {
          "output_type": "stream",
          "name": "stdout",
          "text": [
            "            Indicator                                              Title\n",
            "2017-01-02          1  Budget 2017 : Balancing growth with fiscal pru...\n",
            "2017-01-02          1                                  Union Budget 2017\n",
            "2017-01-02          1  Technical Analysis Premium Mailer : Premium St...\n",
            "2017-01-02          1     ICICI Bank resumes UPI transactions on PhonePe\n",
            "2017-01-02          1                                        Mcap of BSE\n",
            "...               ...                                                ...\n",
            "2023-09-01         -1  Nifty : Nifty may trade in 17 , 777 - 18 , 250...\n",
            "2023-09-01         -1  Best tax saving options : Comparison of 10 inv...\n",
            "2023-09-04          1  Trade setup for Monday : Top 15 things to know...\n",
            "2023-09-04          1  Lenders likely to post robust Q4 numbers ; PSU...\n",
            "2023-09-04          1  Mcap of eight of top 10 valued firms climbs Rs...\n",
            "\n",
            "[13641 rows x 2 columns]\n"
          ]
        }
      ]
    },
    {
      "cell_type": "code",
      "source": [
        "news=news.drop(['URL','confidence','Unnamed: 5'],axis=1)"
      ],
      "metadata": {
        "id": "8yy8LvCYeL0m"
      },
      "execution_count": null,
      "outputs": []
    },
    {
      "cell_type": "code",
      "source": [
        "replace_dict = {'POSITIVE': 1, 'NEGATIVE': -1}"
      ],
      "metadata": {
        "id": "ZR-Rx7iueX4Z"
      },
      "execution_count": null,
      "outputs": []
    },
    {
      "cell_type": "code",
      "source": [
        "news['sentiment'] = news['sentiment'].replace(replace_dict)"
      ],
      "metadata": {
        "id": "w4hkI6UxevYV"
      },
      "execution_count": null,
      "outputs": []
    },
    {
      "cell_type": "code",
      "source": [
        "nltk.download('punkt')\n"
      ],
      "metadata": {
        "colab": {
          "base_uri": "https://localhost:8080/"
        },
        "id": "0YwOT0n3e31S",
        "outputId": "c54a800e-ef49-4b7c-b610-64906d9ff4b7"
      },
      "execution_count": null,
      "outputs": [
        {
          "output_type": "stream",
          "name": "stderr",
          "text": [
            "[nltk_data] Downloading package punkt to /root/nltk_data...\n",
            "[nltk_data]   Unzipping tokenizers/punkt.zip.\n"
          ]
        },
        {
          "output_type": "execute_result",
          "data": {
            "text/plain": [
              "True"
            ]
          },
          "metadata": {},
          "execution_count": 45
        }
      ]
    },
    {
      "cell_type": "code",
      "source": [
        "from gensim.models import Word2Vec\n",
        "from nltk.tokenize import word_tokenize"
      ],
      "metadata": {
        "id": "RvJrbfGGfOYs"
      },
      "execution_count": null,
      "outputs": []
    },
    {
      "cell_type": "code",
      "source": [
        "merged_df['tokens'] = merged_df['Title'].apply(word_tokenize)"
      ],
      "metadata": {
        "id": "6PgaZmn9fQwB"
      },
      "execution_count": null,
      "outputs": []
    },
    {
      "cell_type": "code",
      "source": [
        "model1 = Word2Vec(sentences=merged_df['tokens'], vector_size=200, window=5, min_count=1, workers=4)"
      ],
      "metadata": {
        "id": "oMr1MFmqffn6"
      },
      "execution_count": null,
      "outputs": []
    },
    {
      "cell_type": "code",
      "source": [
        "news_train = news[news['Date'].dt.year < 2020]\n",
        "news_test = news[news['Date'].dt.year > 2020]"
      ],
      "metadata": {
        "id": "OeIJkmhNhKVC"
      },
      "execution_count": null,
      "outputs": []
    },
    {
      "cell_type": "code",
      "source": [
        "target_shape = (20, 200)  # Adjust dimensions as needed\n",
        "\n",
        "embeddings = []\n",
        "for tokens in merged_df['tokens']:\n",
        "    sentence_embeddings = []\n",
        "    for word in tokens:\n",
        "        if word in model1.wv:\n",
        "            sentence_embeddings.append(model1.wv[word])\n",
        "\n",
        "    # Pad or truncate the sentence embeddings to the target shape\n",
        "    while len(sentence_embeddings) < target_shape[0]:\n",
        "        sentence_embeddings.append(np.zeros(target_shape[1]))\n",
        "    sentence_embeddings = sentence_embeddings[:target_shape[0]]\n",
        "\n",
        "    embeddings.append(np.array(sentence_embeddings))\n",
        "\n",
        "# Convert the embeddings to a NumPy array\n",
        "x = np.array(embeddings)"
      ],
      "metadata": {
        "id": "-EB6E_HOEVzL"
      },
      "execution_count": null,
      "outputs": []
    },
    {
      "cell_type": "code",
      "source": [
        "embeddings = []\n",
        "for tokens in merged_df['tokens']:\n",
        "    sentence_embeddings = []\n",
        "    for word in tokens:\n",
        "        if word in model1.wv:\n",
        "            sentence_embeddings.append(model1.wv[word])\n",
        "    # Pad or truncate the sentence embeddings to a fixed size of 20 x 300\n",
        "    if len(sentence_embeddings) < 20:\n",
        "        padding = np.zeros((20 - len(sentence_embeddings), 100))\n",
        "        sentence_embeddings.extend(padding)\n",
        "    else:\n",
        "        sentence_embeddings = sentence_embeddings[:20]\n",
        "    embeddings.append(np.array(sentence_embeddings))\n",
        "\n",
        "# Convert the embeddings to a NumPy array\n",
        "# x = np.array(embeddings)"
      ],
      "metadata": {
        "id": "KjBiSknJfpMl",
        "colab": {
          "base_uri": "https://localhost:8080/"
        },
        "outputId": "29238a55-e2c0-4785-e13a-bd7bc0b559fb"
      },
      "execution_count": null,
      "outputs": [
        {
          "output_type": "stream",
          "name": "stderr",
          "text": [
            "<ipython-input-73-f3d790b369b0>:13: VisibleDeprecationWarning: Creating an ndarray from ragged nested sequences (which is a list-or-tuple of lists-or-tuples-or ndarrays with different lengths or shapes) is deprecated. If you meant to do this, you must specify 'dtype=object' when creating the ndarray.\n",
            "  embeddings.append(np.array(sentence_embeddings))\n"
          ]
        }
      ]
    },
    {
      "cell_type": "code",
      "source": [
        "from tensorflow.keras.models import Model,Sequential\n",
        "from tensorflow.keras.layers import Input, Embedding, Conv1D, GlobalMaxPooling1D, Concatenate, Dense, Dropout"
      ],
      "metadata": {
        "id": "Gbm9rN36f16j"
      },
      "execution_count": null,
      "outputs": []
    },
    {
      "cell_type": "code",
      "source": [
        "# Define the model\n",
        "model = Sequential()\n",
        "\n",
        "# Add the first convolutional layer\n",
        "model.add(Conv1D(filters=64, kernel_size=3, activation='relu', input_shape=(20,200)))\n",
        "\n",
        "# Add the second convolutional layer\n",
        "model.add(Conv1D(filters=128, kernel_size=3, activation='relu'))\n",
        "\n",
        "# Add the third convolutional layer\n",
        "model.add(Conv1D(filters=256, kernel_size=3, activation='relu'))\n",
        "\n",
        "# Add global max pooling layer\n",
        "model.add(GlobalMaxPooling1D())\n",
        "\n",
        "# Add a dense layer\n",
        "model.add(Dense(units=128, activation='relu'))\n",
        "\n",
        "# Add the output layer\n",
        "model.add(Dense(units=2, activation='softmax'))\n",
        "\n",
        "# Print the model summary\n",
        "model.summary()\n"
      ],
      "metadata": {
        "colab": {
          "base_uri": "https://localhost:8080/"
        },
        "id": "imkyUliIgEIg",
        "outputId": "77626b11-2bfd-4fed-e4ff-1c807b5116fa"
      },
      "execution_count": null,
      "outputs": [
        {
          "output_type": "stream",
          "name": "stdout",
          "text": [
            "Model: \"sequential_1\"\n",
            "_________________________________________________________________\n",
            " Layer (type)                Output Shape              Param #   \n",
            "=================================================================\n",
            " conv1d_3 (Conv1D)           (None, 18, 64)            38464     \n",
            "                                                                 \n",
            " conv1d_4 (Conv1D)           (None, 16, 128)           24704     \n",
            "                                                                 \n",
            " conv1d_5 (Conv1D)           (None, 14, 256)           98560     \n",
            "                                                                 \n",
            " global_max_pooling1d_1 (Glo  (None, 256)              0         \n",
            " balMaxPooling1D)                                                \n",
            "                                                                 \n",
            " dense_2 (Dense)             (None, 128)               32896     \n",
            "                                                                 \n",
            " dense_3 (Dense)             (None, 2)                 258       \n",
            "                                                                 \n",
            "=================================================================\n",
            "Total params: 194,882\n",
            "Trainable params: 194,882\n",
            "Non-trainable params: 0\n",
            "_________________________________________________________________\n"
          ]
        }
      ]
    },
    {
      "cell_type": "code",
      "source": [
        "y = merged_df['Indicator'].values"
      ],
      "metadata": {
        "id": "mWsstutXgKtc"
      },
      "execution_count": null,
      "outputs": []
    },
    {
      "cell_type": "code",
      "source": [
        "y = [[1, 0] if value == 1 else [0, 1] for value in y]"
      ],
      "metadata": {
        "id": "T5Tvvc68l0Iw"
      },
      "execution_count": null,
      "outputs": []
    },
    {
      "cell_type": "code",
      "source": [
        "y=np.array(y)\n",
        "x=np.array(x)"
      ],
      "metadata": {
        "id": "R5JFdu0lmr3n"
      },
      "execution_count": null,
      "outputs": []
    },
    {
      "cell_type": "code",
      "source": [
        "# y = np.eye(2)[y]"
      ],
      "metadata": {
        "id": "IsH5T5dkhyJN"
      },
      "execution_count": null,
      "outputs": []
    },
    {
      "cell_type": "code",
      "source": [
        "print(x.shape)\n",
        "print(y.shape)"
      ],
      "metadata": {
        "colab": {
          "base_uri": "https://localhost:8080/"
        },
        "id": "GkuS1J-JgGLo",
        "outputId": "5faaf272-5907-4c88-f48e-db60c18324cc"
      },
      "execution_count": null,
      "outputs": [
        {
          "output_type": "stream",
          "name": "stdout",
          "text": [
            "(13641, 20, 200)\n",
            "(13641, 2)\n"
          ]
        }
      ]
    },
    {
      "cell_type": "code",
      "source": [
        "x = np.asarray(x)"
      ],
      "metadata": {
        "id": "IjlrVnK7DoO1"
      },
      "execution_count": null,
      "outputs": []
    },
    {
      "cell_type": "code",
      "source": [
        "print(x.shape)"
      ],
      "metadata": {
        "colab": {
          "base_uri": "https://localhost:8080/"
        },
        "id": "GDmFhr1RCz1b",
        "outputId": "abc8a0d0-9da7-4917-9119-ad5ea4776517"
      },
      "execution_count": null,
      "outputs": [
        {
          "output_type": "stream",
          "name": "stdout",
          "text": [
            "(13641, 20, 200)\n"
          ]
        }
      ]
    },
    {
      "cell_type": "code",
      "source": [
        "import tensorflow as tf\n",
        "y=tf.convert_to_tensor(y)\n",
        "x=tf.convert_to_tensor(x)"
      ],
      "metadata": {
        "id": "GXC3X6yAh5FY"
      },
      "execution_count": null,
      "outputs": []
    },
    {
      "cell_type": "code",
      "source": [
        "model.compile(optimizer='adam', loss='binary_crossentropy', metrics=['accuracy'])"
      ],
      "metadata": {
        "id": "V8f7972oiFua"
      },
      "execution_count": null,
      "outputs": []
    },
    {
      "cell_type": "code",
      "source": [
        "history = model.fit(x, y, batch_size=256, epochs=25)"
      ],
      "metadata": {
        "colab": {
          "base_uri": "https://localhost:8080/"
        },
        "id": "uc_x4i2RiJFR",
        "outputId": "0764a9c8-b664-41d5-926d-8e4f5ec16cb9"
      },
      "execution_count": null,
      "outputs": [
        {
          "output_type": "stream",
          "name": "stdout",
          "text": [
            "Epoch 1/25\n",
            "54/54 [==============================] - 4s 61ms/step - loss: 0.6946 - accuracy: 0.5077\n",
            "Epoch 2/25\n",
            "54/54 [==============================] - 4s 73ms/step - loss: 0.6925 - accuracy: 0.5162\n",
            "Epoch 3/25\n",
            "54/54 [==============================] - 3s 61ms/step - loss: 0.6918 - accuracy: 0.5198\n",
            "Epoch 4/25\n",
            "54/54 [==============================] - 3s 60ms/step - loss: 0.6916 - accuracy: 0.5209\n",
            "Epoch 5/25\n",
            "54/54 [==============================] - 4s 69ms/step - loss: 0.6886 - accuracy: 0.5332\n",
            "Epoch 6/25\n",
            "54/54 [==============================] - 4s 64ms/step - loss: 0.6872 - accuracy: 0.5472\n",
            "Epoch 7/25\n",
            "54/54 [==============================] - 3s 61ms/step - loss: 0.6801 - accuracy: 0.5636\n",
            "Epoch 8/25\n",
            "54/54 [==============================] - 3s 60ms/step - loss: 0.6738 - accuracy: 0.5781\n",
            "Epoch 9/25\n",
            "54/54 [==============================] - 4s 73ms/step - loss: 0.6577 - accuracy: 0.6046\n",
            "Epoch 10/25\n",
            "54/54 [==============================] - 3s 61ms/step - loss: 0.6437 - accuracy: 0.6230\n",
            "Epoch 11/25\n",
            "54/54 [==============================] - 3s 61ms/step - loss: 0.6124 - accuracy: 0.6623\n",
            "Epoch 12/25\n",
            "54/54 [==============================] - 4s 73ms/step - loss: 0.5872 - accuracy: 0.6789\n",
            "Epoch 13/25\n",
            "54/54 [==============================] - 3s 61ms/step - loss: 0.5418 - accuracy: 0.7150\n",
            "Epoch 14/25\n",
            "54/54 [==============================] - 3s 60ms/step - loss: 0.4908 - accuracy: 0.7548\n",
            "Epoch 15/25\n",
            "54/54 [==============================] - 3s 60ms/step - loss: 0.4559 - accuracy: 0.7719\n",
            "Epoch 16/25\n",
            "54/54 [==============================] - 4s 73ms/step - loss: 0.3972 - accuracy: 0.8089\n",
            "Epoch 17/25\n",
            "54/54 [==============================] - 3s 61ms/step - loss: 0.3647 - accuracy: 0.8276\n",
            "Epoch 18/25\n",
            "54/54 [==============================] - 3s 60ms/step - loss: 0.3261 - accuracy: 0.8456\n",
            "Epoch 19/25\n",
            "54/54 [==============================] - 4s 73ms/step - loss: 0.3003 - accuracy: 0.8576\n",
            "Epoch 20/25\n",
            "54/54 [==============================] - 3s 60ms/step - loss: 0.2647 - accuracy: 0.8725\n",
            "Epoch 21/25\n",
            "54/54 [==============================] - 3s 60ms/step - loss: 0.2311 - accuracy: 0.8899\n",
            "Epoch 22/25\n",
            "54/54 [==============================] - 3s 61ms/step - loss: 0.2252 - accuracy: 0.8925\n",
            "Epoch 23/25\n",
            "54/54 [==============================] - 4s 72ms/step - loss: 0.2035 - accuracy: 0.9029\n",
            "Epoch 24/25\n",
            "54/54 [==============================] - 3s 60ms/step - loss: 0.2014 - accuracy: 0.9024\n",
            "Epoch 25/25\n",
            "54/54 [==============================] - 3s 60ms/step - loss: 0.1837 - accuracy: 0.9101\n"
          ]
        }
      ]
    },
    {
      "cell_type": "code",
      "source": [
        "embeddings = []\n",
        "for tokens in news_test['tokens']:\n",
        "    sentence_embeddings = []\n",
        "    for word in tokens:\n",
        "        if word in model1.wv:\n",
        "            sentence_embeddings.append(model1.wv[word])\n",
        "    # Pad or truncate the sentence embeddings to a fixed size of 20 x 300\n",
        "    if len(sentence_embeddings) < 20:\n",
        "        padding = np.zeros((20 - len(sentence_embeddings), 100))\n",
        "        sentence_embeddings.extend(padding)\n",
        "    else:\n",
        "        sentence_embeddings = sentence_embeddings[:20]\n",
        "    embeddings.append(sentence_embeddings)\n",
        "\n",
        "# Convert the embeddings to a NumPy array\n",
        "x_test = np.array(embeddings)"
      ],
      "metadata": {
        "id": "lDQT40vSi1IE"
      },
      "execution_count": null,
      "outputs": []
    },
    {
      "cell_type": "code",
      "source": [
        "y_test = news_test['sentiment'].values\n",
        "y_test = [[1, 0] if value == 1 else [0, 1] for value in y_test]\n",
        "y_test=np.array(y_test)"
      ],
      "metadata": {
        "id": "Wges3llzjUw5"
      },
      "execution_count": null,
      "outputs": []
    },
    {
      "cell_type": "code",
      "source": [
        "y_pred=model.predict(x)"
      ],
      "metadata": {
        "colab": {
          "base_uri": "https://localhost:8080/"
        },
        "id": "geg_TmJ6jm2G",
        "outputId": "b2b57841-381b-498c-a32f-0b19d4fd1ed0"
      },
      "execution_count": null,
      "outputs": [
        {
          "output_type": "stream",
          "name": "stdout",
          "text": [
            "427/427 [==============================] - 2s 4ms/step\n"
          ]
        }
      ]
    },
    {
      "cell_type": "code",
      "source": [
        "df.loc[df['Column1'] > df['Column2'], 'Column1'] = 1\n",
        "df.loc[df['Column1'] <= df['Column2'], 'Column1'] = 0"
      ],
      "metadata": {
        "id": "9ZJoZOalG58J"
      },
      "execution_count": null,
      "outputs": []
    },
    {
      "cell_type": "code",
      "source": [
        "print(y_pred.shape)"
      ],
      "metadata": {
        "colab": {
          "base_uri": "https://localhost:8080/"
        },
        "id": "KmdTgWJnGZsG",
        "outputId": "2c756186-6e1b-4938-f050-e563e7710d2b"
      },
      "execution_count": null,
      "outputs": [
        {
          "output_type": "stream",
          "name": "stdout",
          "text": [
            "(13641, 2)\n"
          ]
        }
      ]
    },
    {
      "cell_type": "code",
      "source": [
        "condition = tf.greater(y_pred[:, 0], y_pred[:, 1])\n",
        "\n",
        "# Create tensors for [1.0, 0.0] and [0.0, 1.0]\n",
        "ones_tensor = tf.constant([1.0, 0.0], dtype=tf.float32)\n",
        "zeros_tensor = tf.constant([0.0, 1.0], dtype=tf.float32)\n",
        "\n",
        "# Use tf.where to update 'your_tensor' based on the condition\n",
        "updated_tensor = tf.where(condition[:, tf.newaxis], ones_tensor, zeros_tensor)\n",
        "\n",
        "# Print the updated tensor\n",
        "print(updated_tensor)"
      ],
      "metadata": {
        "colab": {
          "base_uri": "https://localhost:8080/"
        },
        "id": "tIouEZb9HQc2",
        "outputId": "55d345eb-eddb-4a06-f039-051879dbbea9"
      },
      "execution_count": null,
      "outputs": [
        {
          "output_type": "stream",
          "name": "stdout",
          "text": [
            "tf.Tensor(\n",
            "[[1. 0.]\n",
            " [1. 0.]\n",
            " [1. 0.]\n",
            " ...\n",
            " [0. 1.]\n",
            " [1. 0.]\n",
            " [1. 0.]], shape=(13641, 2), dtype=float32)\n"
          ]
        }
      ]
    },
    {
      "cell_type": "code",
      "source": [
        "tensor_df = pd.DataFrame(updated_tensor.numpy(), columns=['Mpos', 'Mneg'])"
      ],
      "metadata": {
        "id": "nte69cP-HtII"
      },
      "execution_count": null,
      "outputs": []
    },
    {
      "cell_type": "code",
      "source": [
        "merged_df"
      ],
      "metadata": {
        "colab": {
          "base_uri": "https://localhost:8080/",
          "height": 423
        },
        "id": "4_l6nZtKH5zq",
        "outputId": "715cb9b9-62a0-4776-ead5-1fa4d2c46363"
      },
      "execution_count": null,
      "outputs": [
        {
          "output_type": "execute_result",
          "data": {
            "text/plain": [
              "            Indicator                                              Title  \\\n",
              "2017-01-02          1  Budget 2017 : Balancing growth with fiscal pru...   \n",
              "2017-01-02          1                                  Union Budget 2017   \n",
              "2017-01-02          1  Technical Analysis Premium Mailer : Premium St...   \n",
              "2017-01-02          1     ICICI Bank resumes UPI transactions on PhonePe   \n",
              "2017-01-02          1                                        Mcap of BSE   \n",
              "...               ...                                                ...   \n",
              "2023-09-01         -1  Nifty : Nifty may trade in 17 , 777 - 18 , 250...   \n",
              "2023-09-01         -1  Best tax saving options : Comparison of 10 inv...   \n",
              "2023-09-04          1  Trade setup for Monday : Top 15 things to know...   \n",
              "2023-09-04          1  Lenders likely to post robust Q4 numbers ; PSU...   \n",
              "2023-09-04          1  Mcap of eight of top 10 valued firms climbs Rs...   \n",
              "\n",
              "                                                       tokens  \n",
              "2017-01-02  [Budget, 2017, :, Balancing, growth, with, fis...  \n",
              "2017-01-02                              [Union, Budget, 2017]  \n",
              "2017-01-02  [Technical, Analysis, Premium, Mailer, :, Prem...  \n",
              "2017-01-02  [ICICI, Bank, resumes, UPI, transactions, on, ...  \n",
              "2017-01-02                                    [Mcap, of, BSE]  \n",
              "...                                                       ...  \n",
              "2023-09-01  [Nifty, :, Nifty, may, trade, in, 17, ,, 777, ...  \n",
              "2023-09-01  [Best, tax, saving, options, :, Comparison, of...  \n",
              "2023-09-04  [Trade, setup, for, Monday, :, Top, 15, things...  \n",
              "2023-09-04  [Lenders, likely, to, post, robust, Q4, number...  \n",
              "2023-09-04  [Mcap, of, eight, of, top, 10, valued, firms, ...  \n",
              "\n",
              "[13641 rows x 3 columns]"
            ],
            "text/html": [
              "\n",
              "  <div id=\"df-a81b3084-38f2-4f84-9538-dd713e9f9229\" class=\"colab-df-container\">\n",
              "    <div>\n",
              "<style scoped>\n",
              "    .dataframe tbody tr th:only-of-type {\n",
              "        vertical-align: middle;\n",
              "    }\n",
              "\n",
              "    .dataframe tbody tr th {\n",
              "        vertical-align: top;\n",
              "    }\n",
              "\n",
              "    .dataframe thead th {\n",
              "        text-align: right;\n",
              "    }\n",
              "</style>\n",
              "<table border=\"1\" class=\"dataframe\">\n",
              "  <thead>\n",
              "    <tr style=\"text-align: right;\">\n",
              "      <th></th>\n",
              "      <th>Indicator</th>\n",
              "      <th>Title</th>\n",
              "      <th>tokens</th>\n",
              "    </tr>\n",
              "  </thead>\n",
              "  <tbody>\n",
              "    <tr>\n",
              "      <th>2017-01-02</th>\n",
              "      <td>1</td>\n",
              "      <td>Budget 2017 : Balancing growth with fiscal pru...</td>\n",
              "      <td>[Budget, 2017, :, Balancing, growth, with, fis...</td>\n",
              "    </tr>\n",
              "    <tr>\n",
              "      <th>2017-01-02</th>\n",
              "      <td>1</td>\n",
              "      <td>Union Budget 2017</td>\n",
              "      <td>[Union, Budget, 2017]</td>\n",
              "    </tr>\n",
              "    <tr>\n",
              "      <th>2017-01-02</th>\n",
              "      <td>1</td>\n",
              "      <td>Technical Analysis Premium Mailer : Premium St...</td>\n",
              "      <td>[Technical, Analysis, Premium, Mailer, :, Prem...</td>\n",
              "    </tr>\n",
              "    <tr>\n",
              "      <th>2017-01-02</th>\n",
              "      <td>1</td>\n",
              "      <td>ICICI Bank resumes UPI transactions on PhonePe</td>\n",
              "      <td>[ICICI, Bank, resumes, UPI, transactions, on, ...</td>\n",
              "    </tr>\n",
              "    <tr>\n",
              "      <th>2017-01-02</th>\n",
              "      <td>1</td>\n",
              "      <td>Mcap of BSE</td>\n",
              "      <td>[Mcap, of, BSE]</td>\n",
              "    </tr>\n",
              "    <tr>\n",
              "      <th>...</th>\n",
              "      <td>...</td>\n",
              "      <td>...</td>\n",
              "      <td>...</td>\n",
              "    </tr>\n",
              "    <tr>\n",
              "      <th>2023-09-01</th>\n",
              "      <td>-1</td>\n",
              "      <td>Nifty : Nifty may trade in 17 , 777 - 18 , 250...</td>\n",
              "      <td>[Nifty, :, Nifty, may, trade, in, 17, ,, 777, ...</td>\n",
              "    </tr>\n",
              "    <tr>\n",
              "      <th>2023-09-01</th>\n",
              "      <td>-1</td>\n",
              "      <td>Best tax saving options : Comparison of 10 inv...</td>\n",
              "      <td>[Best, tax, saving, options, :, Comparison, of...</td>\n",
              "    </tr>\n",
              "    <tr>\n",
              "      <th>2023-09-04</th>\n",
              "      <td>1</td>\n",
              "      <td>Trade setup for Monday : Top 15 things to know...</td>\n",
              "      <td>[Trade, setup, for, Monday, :, Top, 15, things...</td>\n",
              "    </tr>\n",
              "    <tr>\n",
              "      <th>2023-09-04</th>\n",
              "      <td>1</td>\n",
              "      <td>Lenders likely to post robust Q4 numbers ; PSU...</td>\n",
              "      <td>[Lenders, likely, to, post, robust, Q4, number...</td>\n",
              "    </tr>\n",
              "    <tr>\n",
              "      <th>2023-09-04</th>\n",
              "      <td>1</td>\n",
              "      <td>Mcap of eight of top 10 valued firms climbs Rs...</td>\n",
              "      <td>[Mcap, of, eight, of, top, 10, valued, firms, ...</td>\n",
              "    </tr>\n",
              "  </tbody>\n",
              "</table>\n",
              "<p>13641 rows × 3 columns</p>\n",
              "</div>\n",
              "    <div class=\"colab-df-buttons\">\n",
              "\n",
              "  <div class=\"colab-df-container\">\n",
              "    <button class=\"colab-df-convert\" onclick=\"convertToInteractive('df-a81b3084-38f2-4f84-9538-dd713e9f9229')\"\n",
              "            title=\"Convert this dataframe to an interactive table.\"\n",
              "            style=\"display:none;\">\n",
              "\n",
              "  <svg xmlns=\"http://www.w3.org/2000/svg\" height=\"24px\" viewBox=\"0 -960 960 960\">\n",
              "    <path d=\"M120-120v-720h720v720H120Zm60-500h600v-160H180v160Zm220 220h160v-160H400v160Zm0 220h160v-160H400v160ZM180-400h160v-160H180v160Zm440 0h160v-160H620v160ZM180-180h160v-160H180v160Zm440 0h160v-160H620v160Z\"/>\n",
              "  </svg>\n",
              "    </button>\n",
              "\n",
              "  <style>\n",
              "    .colab-df-container {\n",
              "      display:flex;\n",
              "      gap: 12px;\n",
              "    }\n",
              "\n",
              "    .colab-df-convert {\n",
              "      background-color: #E8F0FE;\n",
              "      border: none;\n",
              "      border-radius: 50%;\n",
              "      cursor: pointer;\n",
              "      display: none;\n",
              "      fill: #1967D2;\n",
              "      height: 32px;\n",
              "      padding: 0 0 0 0;\n",
              "      width: 32px;\n",
              "    }\n",
              "\n",
              "    .colab-df-convert:hover {\n",
              "      background-color: #E2EBFA;\n",
              "      box-shadow: 0px 1px 2px rgba(60, 64, 67, 0.3), 0px 1px 3px 1px rgba(60, 64, 67, 0.15);\n",
              "      fill: #174EA6;\n",
              "    }\n",
              "\n",
              "    .colab-df-buttons div {\n",
              "      margin-bottom: 4px;\n",
              "    }\n",
              "\n",
              "    [theme=dark] .colab-df-convert {\n",
              "      background-color: #3B4455;\n",
              "      fill: #D2E3FC;\n",
              "    }\n",
              "\n",
              "    [theme=dark] .colab-df-convert:hover {\n",
              "      background-color: #434B5C;\n",
              "      box-shadow: 0px 1px 3px 1px rgba(0, 0, 0, 0.15);\n",
              "      filter: drop-shadow(0px 1px 2px rgba(0, 0, 0, 0.3));\n",
              "      fill: #FFFFFF;\n",
              "    }\n",
              "  </style>\n",
              "\n",
              "    <script>\n",
              "      const buttonEl =\n",
              "        document.querySelector('#df-a81b3084-38f2-4f84-9538-dd713e9f9229 button.colab-df-convert');\n",
              "      buttonEl.style.display =\n",
              "        google.colab.kernel.accessAllowed ? 'block' : 'none';\n",
              "\n",
              "      async function convertToInteractive(key) {\n",
              "        const element = document.querySelector('#df-a81b3084-38f2-4f84-9538-dd713e9f9229');\n",
              "        const dataTable =\n",
              "          await google.colab.kernel.invokeFunction('convertToInteractive',\n",
              "                                                    [key], {});\n",
              "        if (!dataTable) return;\n",
              "\n",
              "        const docLinkHtml = 'Like what you see? Visit the ' +\n",
              "          '<a target=\"_blank\" href=https://colab.research.google.com/notebooks/data_table.ipynb>data table notebook</a>'\n",
              "          + ' to learn more about interactive tables.';\n",
              "        element.innerHTML = '';\n",
              "        dataTable['output_type'] = 'display_data';\n",
              "        await google.colab.output.renderOutput(dataTable, element);\n",
              "        const docLink = document.createElement('div');\n",
              "        docLink.innerHTML = docLinkHtml;\n",
              "        element.appendChild(docLink);\n",
              "      }\n",
              "    </script>\n",
              "  </div>\n",
              "\n",
              "\n",
              "<div id=\"df-71686c86-7637-40b7-b686-3385a69821cd\">\n",
              "  <button class=\"colab-df-quickchart\" onclick=\"quickchart('df-71686c86-7637-40b7-b686-3385a69821cd')\"\n",
              "            title=\"Suggest charts.\"\n",
              "            style=\"display:none;\">\n",
              "\n",
              "<svg xmlns=\"http://www.w3.org/2000/svg\" height=\"24px\"viewBox=\"0 0 24 24\"\n",
              "     width=\"24px\">\n",
              "    <g>\n",
              "        <path d=\"M19 3H5c-1.1 0-2 .9-2 2v14c0 1.1.9 2 2 2h14c1.1 0 2-.9 2-2V5c0-1.1-.9-2-2-2zM9 17H7v-7h2v7zm4 0h-2V7h2v10zm4 0h-2v-4h2v4z\"/>\n",
              "    </g>\n",
              "</svg>\n",
              "  </button>\n",
              "\n",
              "<style>\n",
              "  .colab-df-quickchart {\n",
              "      --bg-color: #E8F0FE;\n",
              "      --fill-color: #1967D2;\n",
              "      --hover-bg-color: #E2EBFA;\n",
              "      --hover-fill-color: #174EA6;\n",
              "      --disabled-fill-color: #AAA;\n",
              "      --disabled-bg-color: #DDD;\n",
              "  }\n",
              "\n",
              "  [theme=dark] .colab-df-quickchart {\n",
              "      --bg-color: #3B4455;\n",
              "      --fill-color: #D2E3FC;\n",
              "      --hover-bg-color: #434B5C;\n",
              "      --hover-fill-color: #FFFFFF;\n",
              "      --disabled-bg-color: #3B4455;\n",
              "      --disabled-fill-color: #666;\n",
              "  }\n",
              "\n",
              "  .colab-df-quickchart {\n",
              "    background-color: var(--bg-color);\n",
              "    border: none;\n",
              "    border-radius: 50%;\n",
              "    cursor: pointer;\n",
              "    display: none;\n",
              "    fill: var(--fill-color);\n",
              "    height: 32px;\n",
              "    padding: 0;\n",
              "    width: 32px;\n",
              "  }\n",
              "\n",
              "  .colab-df-quickchart:hover {\n",
              "    background-color: var(--hover-bg-color);\n",
              "    box-shadow: 0 1px 2px rgba(60, 64, 67, 0.3), 0 1px 3px 1px rgba(60, 64, 67, 0.15);\n",
              "    fill: var(--button-hover-fill-color);\n",
              "  }\n",
              "\n",
              "  .colab-df-quickchart-complete:disabled,\n",
              "  .colab-df-quickchart-complete:disabled:hover {\n",
              "    background-color: var(--disabled-bg-color);\n",
              "    fill: var(--disabled-fill-color);\n",
              "    box-shadow: none;\n",
              "  }\n",
              "\n",
              "  .colab-df-spinner {\n",
              "    border: 2px solid var(--fill-color);\n",
              "    border-color: transparent;\n",
              "    border-bottom-color: var(--fill-color);\n",
              "    animation:\n",
              "      spin 1s steps(1) infinite;\n",
              "  }\n",
              "\n",
              "  @keyframes spin {\n",
              "    0% {\n",
              "      border-color: transparent;\n",
              "      border-bottom-color: var(--fill-color);\n",
              "      border-left-color: var(--fill-color);\n",
              "    }\n",
              "    20% {\n",
              "      border-color: transparent;\n",
              "      border-left-color: var(--fill-color);\n",
              "      border-top-color: var(--fill-color);\n",
              "    }\n",
              "    30% {\n",
              "      border-color: transparent;\n",
              "      border-left-color: var(--fill-color);\n",
              "      border-top-color: var(--fill-color);\n",
              "      border-right-color: var(--fill-color);\n",
              "    }\n",
              "    40% {\n",
              "      border-color: transparent;\n",
              "      border-right-color: var(--fill-color);\n",
              "      border-top-color: var(--fill-color);\n",
              "    }\n",
              "    60% {\n",
              "      border-color: transparent;\n",
              "      border-right-color: var(--fill-color);\n",
              "    }\n",
              "    80% {\n",
              "      border-color: transparent;\n",
              "      border-right-color: var(--fill-color);\n",
              "      border-bottom-color: var(--fill-color);\n",
              "    }\n",
              "    90% {\n",
              "      border-color: transparent;\n",
              "      border-bottom-color: var(--fill-color);\n",
              "    }\n",
              "  }\n",
              "</style>\n",
              "\n",
              "  <script>\n",
              "    async function quickchart(key) {\n",
              "      const quickchartButtonEl =\n",
              "        document.querySelector('#' + key + ' button');\n",
              "      quickchartButtonEl.disabled = true;  // To prevent multiple clicks.\n",
              "      quickchartButtonEl.classList.add('colab-df-spinner');\n",
              "      try {\n",
              "        const charts = await google.colab.kernel.invokeFunction(\n",
              "            'suggestCharts', [key], {});\n",
              "      } catch (error) {\n",
              "        console.error('Error during call to suggestCharts:', error);\n",
              "      }\n",
              "      quickchartButtonEl.classList.remove('colab-df-spinner');\n",
              "      quickchartButtonEl.classList.add('colab-df-quickchart-complete');\n",
              "    }\n",
              "    (() => {\n",
              "      let quickchartButtonEl =\n",
              "        document.querySelector('#df-71686c86-7637-40b7-b686-3385a69821cd button');\n",
              "      quickchartButtonEl.style.display =\n",
              "        google.colab.kernel.accessAllowed ? 'block' : 'none';\n",
              "    })();\n",
              "  </script>\n",
              "</div>\n",
              "    </div>\n",
              "  </div>\n"
            ]
          },
          "metadata": {},
          "execution_count": 97
        }
      ]
    },
    {
      "cell_type": "code",
      "source": [
        "tensor_df.index=merged_df.index"
      ],
      "metadata": {
        "id": "hBn3dyGDIekZ"
      },
      "execution_count": null,
      "outputs": []
    },
    {
      "cell_type": "code",
      "source": [
        "# .reset_index(drop=True, inplace=True)\n",
        "merged_df.reset_index(drop=True)"
      ],
      "metadata": {
        "colab": {
          "base_uri": "https://localhost:8080/",
          "height": 423
        },
        "id": "LMcOuZy_IHMO",
        "outputId": "14eef074-ce20-4fe9-c2b3-dd43598501a5"
      },
      "execution_count": null,
      "outputs": [
        {
          "output_type": "execute_result",
          "data": {
            "text/plain": [
              "       Indicator                                              Title  \\\n",
              "0              1  Budget 2017 : Balancing growth with fiscal pru...   \n",
              "1              1                                  Union Budget 2017   \n",
              "2              1  Technical Analysis Premium Mailer : Premium St...   \n",
              "3              1     ICICI Bank resumes UPI transactions on PhonePe   \n",
              "4              1                                        Mcap of BSE   \n",
              "...          ...                                                ...   \n",
              "13636         -1  Nifty : Nifty may trade in 17 , 777 - 18 , 250...   \n",
              "13637         -1  Best tax saving options : Comparison of 10 inv...   \n",
              "13638          1  Trade setup for Monday : Top 15 things to know...   \n",
              "13639          1  Lenders likely to post robust Q4 numbers ; PSU...   \n",
              "13640          1  Mcap of eight of top 10 valued firms climbs Rs...   \n",
              "\n",
              "                                                  tokens  \n",
              "0      [Budget, 2017, :, Balancing, growth, with, fis...  \n",
              "1                                  [Union, Budget, 2017]  \n",
              "2      [Technical, Analysis, Premium, Mailer, :, Prem...  \n",
              "3      [ICICI, Bank, resumes, UPI, transactions, on, ...  \n",
              "4                                        [Mcap, of, BSE]  \n",
              "...                                                  ...  \n",
              "13636  [Nifty, :, Nifty, may, trade, in, 17, ,, 777, ...  \n",
              "13637  [Best, tax, saving, options, :, Comparison, of...  \n",
              "13638  [Trade, setup, for, Monday, :, Top, 15, things...  \n",
              "13639  [Lenders, likely, to, post, robust, Q4, number...  \n",
              "13640  [Mcap, of, eight, of, top, 10, valued, firms, ...  \n",
              "\n",
              "[13641 rows x 3 columns]"
            ],
            "text/html": [
              "\n",
              "  <div id=\"df-687c72c1-75ff-4889-92d4-9970fa39127b\" class=\"colab-df-container\">\n",
              "    <div>\n",
              "<style scoped>\n",
              "    .dataframe tbody tr th:only-of-type {\n",
              "        vertical-align: middle;\n",
              "    }\n",
              "\n",
              "    .dataframe tbody tr th {\n",
              "        vertical-align: top;\n",
              "    }\n",
              "\n",
              "    .dataframe thead th {\n",
              "        text-align: right;\n",
              "    }\n",
              "</style>\n",
              "<table border=\"1\" class=\"dataframe\">\n",
              "  <thead>\n",
              "    <tr style=\"text-align: right;\">\n",
              "      <th></th>\n",
              "      <th>Indicator</th>\n",
              "      <th>Title</th>\n",
              "      <th>tokens</th>\n",
              "    </tr>\n",
              "  </thead>\n",
              "  <tbody>\n",
              "    <tr>\n",
              "      <th>0</th>\n",
              "      <td>1</td>\n",
              "      <td>Budget 2017 : Balancing growth with fiscal pru...</td>\n",
              "      <td>[Budget, 2017, :, Balancing, growth, with, fis...</td>\n",
              "    </tr>\n",
              "    <tr>\n",
              "      <th>1</th>\n",
              "      <td>1</td>\n",
              "      <td>Union Budget 2017</td>\n",
              "      <td>[Union, Budget, 2017]</td>\n",
              "    </tr>\n",
              "    <tr>\n",
              "      <th>2</th>\n",
              "      <td>1</td>\n",
              "      <td>Technical Analysis Premium Mailer : Premium St...</td>\n",
              "      <td>[Technical, Analysis, Premium, Mailer, :, Prem...</td>\n",
              "    </tr>\n",
              "    <tr>\n",
              "      <th>3</th>\n",
              "      <td>1</td>\n",
              "      <td>ICICI Bank resumes UPI transactions on PhonePe</td>\n",
              "      <td>[ICICI, Bank, resumes, UPI, transactions, on, ...</td>\n",
              "    </tr>\n",
              "    <tr>\n",
              "      <th>4</th>\n",
              "      <td>1</td>\n",
              "      <td>Mcap of BSE</td>\n",
              "      <td>[Mcap, of, BSE]</td>\n",
              "    </tr>\n",
              "    <tr>\n",
              "      <th>...</th>\n",
              "      <td>...</td>\n",
              "      <td>...</td>\n",
              "      <td>...</td>\n",
              "    </tr>\n",
              "    <tr>\n",
              "      <th>13636</th>\n",
              "      <td>-1</td>\n",
              "      <td>Nifty : Nifty may trade in 17 , 777 - 18 , 250...</td>\n",
              "      <td>[Nifty, :, Nifty, may, trade, in, 17, ,, 777, ...</td>\n",
              "    </tr>\n",
              "    <tr>\n",
              "      <th>13637</th>\n",
              "      <td>-1</td>\n",
              "      <td>Best tax saving options : Comparison of 10 inv...</td>\n",
              "      <td>[Best, tax, saving, options, :, Comparison, of...</td>\n",
              "    </tr>\n",
              "    <tr>\n",
              "      <th>13638</th>\n",
              "      <td>1</td>\n",
              "      <td>Trade setup for Monday : Top 15 things to know...</td>\n",
              "      <td>[Trade, setup, for, Monday, :, Top, 15, things...</td>\n",
              "    </tr>\n",
              "    <tr>\n",
              "      <th>13639</th>\n",
              "      <td>1</td>\n",
              "      <td>Lenders likely to post robust Q4 numbers ; PSU...</td>\n",
              "      <td>[Lenders, likely, to, post, robust, Q4, number...</td>\n",
              "    </tr>\n",
              "    <tr>\n",
              "      <th>13640</th>\n",
              "      <td>1</td>\n",
              "      <td>Mcap of eight of top 10 valued firms climbs Rs...</td>\n",
              "      <td>[Mcap, of, eight, of, top, 10, valued, firms, ...</td>\n",
              "    </tr>\n",
              "  </tbody>\n",
              "</table>\n",
              "<p>13641 rows × 3 columns</p>\n",
              "</div>\n",
              "    <div class=\"colab-df-buttons\">\n",
              "\n",
              "  <div class=\"colab-df-container\">\n",
              "    <button class=\"colab-df-convert\" onclick=\"convertToInteractive('df-687c72c1-75ff-4889-92d4-9970fa39127b')\"\n",
              "            title=\"Convert this dataframe to an interactive table.\"\n",
              "            style=\"display:none;\">\n",
              "\n",
              "  <svg xmlns=\"http://www.w3.org/2000/svg\" height=\"24px\" viewBox=\"0 -960 960 960\">\n",
              "    <path d=\"M120-120v-720h720v720H120Zm60-500h600v-160H180v160Zm220 220h160v-160H400v160Zm0 220h160v-160H400v160ZM180-400h160v-160H180v160Zm440 0h160v-160H620v160ZM180-180h160v-160H180v160Zm440 0h160v-160H620v160Z\"/>\n",
              "  </svg>\n",
              "    </button>\n",
              "\n",
              "  <style>\n",
              "    .colab-df-container {\n",
              "      display:flex;\n",
              "      gap: 12px;\n",
              "    }\n",
              "\n",
              "    .colab-df-convert {\n",
              "      background-color: #E8F0FE;\n",
              "      border: none;\n",
              "      border-radius: 50%;\n",
              "      cursor: pointer;\n",
              "      display: none;\n",
              "      fill: #1967D2;\n",
              "      height: 32px;\n",
              "      padding: 0 0 0 0;\n",
              "      width: 32px;\n",
              "    }\n",
              "\n",
              "    .colab-df-convert:hover {\n",
              "      background-color: #E2EBFA;\n",
              "      box-shadow: 0px 1px 2px rgba(60, 64, 67, 0.3), 0px 1px 3px 1px rgba(60, 64, 67, 0.15);\n",
              "      fill: #174EA6;\n",
              "    }\n",
              "\n",
              "    .colab-df-buttons div {\n",
              "      margin-bottom: 4px;\n",
              "    }\n",
              "\n",
              "    [theme=dark] .colab-df-convert {\n",
              "      background-color: #3B4455;\n",
              "      fill: #D2E3FC;\n",
              "    }\n",
              "\n",
              "    [theme=dark] .colab-df-convert:hover {\n",
              "      background-color: #434B5C;\n",
              "      box-shadow: 0px 1px 3px 1px rgba(0, 0, 0, 0.15);\n",
              "      filter: drop-shadow(0px 1px 2px rgba(0, 0, 0, 0.3));\n",
              "      fill: #FFFFFF;\n",
              "    }\n",
              "  </style>\n",
              "\n",
              "    <script>\n",
              "      const buttonEl =\n",
              "        document.querySelector('#df-687c72c1-75ff-4889-92d4-9970fa39127b button.colab-df-convert');\n",
              "      buttonEl.style.display =\n",
              "        google.colab.kernel.accessAllowed ? 'block' : 'none';\n",
              "\n",
              "      async function convertToInteractive(key) {\n",
              "        const element = document.querySelector('#df-687c72c1-75ff-4889-92d4-9970fa39127b');\n",
              "        const dataTable =\n",
              "          await google.colab.kernel.invokeFunction('convertToInteractive',\n",
              "                                                    [key], {});\n",
              "        if (!dataTable) return;\n",
              "\n",
              "        const docLinkHtml = 'Like what you see? Visit the ' +\n",
              "          '<a target=\"_blank\" href=https://colab.research.google.com/notebooks/data_table.ipynb>data table notebook</a>'\n",
              "          + ' to learn more about interactive tables.';\n",
              "        element.innerHTML = '';\n",
              "        dataTable['output_type'] = 'display_data';\n",
              "        await google.colab.output.renderOutput(dataTable, element);\n",
              "        const docLink = document.createElement('div');\n",
              "        docLink.innerHTML = docLinkHtml;\n",
              "        element.appendChild(docLink);\n",
              "      }\n",
              "    </script>\n",
              "  </div>\n",
              "\n",
              "\n",
              "<div id=\"df-2deaa4fc-51f4-4a4c-90e9-39b3f2dec1da\">\n",
              "  <button class=\"colab-df-quickchart\" onclick=\"quickchart('df-2deaa4fc-51f4-4a4c-90e9-39b3f2dec1da')\"\n",
              "            title=\"Suggest charts.\"\n",
              "            style=\"display:none;\">\n",
              "\n",
              "<svg xmlns=\"http://www.w3.org/2000/svg\" height=\"24px\"viewBox=\"0 0 24 24\"\n",
              "     width=\"24px\">\n",
              "    <g>\n",
              "        <path d=\"M19 3H5c-1.1 0-2 .9-2 2v14c0 1.1.9 2 2 2h14c1.1 0 2-.9 2-2V5c0-1.1-.9-2-2-2zM9 17H7v-7h2v7zm4 0h-2V7h2v10zm4 0h-2v-4h2v4z\"/>\n",
              "    </g>\n",
              "</svg>\n",
              "  </button>\n",
              "\n",
              "<style>\n",
              "  .colab-df-quickchart {\n",
              "      --bg-color: #E8F0FE;\n",
              "      --fill-color: #1967D2;\n",
              "      --hover-bg-color: #E2EBFA;\n",
              "      --hover-fill-color: #174EA6;\n",
              "      --disabled-fill-color: #AAA;\n",
              "      --disabled-bg-color: #DDD;\n",
              "  }\n",
              "\n",
              "  [theme=dark] .colab-df-quickchart {\n",
              "      --bg-color: #3B4455;\n",
              "      --fill-color: #D2E3FC;\n",
              "      --hover-bg-color: #434B5C;\n",
              "      --hover-fill-color: #FFFFFF;\n",
              "      --disabled-bg-color: #3B4455;\n",
              "      --disabled-fill-color: #666;\n",
              "  }\n",
              "\n",
              "  .colab-df-quickchart {\n",
              "    background-color: var(--bg-color);\n",
              "    border: none;\n",
              "    border-radius: 50%;\n",
              "    cursor: pointer;\n",
              "    display: none;\n",
              "    fill: var(--fill-color);\n",
              "    height: 32px;\n",
              "    padding: 0;\n",
              "    width: 32px;\n",
              "  }\n",
              "\n",
              "  .colab-df-quickchart:hover {\n",
              "    background-color: var(--hover-bg-color);\n",
              "    box-shadow: 0 1px 2px rgba(60, 64, 67, 0.3), 0 1px 3px 1px rgba(60, 64, 67, 0.15);\n",
              "    fill: var(--button-hover-fill-color);\n",
              "  }\n",
              "\n",
              "  .colab-df-quickchart-complete:disabled,\n",
              "  .colab-df-quickchart-complete:disabled:hover {\n",
              "    background-color: var(--disabled-bg-color);\n",
              "    fill: var(--disabled-fill-color);\n",
              "    box-shadow: none;\n",
              "  }\n",
              "\n",
              "  .colab-df-spinner {\n",
              "    border: 2px solid var(--fill-color);\n",
              "    border-color: transparent;\n",
              "    border-bottom-color: var(--fill-color);\n",
              "    animation:\n",
              "      spin 1s steps(1) infinite;\n",
              "  }\n",
              "\n",
              "  @keyframes spin {\n",
              "    0% {\n",
              "      border-color: transparent;\n",
              "      border-bottom-color: var(--fill-color);\n",
              "      border-left-color: var(--fill-color);\n",
              "    }\n",
              "    20% {\n",
              "      border-color: transparent;\n",
              "      border-left-color: var(--fill-color);\n",
              "      border-top-color: var(--fill-color);\n",
              "    }\n",
              "    30% {\n",
              "      border-color: transparent;\n",
              "      border-left-color: var(--fill-color);\n",
              "      border-top-color: var(--fill-color);\n",
              "      border-right-color: var(--fill-color);\n",
              "    }\n",
              "    40% {\n",
              "      border-color: transparent;\n",
              "      border-right-color: var(--fill-color);\n",
              "      border-top-color: var(--fill-color);\n",
              "    }\n",
              "    60% {\n",
              "      border-color: transparent;\n",
              "      border-right-color: var(--fill-color);\n",
              "    }\n",
              "    80% {\n",
              "      border-color: transparent;\n",
              "      border-right-color: var(--fill-color);\n",
              "      border-bottom-color: var(--fill-color);\n",
              "    }\n",
              "    90% {\n",
              "      border-color: transparent;\n",
              "      border-bottom-color: var(--fill-color);\n",
              "    }\n",
              "  }\n",
              "</style>\n",
              "\n",
              "  <script>\n",
              "    async function quickchart(key) {\n",
              "      const quickchartButtonEl =\n",
              "        document.querySelector('#' + key + ' button');\n",
              "      quickchartButtonEl.disabled = true;  // To prevent multiple clicks.\n",
              "      quickchartButtonEl.classList.add('colab-df-spinner');\n",
              "      try {\n",
              "        const charts = await google.colab.kernel.invokeFunction(\n",
              "            'suggestCharts', [key], {});\n",
              "      } catch (error) {\n",
              "        console.error('Error during call to suggestCharts:', error);\n",
              "      }\n",
              "      quickchartButtonEl.classList.remove('colab-df-spinner');\n",
              "      quickchartButtonEl.classList.add('colab-df-quickchart-complete');\n",
              "    }\n",
              "    (() => {\n",
              "      let quickchartButtonEl =\n",
              "        document.querySelector('#df-2deaa4fc-51f4-4a4c-90e9-39b3f2dec1da button');\n",
              "      quickchartButtonEl.style.display =\n",
              "        google.colab.kernel.accessAllowed ? 'block' : 'none';\n",
              "    })();\n",
              "  </script>\n",
              "</div>\n",
              "    </div>\n",
              "  </div>\n"
            ]
          },
          "metadata": {},
          "execution_count": 96
        }
      ]
    },
    {
      "cell_type": "code",
      "source": [
        "result_df = pd.concat([merged_df, tensor_df], axis=1)"
      ],
      "metadata": {
        "id": "-IkKJqOqH1k0"
      },
      "execution_count": null,
      "outputs": []
    },
    {
      "cell_type": "code",
      "source": [
        "print(result_df[10:35])"
      ],
      "metadata": {
        "colab": {
          "base_uri": "https://localhost:8080/"
        },
        "id": "W7ACakGvIl_E",
        "outputId": "5282704e-4b33-46b1-aa75-71af1e0ef49d"
      },
      "execution_count": null,
      "outputs": [
        {
          "output_type": "stream",
          "name": "stdout",
          "text": [
            "            Mpos  Mneg  Formula_Result_x  Formula_Result_y\n",
            "2017-01-02   1.0   0.0               1.0          1.000000\n",
            "2017-01-02   1.0   0.0               1.0          1.000000\n",
            "2017-01-02   1.0   0.0               1.0          1.000000\n",
            "2017-01-02   1.0   0.0               1.0          1.000000\n",
            "2017-01-02   1.0   0.0               1.0          1.000000\n",
            "2017-01-02   1.0   0.0               1.0          1.000000\n",
            "2017-01-02   1.0   0.0               1.0          1.000000\n",
            "2017-01-02   1.0   0.0               1.0          1.000000\n",
            "2017-01-03   0.0   1.0              -1.0         -0.846154\n",
            "2017-01-03   0.0   1.0              -1.0         -0.846154\n",
            "2017-01-03   1.0   0.0               1.0         -0.846154\n",
            "2017-01-03   0.0   1.0              -1.0         -0.846154\n",
            "2017-01-03   0.0   1.0              -1.0         -0.846154\n",
            "2017-01-03   0.0   1.0              -1.0         -0.846154\n",
            "2017-01-03   0.0   1.0              -1.0         -0.846154\n",
            "2017-01-03   0.0   1.0              -1.0         -0.846154\n",
            "2017-01-03   0.0   1.0              -1.0         -0.846154\n",
            "2017-01-03   0.0   1.0              -1.0         -0.846154\n",
            "2017-01-03   0.0   1.0              -1.0         -0.846154\n",
            "2017-01-03   0.0   1.0              -1.0         -0.846154\n",
            "2017-01-03   0.0   1.0              -1.0         -0.846154\n",
            "2017-01-04   1.0   0.0               1.0          1.000000\n",
            "2017-01-04   1.0   0.0               1.0          1.000000\n",
            "2017-01-04   1.0   0.0               1.0          1.000000\n",
            "2017-01-04   1.0   0.0               1.0          1.000000\n"
          ]
        }
      ]
    },
    {
      "cell_type": "code",
      "source": [
        "result_df=result_df.drop(['Indicator','Title','tokens'],axis=1)"
      ],
      "metadata": {
        "id": "MrACKLGUI2Vs"
      },
      "execution_count": null,
      "outputs": []
    },
    {
      "cell_type": "code",
      "source": [
        "formula_results = result_df.groupby(result_df.index).apply(lambda group: (group['Mpos'].sum() - group['Mneg'].sum()) / (group['Mpos'].sum() + group['Mneg'].sum()))\n",
        "\n",
        "# Create a new DataFrame with unique dates and their corresponding formula results\n",
        "unique_dates = result_df.index.unique()\n",
        "new_df = pd.DataFrame({'Date': unique_dates, 'Formula_Result': formula_results})"
      ],
      "metadata": {
        "id": "SKqeUislKqn-"
      },
      "execution_count": null,
      "outputs": []
    },
    {
      "cell_type": "code",
      "source": [
        "print(new_df)"
      ],
      "metadata": {
        "colab": {
          "base_uri": "https://localhost:8080/"
        },
        "id": "8OGtwQrmq3Mg",
        "outputId": "979fe251-2226-4c5c-c85e-a3dd2174a708"
      },
      "execution_count": null,
      "outputs": [
        {
          "output_type": "stream",
          "name": "stdout",
          "text": [
            "                  Date  Formula_Result\n",
            "2017-01-02  2017-01-02        1.000000\n",
            "2017-01-03  2017-01-03       -0.846154\n",
            "2017-01-04  2017-01-04        1.000000\n",
            "2017-01-05  2017-01-05       -1.000000\n",
            "2017-01-06  2017-01-06        0.888889\n",
            "...                ...             ...\n",
            "2023-08-02  2023-08-02       -1.000000\n",
            "2023-08-03  2023-08-03        0.600000\n",
            "2023-08-04  2023-08-04       -1.000000\n",
            "2023-09-01  2023-09-01       -0.800000\n",
            "2023-09-04  2023-09-04        0.333333\n",
            "\n",
            "[1243 rows x 2 columns]\n"
          ]
        }
      ]
    },
    {
      "cell_type": "code",
      "source": [
        "new_df.to_csv('ICICI_Sentiments.csv', index=False)"
      ],
      "metadata": {
        "id": "A4_eMviCMOpH"
      },
      "execution_count": null,
      "outputs": []
    },
    {
      "cell_type": "code",
      "source": [
        "y_res = np.where(y_pred[:, 0] > y_pred[:, 1], 1, -1)"
      ],
      "metadata": {
        "id": "q9vwMJj1q6eT"
      },
      "execution_count": null,
      "outputs": []
    },
    {
      "cell_type": "code",
      "source": [
        "df = pd.DataFrame(y_res, columns=['sentiment'])\n"
      ],
      "metadata": {
        "id": "dYAz9CR6rbGv"
      },
      "execution_count": null,
      "outputs": []
    },
    {
      "cell_type": "code",
      "source": [
        "news_test.insert(loc=1, column='sentiments', value=df)"
      ],
      "metadata": {
        "id": "Hg5CsFJpr8Td"
      },
      "execution_count": null,
      "outputs": []
    },
    {
      "cell_type": "code",
      "source": [
        "print(news_test.head())"
      ],
      "metadata": {
        "colab": {
          "base_uri": "https://localhost:8080/"
        },
        "id": "SKsTQMX6sNTT",
        "outputId": "062e7b06-bc83-4cd9-8631-7ce490d749d6"
      },
      "execution_count": null,
      "outputs": [
        {
          "output_type": "stream",
          "name": "stdout",
          "text": [
            "             Date  sentiments  \\\n",
            "190575 2021-05-01         NaN   \n",
            "190576 2021-05-01         NaN   \n",
            "190577 2021-05-01         NaN   \n",
            "190578 2021-05-01         NaN   \n",
            "190579 2021-05-01         NaN   \n",
            "\n",
            "                                                    Title  sentiment  \\\n",
            "190575  recovery : Economy likely to maintain V - shap...          1   \n",
            "190576  Assam government plans to extend two - wheeler...         -1   \n",
            "190577  Prime Minister Narendra Modi set to brainstorm...          1   \n",
            "190578  Joe Biden : Asia Society urges Joe Biden to ex...          1   \n",
            "190579  Haryana government set to provide one percent ...         -1   \n",
            "\n",
            "                                                   tokens  \n",
            "190575  [recovery, :, Economy, likely, to, maintain, V...  \n",
            "190576  [Assam, government, plans, to, extend, two, -,...  \n",
            "190577  [Prime, Minister, Narendra, Modi, set, to, bra...  \n",
            "190578  [Joe, Biden, :, Asia, Society, urges, Joe, Bid...  \n",
            "190579  [Haryana, government, set, to, provide, one, p...  \n"
          ]
        }
      ]
    },
    {
      "cell_type": "code",
      "source": [
        "news=news.drop(['Title','tokens'],axis=1)"
      ],
      "metadata": {
        "id": "cnlOlJk-sQlu"
      },
      "execution_count": null,
      "outputs": []
    },
    {
      "cell_type": "code",
      "source": [
        "print(news)"
      ],
      "metadata": {
        "colab": {
          "base_uri": "https://localhost:8080/"
        },
        "id": "r6IUvSefsmMi",
        "outputId": "291d9903-1295-48bd-e5e9-02f854a4b833"
      },
      "execution_count": null,
      "outputs": [
        {
          "output_type": "stream",
          "name": "stdout",
          "text": [
            "             Date  sentiment\n",
            "0      2017-05-01          1\n",
            "1      2017-05-01         -1\n",
            "2      2017-05-01          1\n",
            "3      2017-05-01         -1\n",
            "4      2017-05-01          1\n",
            "...           ...        ...\n",
            "200495 2021-12-04          1\n",
            "200496 2021-11-04         -1\n",
            "200497 2021-11-04         -1\n",
            "200498 2021-11-04          1\n",
            "200499 2021-11-04         -1\n",
            "\n",
            "[200500 rows x 2 columns]\n"
          ]
        }
      ]
    },
    {
      "cell_type": "code",
      "source": [
        "agg_df = news.groupby('Date').agg(pos=('sentiment', lambda x: sum(x == 1)),\n",
        "                                neg=('sentiment', lambda x: sum(x == -1)))"
      ],
      "metadata": {
        "id": "2Y6pXyGwsy5B"
      },
      "execution_count": null,
      "outputs": []
    },
    {
      "cell_type": "code",
      "source": [
        "agg_df['ratio'] = (agg_df['pos'] - agg_df['neg']) / (agg_df['pos'] + agg_df['neg'])\n"
      ],
      "metadata": {
        "id": "Xc-sWmyotbg4"
      },
      "execution_count": null,
      "outputs": []
    },
    {
      "cell_type": "code",
      "source": [
        "print(agg_df)"
      ],
      "metadata": {
        "colab": {
          "base_uri": "https://localhost:8080/"
        },
        "id": "xEIgcZvYtraI",
        "outputId": "6aeb34f5-88a4-4e22-84ee-ffc609e6643b"
      },
      "execution_count": null,
      "outputs": [
        {
          "output_type": "stream",
          "name": "stdout",
          "text": [
            "               ratio\n",
            "Date                \n",
            "2017-01-01 -0.166667\n",
            "2017-01-02  0.067227\n",
            "2017-01-03 -0.091787\n",
            "2017-01-04 -0.142857\n",
            "2017-01-05 -0.034483\n",
            "...              ...\n",
            "2021-11-04 -0.333333\n",
            "2021-12-01 -0.153846\n",
            "2021-12-02 -0.150000\n",
            "2021-12-03 -0.245902\n",
            "2021-12-04 -0.015385\n",
            "\n",
            "[1554 rows x 1 columns]\n"
          ]
        }
      ]
    },
    {
      "cell_type": "code",
      "source": [
        "agg_df=agg_df.drop(['pos','neg'],axis=1)"
      ],
      "metadata": {
        "id": "5Dz-ttVUttB1"
      },
      "execution_count": null,
      "outputs": []
    },
    {
      "cell_type": "code",
      "source": [
        "csv_filename = 'output.csv'\n",
        "agg_df.to_csv(csv_filename)"
      ],
      "metadata": {
        "id": "U6bQWx-zt4wx"
      },
      "execution_count": null,
      "outputs": []
    },
    {
      "cell_type": "code",
      "source": [],
      "metadata": {
        "id": "PgzeAMOduG0u"
      },
      "execution_count": null,
      "outputs": []
    }
  ]
}