{
  "nbformat": 4,
  "nbformat_minor": 0,
  "metadata": {
    "colab": {
      "provenance": [],
      "gpuType": "T4"
    },
    "kernelspec": {
      "name": "python3",
      "display_name": "Python 3"
    },
    "language_info": {
      "name": "python"
    },
    "accelerator": "GPU"
  },
  "cells": [
    {
      "cell_type": "code",
      "execution_count": null,
      "metadata": {
        "colab": {
          "base_uri": "https://localhost:8080/"
        },
        "id": "ObxpyhdrM1H4",
        "outputId": "825cd158-4f9e-4ad9-d327-167f356705db"
      },
      "outputs": [
        {
          "output_type": "stream",
          "name": "stdout",
          "text": [
            "[*********************100%%**********************]  1 of 1 completed\n",
            "[*********************100%%**********************]  1 of 1 completed\n",
            "Nifty Bank Historical Data:\n",
            "                    Open          High           Low         Close  \\\n",
            "Date                                                                 \n",
            "2017-01-03  18002.750000  18115.050781  17830.949219  18035.599609   \n",
            "2017-01-04  18037.449219  18092.849609  17868.900391  17891.000000   \n",
            "2017-01-05  18000.750000  18164.050781  17977.800781  18115.949219   \n",
            "2017-01-06  18168.449219  18325.500000  18157.300781  18264.000000   \n",
            "2017-01-09  18314.250000  18373.099609  18256.150391  18286.650391   \n",
            "...                  ...           ...           ...           ...   \n",
            "2023-08-29  44655.750000  44673.000000  44429.800781  44495.250000   \n",
            "2023-08-30  44706.550781  44779.648438  44149.800781  44232.601562   \n",
            "2023-08-31  44265.851562  44399.648438  43895.050781  43989.148438   \n",
            "2023-09-01  43996.101562  44568.550781  43830.750000  44436.101562   \n",
            "2023-09-04  44647.648438  44656.050781  44310.949219  44578.300781   \n",
            "\n",
            "               Adj Close  Volume  \n",
            "Date                              \n",
            "2017-01-03  18035.390625       0  \n",
            "2017-01-04  17890.792969       0  \n",
            "2017-01-05  18115.738281       0  \n",
            "2017-01-06  18263.787109       0  \n",
            "2017-01-09  18286.437500       0  \n",
            "...                  ...     ...  \n",
            "2023-08-29  44495.250000  140300  \n",
            "2023-08-30  44232.601562  153100  \n",
            "2023-08-31  43989.148438  705100  \n",
            "2023-09-01  44436.101562  320800  \n",
            "2023-09-04  44578.300781       0  \n",
            "\n",
            "[1642 rows x 6 columns]\n",
            "\n",
            "ICICI Bank Historical Data:\n",
            "                  Open        High         Low       Close   Adj Close  \\\n",
            "Date                                                                     \n",
            "2017-01-02  233.000000  233.000000  225.545456  229.045456  217.088394   \n",
            "2017-01-03  229.181824  232.181824  226.636368  231.272720  219.199371   \n",
            "2017-01-04  231.136368  232.500000  227.636368  228.272720  216.355988   \n",
            "2017-01-05  230.181824  235.000000  229.272720  233.863632  221.655029   \n",
            "2017-01-06  234.772720  237.636368  233.818176  234.681824  222.430527   \n",
            "...                ...         ...         ...         ...         ...   \n",
            "2023-08-29  973.299988  977.250000  965.650024  967.750000  967.750000   \n",
            "2023-08-30  970.450012  975.900024  955.400024  958.900024  958.900024   \n",
            "2023-08-31  960.000000  966.200012  954.049988  958.750000  958.750000   \n",
            "2023-09-01  956.900024  973.049988  952.799988  968.700012  968.700012   \n",
            "2023-09-04  968.700012  969.049988  960.549988  967.349976  967.349976   \n",
            "\n",
            "              Volume  \n",
            "Date                  \n",
            "2017-01-02  10404350  \n",
            "2017-01-03  10236706  \n",
            "2017-01-04   6901181  \n",
            "2017-01-05  13830668  \n",
            "2017-01-06   9055143  \n",
            "...              ...  \n",
            "2023-08-29  13209913  \n",
            "2023-08-30  13936165  \n",
            "2023-08-31  36675400  \n",
            "2023-09-01  16268147  \n",
            "2023-09-04   9512303  \n",
            "\n",
            "[1651 rows x 6 columns]\n"
          ]
        }
      ],
      "source": [
        "import yfinance as yf\n",
        "\n",
        "# Define the ticker symbols\n",
        "nifty_bank_symbol = \"^NSEBANK\"  # Nifty Bank index symbol\n",
        "icici_bank_symbol = \"ICICIBANK.NS\"  # ICICI Bank stock symbol\n",
        "\n",
        "# Set the date range\n",
        "start_date = \"2017-01-01\"\n",
        "end_date = \"2023-12-12\"\n",
        "\n",
        "# Fetch historical data using yfinance\n",
        "nifty_bank_data = yf.download(nifty_bank_symbol, start=start_date, end=end_date)\n",
        "icici_bank_data = yf.download(icici_bank_symbol, start=start_date, end=end_date)\n",
        "\n",
        "# Print the fetched data\n",
        "print(\"Nifty Bank Historical Data:\")\n",
        "print(nifty_bank_data)\n",
        "\n",
        "print(\"\\nICICI Bank Historical Data:\")\n",
        "print(icici_bank_data)\n"
      ]
    },
    {
      "cell_type": "code",
      "source": [
        "import pandas as pd\n",
        "nifty_bank_data.reset_index(inplace=True)\n",
        "icici_bank_data.reset_index(inplace=True)\n",
        "\n",
        "# Merge dataframes on 'Date'\n",
        "merged_data = pd.merge(nifty_bank_data, icici_bank_data, on='Date', how='inner')\n",
        "\n",
        "# Print the merged data\n",
        "print(\"Merged Data:\")\n",
        "print(merged_data)"
      ],
      "metadata": {
        "colab": {
          "base_uri": "https://localhost:8080/"
        },
        "id": "79GLPBYFNK-K",
        "outputId": "fd737d9f-dff6-4186-d972-6dd7c8c89cd9"
      },
      "execution_count": null,
      "outputs": [
        {
          "output_type": "stream",
          "name": "stdout",
          "text": [
            "Merged Data:\n",
            "           Date        Open_x        High_x         Low_x       Close_x  \\\n",
            "0    2017-01-03  18002.750000  18115.050781  17830.949219  18035.599609   \n",
            "1    2017-01-04  18037.449219  18092.849609  17868.900391  17891.000000   \n",
            "2    2017-01-05  18000.750000  18164.050781  17977.800781  18115.949219   \n",
            "3    2017-01-06  18168.449219  18325.500000  18157.300781  18264.000000   \n",
            "4    2017-01-09  18314.250000  18373.099609  18256.150391  18286.650391   \n",
            "...         ...           ...           ...           ...           ...   \n",
            "1637 2023-08-29  44655.750000  44673.000000  44429.800781  44495.250000   \n",
            "1638 2023-08-30  44706.550781  44779.648438  44149.800781  44232.601562   \n",
            "1639 2023-08-31  44265.851562  44399.648438  43895.050781  43989.148438   \n",
            "1640 2023-09-01  43996.101562  44568.550781  43830.750000  44436.101562   \n",
            "1641 2023-09-04  44647.648438  44656.050781  44310.949219  44578.300781   \n",
            "\n",
            "       Adj Close_x  Volume_x      Open_y      High_y       Low_y     Close_y  \\\n",
            "0     18035.390625         0  229.181824  232.181824  226.636368  231.272720   \n",
            "1     17890.792969         0  231.136368  232.500000  227.636368  228.272720   \n",
            "2     18115.738281         0  230.181824  235.000000  229.272720  233.863632   \n",
            "3     18263.787109         0  234.772720  237.636368  233.818176  234.681824   \n",
            "4     18286.437500         0  234.454544  236.227264  232.727264  235.181824   \n",
            "...            ...       ...         ...         ...         ...         ...   \n",
            "1637  44495.250000    140300  973.299988  977.250000  965.650024  967.750000   \n",
            "1638  44232.601562    153100  970.450012  975.900024  955.400024  958.900024   \n",
            "1639  43989.148438    705100  960.000000  966.200012  954.049988  958.750000   \n",
            "1640  44436.101562    320800  956.900024  973.049988  952.799988  968.700012   \n",
            "1641  44578.300781         0  968.700012  969.049988  960.549988  967.349976   \n",
            "\n",
            "      Adj Close_y  Volume_y  \n",
            "0      219.199371  10236706  \n",
            "1      216.355988   6901181  \n",
            "2      221.655029  13830668  \n",
            "3      222.430527   9055143  \n",
            "4      222.904434   7875294  \n",
            "...           ...       ...  \n",
            "1637   967.750000  13209913  \n",
            "1638   958.900024  13936165  \n",
            "1639   958.750000  36675400  \n",
            "1640   968.700012  16268147  \n",
            "1641   967.349976   9512303  \n",
            "\n",
            "[1642 rows x 13 columns]\n"
          ]
        }
      ]
    },
    {
      "cell_type": "code",
      "source": [
        "merged_data=merged_data.drop(['Open_x','High_x','Low_x','Adj Close_x','Volume_x','Adj Close_y'],axis=1)"
      ],
      "metadata": {
        "id": "Zk89Uat2OG2O"
      },
      "execution_count": null,
      "outputs": []
    },
    {
      "cell_type": "code",
      "source": [
        "merged_data.set_index('Date', inplace=True)\n"
      ],
      "metadata": {
        "id": "9NqgBZrGQ8ty"
      },
      "execution_count": null,
      "outputs": []
    },
    {
      "cell_type": "code",
      "source": [
        "print(merged_data)"
      ],
      "metadata": {
        "colab": {
          "base_uri": "https://localhost:8080/"
        },
        "id": "QFpW0scDO24b",
        "outputId": "bf2d3a22-a636-4838-be74-5bb5674a3f98"
      },
      "execution_count": null,
      "outputs": [
        {
          "output_type": "stream",
          "name": "stdout",
          "text": [
            "                 Close_x      Open_y      High_y       Low_y     Close_y  \\\n",
            "Date                                                                       \n",
            "2017-01-03  18035.599609  229.181824  232.181824  226.636368  231.272720   \n",
            "2017-01-04  17891.000000  231.136368  232.500000  227.636368  228.272720   \n",
            "2017-01-05  18115.949219  230.181824  235.000000  229.272720  233.863632   \n",
            "2017-01-06  18264.000000  234.772720  237.636368  233.818176  234.681824   \n",
            "2017-01-09  18286.650391  234.454544  236.227264  232.727264  235.181824   \n",
            "...                  ...         ...         ...         ...         ...   \n",
            "2023-08-29  44495.250000  973.299988  977.250000  965.650024  967.750000   \n",
            "2023-08-30  44232.601562  970.450012  975.900024  955.400024  958.900024   \n",
            "2023-08-31  43989.148438  960.000000  966.200012  954.049988  958.750000   \n",
            "2023-09-01  44436.101562  956.900024  973.049988  952.799988  968.700012   \n",
            "2023-09-04  44578.300781  968.700012  969.049988  960.549988  967.349976   \n",
            "\n",
            "            Volume_y  \n",
            "Date                  \n",
            "2017-01-03  10236706  \n",
            "2017-01-04   6901181  \n",
            "2017-01-05  13830668  \n",
            "2017-01-06   9055143  \n",
            "2017-01-09   7875294  \n",
            "...              ...  \n",
            "2023-08-29  13209913  \n",
            "2023-08-30  13936165  \n",
            "2023-08-31  36675400  \n",
            "2023-09-01  16268147  \n",
            "2023-09-04   9512303  \n",
            "\n",
            "[1642 rows x 6 columns]\n"
          ]
        }
      ]
    },
    {
      "cell_type": "code",
      "source": [
        "senti=pd.read_csv(\"/content/ICICI_Sentiments.csv\")"
      ],
      "metadata": {
        "id": "VFgWsk4ewfXs"
      },
      "execution_count": null,
      "outputs": []
    },
    {
      "cell_type": "code",
      "source": [
        "print(senti)"
      ],
      "metadata": {
        "colab": {
          "base_uri": "https://localhost:8080/"
        },
        "id": "AC8LCzHtwk3_",
        "outputId": "00233a36-a912-4527-a75a-01aef1fdac3f"
      },
      "execution_count": null,
      "outputs": [
        {
          "output_type": "stream",
          "name": "stdout",
          "text": [
            "            Date  Formula_Result\n",
            "0     2017-01-02        1.000000\n",
            "1     2017-01-03       -0.846154\n",
            "2     2017-01-04        1.000000\n",
            "3     2017-01-05       -1.000000\n",
            "4     2017-01-06        0.888889\n",
            "...          ...             ...\n",
            "1238  2023-08-02       -1.000000\n",
            "1239  2023-08-03        0.600000\n",
            "1240  2023-08-04       -1.000000\n",
            "1241  2023-09-01       -0.800000\n",
            "1242  2023-09-04        0.333333\n",
            "\n",
            "[1243 rows x 2 columns]\n"
          ]
        }
      ]
    },
    {
      "cell_type": "code",
      "source": [
        "senti.set_index('Date', inplace=True)\n",
        "# merged_data.set_index('Date', inplace=True)"
      ],
      "metadata": {
        "id": "ktzBwA4dw86I"
      },
      "execution_count": null,
      "outputs": []
    },
    {
      "cell_type": "code",
      "source": [
        "senti.index = pd.to_datetime(senti.index)\n",
        "merged_data.index = pd.to_datetime(merged_data.index)"
      ],
      "metadata": {
        "id": "bT3ra-Dpx_0c"
      },
      "execution_count": null,
      "outputs": []
    },
    {
      "cell_type": "code",
      "source": [
        "merged_df1 = merged_data.merge(senti, left_index=True, right_index=True, how='inner')\n"
      ],
      "metadata": {
        "id": "fDzv0Sz4x3OE"
      },
      "execution_count": null,
      "outputs": []
    },
    {
      "cell_type": "code",
      "source": [
        "merged_df1.dropna(inplace=True)\n"
      ],
      "metadata": {
        "id": "WRJuYxAHyZe7"
      },
      "execution_count": null,
      "outputs": []
    },
    {
      "cell_type": "code",
      "source": [
        "print(merged_df1)"
      ],
      "metadata": {
        "colab": {
          "base_uri": "https://localhost:8080/"
        },
        "id": "jvNUBZYWylGe",
        "outputId": "a5cb161d-cf21-4936-f2df-c199cb0a2201"
      },
      "execution_count": null,
      "outputs": [
        {
          "output_type": "stream",
          "name": "stdout",
          "text": [
            "                 Close_x      Open_y      High_y       Low_y     Close_y  \\\n",
            "Date                                                                       \n",
            "2017-01-03  18035.599609  229.181824  232.181824  226.636368  231.272720   \n",
            "2017-01-04  17891.000000  231.136368  232.500000  227.636368  228.272720   \n",
            "2017-01-05  18115.949219  230.181824  235.000000  229.272720  233.863632   \n",
            "2017-01-06  18264.000000  234.772720  237.636368  233.818176  234.681824   \n",
            "2017-01-09  18286.650391  234.454544  236.227264  232.727264  235.181824   \n",
            "...                  ...         ...         ...         ...         ...   \n",
            "2023-08-02  44995.699219  985.250000  994.099976  977.500000  986.950012   \n",
            "2023-08-03  44513.449219  976.549988  983.000000  960.049988  965.000000   \n",
            "2023-08-04  44879.500000  968.650024  976.000000  961.250000  970.500000   \n",
            "2023-09-01  44436.101562  956.900024  973.049988  952.799988  968.700012   \n",
            "2023-09-04  44578.300781  968.700012  969.049988  960.549988  967.349976   \n",
            "\n",
            "            Volume_y  Formula_Result  \n",
            "Date                                  \n",
            "2017-01-03  10236706       -0.846154  \n",
            "2017-01-04   6901181        1.000000  \n",
            "2017-01-05  13830668       -1.000000  \n",
            "2017-01-06   9055143        0.888889  \n",
            "2017-01-09   7875294       -1.000000  \n",
            "...              ...             ...  \n",
            "2023-08-02  15787996       -1.000000  \n",
            "2023-08-03  30994707        0.600000  \n",
            "2023-08-04  20582882       -1.000000  \n",
            "2023-09-01  16268147       -0.800000  \n",
            "2023-09-04   9512303        0.333333  \n",
            "\n",
            "[1236 rows x 7 columns]\n"
          ]
        }
      ]
    },
    {
      "cell_type": "code",
      "source": [
        "import yfinance as yf\n",
        "import pandas as pd\n",
        "import matplotlib.pyplot as plt\n",
        "import numpy as np\n",
        "from sklearn.preprocessing import MinMaxScaler\n",
        "from sklearn.model_selection import KFold"
      ],
      "metadata": {
        "id": "PmhhZWJcQNTa"
      },
      "execution_count": null,
      "outputs": []
    },
    {
      "cell_type": "code",
      "source": [
        "features = merged_df1[['Close_x','Open_y','High_y','Low_y','Close_y','Volume_y','Formula_Result']]\n",
        "\n",
        "# Scale the features using Min-Max Scaler\n",
        "scaler = MinMaxScaler()\n",
        "scaled_features = scaler.fit_transform(features)\n",
        "\n"
      ],
      "metadata": {
        "id": "UNlLH1giPD0F"
      },
      "execution_count": null,
      "outputs": []
    },
    {
      "cell_type": "code",
      "source": [
        "normalized=pd.DataFrame()\n",
        "normalized = merged_df1.copy()\n",
        "normalized[['Close_x','Open_y','High_y','Low_y','Close_y','Volume_y','Formula_Result']] = scaled_features\n"
      ],
      "metadata": {
        "id": "Afb-Hl3mQT43"
      },
      "execution_count": null,
      "outputs": []
    },
    {
      "cell_type": "code",
      "source": [
        "features2=merged_df1[['Open_y','High_y','Low_y','Close_y','Volume_y','Formula_Result']]\n",
        "features2=np.array(features2)\n",
        "scaler4 = MinMaxScaler()\n",
        "scaled_features4 = scaler4.fit_transform(features2.reshape(-1,1))\n",
        "\n"
      ],
      "metadata": {
        "id": "uxA2nTx9kbST"
      },
      "execution_count": null,
      "outputs": []
    },
    {
      "cell_type": "code",
      "source": [
        "features1=merged_df1['Close_y']\n",
        "features1=np.array(features1)\n",
        "scaler3 = MinMaxScaler()\n",
        "scaled_features3 = scaler3.fit_transform(features1.reshape(-1,1))\n",
        "\n"
      ],
      "metadata": {
        "id": "XOMIS_7hcai7"
      },
      "execution_count": null,
      "outputs": []
    },
    {
      "cell_type": "code",
      "source": [
        "from sklearn.model_selection import train_test_split\n",
        "train_data, test_data = train_test_split(normalized, test_size=0.2, shuffle=False)"
      ],
      "metadata": {
        "id": "srmCGCO8Qh3R"
      },
      "execution_count": null,
      "outputs": []
    },
    {
      "cell_type": "code",
      "source": [
        "from keras.models import Sequential\n",
        "from keras.layers import LSTM, Dropout, Dense\n"
      ],
      "metadata": {
        "id": "E2frihG4Qq0N"
      },
      "execution_count": null,
      "outputs": []
    },
    {
      "cell_type": "code",
      "source": [
        "def create_sequences(data, sequence_length):\n",
        "    sequences = []\n",
        "    targets = []\n",
        "    for i in range(len(data) - sequence_length):\n",
        "        sequences.append(data[i:i + sequence_length])\n",
        "        target_row = data[i + sequence_length]\n",
        "        target_values = target_row[0:6]  # Extract values from the 2nd to 6th columns\n",
        "        targets.append(target_values)\n",
        "    return np.array(sequences), np.array(targets)"
      ],
      "metadata": {
        "id": "_euBCrAzkBHE"
      },
      "execution_count": null,
      "outputs": []
    },
    {
      "cell_type": "code",
      "source": [
        "# def create_sequences(data, sequence_length):\n",
        "#     sequences = []\n",
        "#     targets = []\n",
        "#     for i in range(len(data) - sequence_length):\n",
        "#         sequences.append(data[i:i+sequence_length])\n",
        "#         targets.append(data[i+sequence_length][4])\n",
        "#     return np.array(sequences), np.array(targets)\n"
      ],
      "metadata": {
        "id": "ip4YeaERQtxc"
      },
      "execution_count": null,
      "outputs": []
    },
    {
      "cell_type": "code",
      "source": [
        "sequence_length = 60\n",
        "X_train, y_train = create_sequences(train_data.values, sequence_length)\n",
        "X_test, y_test = create_sequences(test_data.values, sequence_length)"
      ],
      "metadata": {
        "id": "FoWIb3CqQ_Rx"
      },
      "execution_count": null,
      "outputs": []
    },
    {
      "cell_type": "code",
      "source": [
        "model = Sequential()\n",
        "model.add(LSTM(units=64, input_shape=(sequence_length, 7), return_sequences=True))\n",
        "model.add(Dropout(0.2))\n",
        "model.add(LSTM(units=64))\n",
        "model.add(Dropout(0.2))\n",
        "model.add(Dense(units=32, activation='relu'))\n",
        "model.add(Dense(units=6))\n"
      ],
      "metadata": {
        "id": "8aGwG87KRVyF"
      },
      "execution_count": null,
      "outputs": []
    },
    {
      "cell_type": "code",
      "source": [
        "model.compile(loss='mean_squared_error', optimizer='adam')"
      ],
      "metadata": {
        "id": "27kfYa2PRbFx"
      },
      "execution_count": null,
      "outputs": []
    },
    {
      "cell_type": "code",
      "source": [
        "from keras.callbacks import ModelCheckpoint"
      ],
      "metadata": {
        "id": "f7RTxhpyRdiL"
      },
      "execution_count": null,
      "outputs": []
    },
    {
      "cell_type": "code",
      "source": [
        "checkpoint = ModelCheckpoint(filepath='best_model.h5', monitor='val_loss', save_best_only=True, mode='min', verbose=1)\n",
        "\n",
        "# Train the model with ModelCheckpoint callback\n",
        "history = model.fit(X_train, y_train, epochs=250, batch_size=128, validation_data=(X_test, y_test), callbacks=[checkpoint])"
      ],
      "metadata": {
        "colab": {
          "base_uri": "https://localhost:8080/"
        },
        "id": "PBgTujHpRggc",
        "outputId": "9862dd1e-2f8a-42e4-f1e4-38a360d55154"
      },
      "execution_count": null,
      "outputs": [
        {
          "output_type": "stream",
          "name": "stdout",
          "text": [
            "Epoch 1/250\n",
            "5/8 [=================>............] - ETA: 0s - loss: 0.0942 \n",
            "Epoch 1: val_loss improved from inf to 0.06469, saving model to best_model.h5\n",
            "8/8 [==============================] - 5s 120ms/step - loss: 0.0757 - val_loss: 0.0647\n",
            "Epoch 2/250\n",
            "6/8 [=====================>........] - ETA: 0s - loss: 0.0215\n",
            "Epoch 2: val_loss improved from 0.06469 to 0.06196, saving model to best_model.h5\n",
            "8/8 [==============================] - 0s 21ms/step - loss: 0.0203 - val_loss: 0.0620\n",
            "Epoch 3/250\n",
            "6/8 [=====================>........] - ETA: 0s - loss: 0.0120\n",
            "Epoch 3: val_loss improved from 0.06196 to 0.00638, saving model to best_model.h5\n",
            "8/8 [==============================] - 0s 20ms/step - loss: 0.0115 - val_loss: 0.0064\n",
            "Epoch 4/250\n",
            "6/8 [=====================>........] - ETA: 0s - loss: 0.0080\n",
            "Epoch 4: val_loss did not improve from 0.00638\n",
            "8/8 [==============================] - 0s 15ms/step - loss: 0.0080 - val_loss: 0.0181\n",
            "Epoch 5/250\n",
            "6/8 [=====================>........] - ETA: 0s - loss: 0.0071\n",
            "Epoch 5: val_loss did not improve from 0.00638\n",
            "8/8 [==============================] - 0s 17ms/step - loss: 0.0069 - val_loss: 0.0125\n",
            "Epoch 6/250\n",
            "6/8 [=====================>........] - ETA: 0s - loss: 0.0063\n",
            "Epoch 6: val_loss did not improve from 0.00638\n",
            "8/8 [==============================] - 0s 16ms/step - loss: 0.0062 - val_loss: 0.0092\n",
            "Epoch 7/250\n",
            "6/8 [=====================>........] - ETA: 0s - loss: 0.0054\n",
            "Epoch 7: val_loss did not improve from 0.00638\n",
            "8/8 [==============================] - 0s 15ms/step - loss: 0.0054 - val_loss: 0.0072\n",
            "Epoch 8/250\n",
            "6/8 [=====================>........] - ETA: 0s - loss: 0.0050\n",
            "Epoch 8: val_loss improved from 0.00638 to 0.00513, saving model to best_model.h5\n",
            "8/8 [==============================] - 0s 19ms/step - loss: 0.0051 - val_loss: 0.0051\n",
            "Epoch 9/250\n",
            "7/8 [=========================>....] - ETA: 0s - loss: 0.0047\n",
            "Epoch 9: val_loss improved from 0.00513 to 0.00421, saving model to best_model.h5\n",
            "8/8 [==============================] - 0s 18ms/step - loss: 0.0048 - val_loss: 0.0042\n",
            "Epoch 10/250\n",
            "7/8 [=========================>....] - ETA: 0s - loss: 0.0043\n",
            "Epoch 10: val_loss did not improve from 0.00421\n",
            "8/8 [==============================] - 0s 17ms/step - loss: 0.0043 - val_loss: 0.0054\n",
            "Epoch 11/250\n",
            "5/8 [=================>............] - ETA: 0s - loss: 0.0040\n",
            "Epoch 11: val_loss improved from 0.00421 to 0.00305, saving model to best_model.h5\n",
            "8/8 [==============================] - 0s 31ms/step - loss: 0.0042 - val_loss: 0.0030\n",
            "Epoch 12/250\n",
            "8/8 [==============================] - ETA: 0s - loss: 0.0040\n",
            "Epoch 12: val_loss did not improve from 0.00305\n",
            "8/8 [==============================] - 0s 56ms/step - loss: 0.0040 - val_loss: 0.0045\n",
            "Epoch 13/250\n",
            "8/8 [==============================] - ETA: 0s - loss: 0.0037\n",
            "Epoch 13: val_loss did not improve from 0.00305\n",
            "8/8 [==============================] - 0s 59ms/step - loss: 0.0037 - val_loss: 0.0039\n",
            "Epoch 14/250\n",
            "7/8 [=========================>....] - ETA: 0s - loss: 0.0038\n",
            "Epoch 14: val_loss did not improve from 0.00305\n",
            "8/8 [==============================] - 0s 50ms/step - loss: 0.0038 - val_loss: 0.0035\n",
            "Epoch 15/250\n",
            "5/8 [=================>............] - ETA: 0s - loss: 0.0030\n",
            "Epoch 15: val_loss improved from 0.00305 to 0.00251, saving model to best_model.h5\n",
            "8/8 [==============================] - 0s 26ms/step - loss: 0.0032 - val_loss: 0.0025\n",
            "Epoch 16/250\n",
            "5/8 [=================>............] - ETA: 0s - loss: 0.0033\n",
            "Epoch 16: val_loss did not improve from 0.00251\n",
            "8/8 [==============================] - 0s 36ms/step - loss: 0.0033 - val_loss: 0.0032\n",
            "Epoch 17/250\n",
            "7/8 [=========================>....] - ETA: 0s - loss: 0.0034\n",
            "Epoch 17: val_loss did not improve from 0.00251\n",
            "8/8 [==============================] - 0s 59ms/step - loss: 0.0034 - val_loss: 0.0075\n",
            "Epoch 18/250\n",
            "7/8 [=========================>....] - ETA: 0s - loss: 0.0033\n",
            "Epoch 18: val_loss did not improve from 0.00251\n",
            "8/8 [==============================] - 0s 37ms/step - loss: 0.0033 - val_loss: 0.0034\n",
            "Epoch 19/250\n",
            "8/8 [==============================] - ETA: 0s - loss: 0.0032\n",
            "Epoch 19: val_loss improved from 0.00251 to 0.00140, saving model to best_model.h5\n",
            "8/8 [==============================] - 0s 26ms/step - loss: 0.0032 - val_loss: 0.0014\n",
            "Epoch 20/250\n",
            "6/8 [=====================>........] - ETA: 0s - loss: 0.0029\n",
            "Epoch 20: val_loss did not improve from 0.00140\n",
            "8/8 [==============================] - 0s 16ms/step - loss: 0.0029 - val_loss: 0.0036\n",
            "Epoch 21/250\n",
            "6/8 [=====================>........] - ETA: 0s - loss: 0.0028\n",
            "Epoch 21: val_loss did not improve from 0.00140\n",
            "8/8 [==============================] - 0s 18ms/step - loss: 0.0028 - val_loss: 0.0026\n",
            "Epoch 22/250\n",
            "6/8 [=====================>........] - ETA: 0s - loss: 0.0027\n",
            "Epoch 22: val_loss did not improve from 0.00140\n",
            "8/8 [==============================] - 0s 15ms/step - loss: 0.0027 - val_loss: 0.0022\n",
            "Epoch 23/250\n",
            "5/8 [=================>............] - ETA: 0s - loss: 0.0027\n",
            "Epoch 23: val_loss did not improve from 0.00140\n",
            "8/8 [==============================] - 0s 17ms/step - loss: 0.0027 - val_loss: 0.0021\n",
            "Epoch 24/250\n",
            "7/8 [=========================>....] - ETA: 0s - loss: 0.0026\n",
            "Epoch 24: val_loss did not improve from 0.00140\n",
            "8/8 [==============================] - 0s 16ms/step - loss: 0.0026 - val_loss: 0.0020\n",
            "Epoch 25/250\n",
            "7/8 [=========================>....] - ETA: 0s - loss: 0.0024\n",
            "Epoch 25: val_loss did not improve from 0.00140\n",
            "8/8 [==============================] - 0s 14ms/step - loss: 0.0025 - val_loss: 0.0034\n",
            "Epoch 26/250\n",
            "7/8 [=========================>....] - ETA: 0s - loss: 0.0025\n",
            "Epoch 26: val_loss improved from 0.00140 to 0.00110, saving model to best_model.h5\n",
            "8/8 [==============================] - 0s 19ms/step - loss: 0.0025 - val_loss: 0.0011\n",
            "Epoch 27/250\n",
            "7/8 [=========================>....] - ETA: 0s - loss: 0.0027\n",
            "Epoch 27: val_loss did not improve from 0.00110\n",
            "8/8 [==============================] - 0s 13ms/step - loss: 0.0027 - val_loss: 0.0018\n",
            "Epoch 28/250\n",
            "7/8 [=========================>....] - ETA: 0s - loss: 0.0023\n",
            "Epoch 28: val_loss did not improve from 0.00110\n",
            "8/8 [==============================] - 0s 14ms/step - loss: 0.0023 - val_loss: 0.0024\n",
            "Epoch 29/250\n",
            "7/8 [=========================>....] - ETA: 0s - loss: 0.0024\n",
            "Epoch 29: val_loss did not improve from 0.00110\n",
            "8/8 [==============================] - 0s 14ms/step - loss: 0.0024 - val_loss: 0.0022\n",
            "Epoch 30/250\n",
            "7/8 [=========================>....] - ETA: 0s - loss: 0.0023\n",
            "Epoch 30: val_loss did not improve from 0.00110\n",
            "8/8 [==============================] - 0s 16ms/step - loss: 0.0023 - val_loss: 0.0017\n",
            "Epoch 31/250\n",
            "6/8 [=====================>........] - ETA: 0s - loss: 0.0023\n",
            "Epoch 31: val_loss did not improve from 0.00110\n",
            "8/8 [==============================] - 0s 17ms/step - loss: 0.0023 - val_loss: 0.0020\n",
            "Epoch 32/250\n",
            "7/8 [=========================>....] - ETA: 0s - loss: 0.0023\n",
            "Epoch 32: val_loss did not improve from 0.00110\n",
            "8/8 [==============================] - 0s 13ms/step - loss: 0.0023 - val_loss: 0.0020\n",
            "Epoch 33/250\n",
            "7/8 [=========================>....] - ETA: 0s - loss: 0.0023\n",
            "Epoch 33: val_loss did not improve from 0.00110\n",
            "8/8 [==============================] - 0s 14ms/step - loss: 0.0023 - val_loss: 0.0020\n",
            "Epoch 34/250\n",
            "7/8 [=========================>....] - ETA: 0s - loss: 0.0023\n",
            "Epoch 34: val_loss improved from 0.00110 to 0.00085, saving model to best_model.h5\n",
            "8/8 [==============================] - 0s 17ms/step - loss: 0.0023 - val_loss: 8.5354e-04\n",
            "Epoch 35/250\n",
            "7/8 [=========================>....] - ETA: 0s - loss: 0.0021\n",
            "Epoch 35: val_loss did not improve from 0.00085\n",
            "8/8 [==============================] - 0s 14ms/step - loss: 0.0021 - val_loss: 0.0020\n",
            "Epoch 36/250\n",
            "7/8 [=========================>....] - ETA: 0s - loss: 0.0022\n",
            "Epoch 36: val_loss did not improve from 0.00085\n",
            "8/8 [==============================] - 0s 14ms/step - loss: 0.0022 - val_loss: 0.0024\n",
            "Epoch 37/250\n",
            "7/8 [=========================>....] - ETA: 0s - loss: 0.0021\n",
            "Epoch 37: val_loss did not improve from 0.00085\n",
            "8/8 [==============================] - 0s 14ms/step - loss: 0.0021 - val_loss: 0.0026\n",
            "Epoch 38/250\n",
            "7/8 [=========================>....] - ETA: 0s - loss: 0.0021\n",
            "Epoch 38: val_loss did not improve from 0.00085\n",
            "8/8 [==============================] - 0s 13ms/step - loss: 0.0022 - val_loss: 0.0011\n",
            "Epoch 39/250\n",
            "7/8 [=========================>....] - ETA: 0s - loss: 0.0021\n",
            "Epoch 39: val_loss did not improve from 0.00085\n",
            "8/8 [==============================] - 0s 13ms/step - loss: 0.0021 - val_loss: 0.0025\n",
            "Epoch 40/250\n",
            "7/8 [=========================>....] - ETA: 0s - loss: 0.0020\n",
            "Epoch 40: val_loss did not improve from 0.00085\n",
            "8/8 [==============================] - 0s 16ms/step - loss: 0.0020 - val_loss: 0.0023\n",
            "Epoch 41/250\n",
            "8/8 [==============================] - ETA: 0s - loss: 0.0020\n",
            "Epoch 41: val_loss did not improve from 0.00085\n",
            "8/8 [==============================] - 0s 13ms/step - loss: 0.0020 - val_loss: 0.0012\n",
            "Epoch 42/250\n",
            "7/8 [=========================>....] - ETA: 0s - loss: 0.0021\n",
            "Epoch 42: val_loss did not improve from 0.00085\n",
            "8/8 [==============================] - 0s 13ms/step - loss: 0.0021 - val_loss: 0.0014\n",
            "Epoch 43/250\n",
            "7/8 [=========================>....] - ETA: 0s - loss: 0.0019\n",
            "Epoch 43: val_loss did not improve from 0.00085\n",
            "8/8 [==============================] - 0s 14ms/step - loss: 0.0019 - val_loss: 0.0011\n",
            "Epoch 44/250\n",
            "7/8 [=========================>....] - ETA: 0s - loss: 0.0019\n",
            "Epoch 44: val_loss did not improve from 0.00085\n",
            "8/8 [==============================] - 0s 14ms/step - loss: 0.0019 - val_loss: 0.0015\n",
            "Epoch 45/250\n",
            "7/8 [=========================>....] - ETA: 0s - loss: 0.0020\n",
            "Epoch 45: val_loss did not improve from 0.00085\n",
            "8/8 [==============================] - 0s 14ms/step - loss: 0.0020 - val_loss: 0.0016\n",
            "Epoch 46/250\n",
            "7/8 [=========================>....] - ETA: 0s - loss: 0.0022\n",
            "Epoch 46: val_loss did not improve from 0.00085\n",
            "8/8 [==============================] - 0s 15ms/step - loss: 0.0021 - val_loss: 9.5863e-04\n",
            "Epoch 47/250\n",
            "7/8 [=========================>....] - ETA: 0s - loss: 0.0020\n",
            "Epoch 47: val_loss did not improve from 0.00085\n",
            "8/8 [==============================] - 0s 15ms/step - loss: 0.0020 - val_loss: 9.6617e-04\n",
            "Epoch 48/250\n",
            "7/8 [=========================>....] - ETA: 0s - loss: 0.0021\n",
            "Epoch 48: val_loss did not improve from 0.00085\n",
            "8/8 [==============================] - 0s 15ms/step - loss: 0.0021 - val_loss: 0.0016\n",
            "Epoch 49/250\n",
            "7/8 [=========================>....] - ETA: 0s - loss: 0.0020\n",
            "Epoch 49: val_loss did not improve from 0.00085\n",
            "8/8 [==============================] - 0s 13ms/step - loss: 0.0020 - val_loss: 0.0011\n",
            "Epoch 50/250\n",
            "7/8 [=========================>....] - ETA: 0s - loss: 0.0020\n",
            "Epoch 50: val_loss did not improve from 0.00085\n",
            "8/8 [==============================] - 0s 15ms/step - loss: 0.0020 - val_loss: 0.0012\n",
            "Epoch 51/250\n",
            "7/8 [=========================>....] - ETA: 0s - loss: 0.0019\n",
            "Epoch 51: val_loss did not improve from 0.00085\n",
            "8/8 [==============================] - 0s 14ms/step - loss: 0.0019 - val_loss: 0.0019\n",
            "Epoch 52/250\n",
            "7/8 [=========================>....] - ETA: 0s - loss: 0.0018\n",
            "Epoch 52: val_loss did not improve from 0.00085\n",
            "8/8 [==============================] - 0s 14ms/step - loss: 0.0018 - val_loss: 0.0020\n",
            "Epoch 53/250\n",
            "7/8 [=========================>....] - ETA: 0s - loss: 0.0018\n",
            "Epoch 53: val_loss did not improve from 0.00085\n",
            "8/8 [==============================] - 0s 15ms/step - loss: 0.0018 - val_loss: 0.0010\n",
            "Epoch 54/250\n",
            "7/8 [=========================>....] - ETA: 0s - loss: 0.0018\n",
            "Epoch 54: val_loss did not improve from 0.00085\n",
            "8/8 [==============================] - 0s 14ms/step - loss: 0.0018 - val_loss: 0.0013\n",
            "Epoch 55/250\n",
            "7/8 [=========================>....] - ETA: 0s - loss: 0.0018\n",
            "Epoch 55: val_loss did not improve from 0.00085\n",
            "8/8 [==============================] - 0s 14ms/step - loss: 0.0018 - val_loss: 0.0023\n",
            "Epoch 56/250\n",
            "7/8 [=========================>....] - ETA: 0s - loss: 0.0018\n",
            "Epoch 56: val_loss did not improve from 0.00085\n",
            "8/8 [==============================] - 0s 16ms/step - loss: 0.0018 - val_loss: 0.0016\n",
            "Epoch 57/250\n",
            "6/8 [=====================>........] - ETA: 0s - loss: 0.0018\n",
            "Epoch 57: val_loss did not improve from 0.00085\n",
            "8/8 [==============================] - 0s 15ms/step - loss: 0.0018 - val_loss: 0.0016\n",
            "Epoch 58/250\n",
            "7/8 [=========================>....] - ETA: 0s - loss: 0.0016\n",
            "Epoch 58: val_loss did not improve from 0.00085\n",
            "8/8 [==============================] - 0s 14ms/step - loss: 0.0017 - val_loss: 0.0049\n",
            "Epoch 59/250\n",
            "7/8 [=========================>....] - ETA: 0s - loss: 0.0020\n",
            "Epoch 59: val_loss did not improve from 0.00085\n",
            "8/8 [==============================] - 0s 14ms/step - loss: 0.0020 - val_loss: 0.0036\n",
            "Epoch 60/250\n",
            "7/8 [=========================>....] - ETA: 0s - loss: 0.0020\n",
            "Epoch 60: val_loss did not improve from 0.00085\n",
            "8/8 [==============================] - 0s 13ms/step - loss: 0.0019 - val_loss: 0.0013\n",
            "Epoch 61/250\n",
            "8/8 [==============================] - ETA: 0s - loss: 0.0018\n",
            "Epoch 61: val_loss improved from 0.00085 to 0.00082, saving model to best_model.h5\n",
            "8/8 [==============================] - 0s 20ms/step - loss: 0.0018 - val_loss: 8.2080e-04\n",
            "Epoch 62/250\n",
            "7/8 [=========================>....] - ETA: 0s - loss: 0.0017\n",
            "Epoch 62: val_loss did not improve from 0.00082\n",
            "8/8 [==============================] - 0s 13ms/step - loss: 0.0017 - val_loss: 0.0014\n",
            "Epoch 63/250\n",
            "7/8 [=========================>....] - ETA: 0s - loss: 0.0017\n",
            "Epoch 63: val_loss did not improve from 0.00082\n",
            "8/8 [==============================] - 0s 14ms/step - loss: 0.0017 - val_loss: 9.7997e-04\n",
            "Epoch 64/250\n",
            "7/8 [=========================>....] - ETA: 0s - loss: 0.0018\n",
            "Epoch 64: val_loss did not improve from 0.00082\n",
            "8/8 [==============================] - 0s 13ms/step - loss: 0.0017 - val_loss: 0.0012\n",
            "Epoch 65/250\n",
            "7/8 [=========================>....] - ETA: 0s - loss: 0.0016\n",
            "Epoch 65: val_loss did not improve from 0.00082\n",
            "8/8 [==============================] - 0s 15ms/step - loss: 0.0016 - val_loss: 0.0026\n",
            "Epoch 66/250\n",
            "6/8 [=====================>........] - ETA: 0s - loss: 0.0016\n",
            "Epoch 66: val_loss did not improve from 0.00082\n",
            "8/8 [==============================] - 0s 17ms/step - loss: 0.0016 - val_loss: 0.0011\n",
            "Epoch 67/250\n",
            "7/8 [=========================>....] - ETA: 0s - loss: 0.0016\n",
            "Epoch 67: val_loss did not improve from 0.00082\n",
            "8/8 [==============================] - 0s 13ms/step - loss: 0.0016 - val_loss: 8.3145e-04\n",
            "Epoch 68/250\n",
            "7/8 [=========================>....] - ETA: 0s - loss: 0.0017\n",
            "Epoch 68: val_loss improved from 0.00082 to 0.00080, saving model to best_model.h5\n",
            "8/8 [==============================] - 0s 18ms/step - loss: 0.0017 - val_loss: 8.0091e-04\n",
            "Epoch 69/250\n",
            "7/8 [=========================>....] - ETA: 0s - loss: 0.0018\n",
            "Epoch 69: val_loss did not improve from 0.00080\n",
            "8/8 [==============================] - 0s 13ms/step - loss: 0.0017 - val_loss: 8.2168e-04\n",
            "Epoch 70/250\n",
            "7/8 [=========================>....] - ETA: 0s - loss: 0.0016\n",
            "Epoch 70: val_loss did not improve from 0.00080\n",
            "8/8 [==============================] - 0s 13ms/step - loss: 0.0016 - val_loss: 0.0013\n",
            "Epoch 71/250\n",
            "8/8 [==============================] - ETA: 0s - loss: 0.0016\n",
            "Epoch 71: val_loss did not improve from 0.00080\n",
            "8/8 [==============================] - 0s 13ms/step - loss: 0.0016 - val_loss: 0.0026\n",
            "Epoch 72/250\n",
            "7/8 [=========================>....] - ETA: 0s - loss: 0.0016\n",
            "Epoch 72: val_loss did not improve from 0.00080\n",
            "8/8 [==============================] - 0s 13ms/step - loss: 0.0016 - val_loss: 0.0019\n",
            "Epoch 73/250\n",
            "8/8 [==============================] - ETA: 0s - loss: 0.0016\n",
            "Epoch 73: val_loss did not improve from 0.00080\n",
            "8/8 [==============================] - 0s 13ms/step - loss: 0.0016 - val_loss: 9.6966e-04\n",
            "Epoch 74/250\n",
            "7/8 [=========================>....] - ETA: 0s - loss: 0.0016\n",
            "Epoch 74: val_loss did not improve from 0.00080\n",
            "8/8 [==============================] - 0s 15ms/step - loss: 0.0016 - val_loss: 0.0013\n",
            "Epoch 75/250\n",
            "7/8 [=========================>....] - ETA: 0s - loss: 0.0015\n",
            "Epoch 75: val_loss did not improve from 0.00080\n",
            "8/8 [==============================] - 0s 14ms/step - loss: 0.0015 - val_loss: 0.0011\n",
            "Epoch 76/250\n",
            "7/8 [=========================>....] - ETA: 0s - loss: 0.0015\n",
            "Epoch 76: val_loss did not improve from 0.00080\n",
            "8/8 [==============================] - 0s 14ms/step - loss: 0.0015 - val_loss: 0.0012\n",
            "Epoch 77/250\n",
            "7/8 [=========================>....] - ETA: 0s - loss: 0.0016\n",
            "Epoch 77: val_loss did not improve from 0.00080\n",
            "8/8 [==============================] - 0s 14ms/step - loss: 0.0015 - val_loss: 0.0027\n",
            "Epoch 78/250\n",
            "7/8 [=========================>....] - ETA: 0s - loss: 0.0015\n",
            "Epoch 78: val_loss did not improve from 0.00080\n",
            "8/8 [==============================] - 0s 14ms/step - loss: 0.0015 - val_loss: 0.0011\n",
            "Epoch 79/250\n",
            "7/8 [=========================>....] - ETA: 0s - loss: 0.0014\n",
            "Epoch 79: val_loss did not improve from 0.00080\n",
            "8/8 [==============================] - 0s 15ms/step - loss: 0.0014 - val_loss: 9.7983e-04\n",
            "Epoch 80/250\n",
            "8/8 [==============================] - ETA: 0s - loss: 0.0015\n",
            "Epoch 80: val_loss did not improve from 0.00080\n",
            "8/8 [==============================] - 0s 13ms/step - loss: 0.0015 - val_loss: 0.0022\n",
            "Epoch 81/250\n",
            "7/8 [=========================>....] - ETA: 0s - loss: 0.0015\n",
            "Epoch 81: val_loss did not improve from 0.00080\n",
            "8/8 [==============================] - 0s 14ms/step - loss: 0.0015 - val_loss: 0.0017\n",
            "Epoch 82/250\n",
            "7/8 [=========================>....] - ETA: 0s - loss: 0.0015\n",
            "Epoch 82: val_loss did not improve from 0.00080\n",
            "8/8 [==============================] - 0s 15ms/step - loss: 0.0015 - val_loss: 0.0025\n",
            "Epoch 83/250\n",
            "6/8 [=====================>........] - ETA: 0s - loss: 0.0015\n",
            "Epoch 83: val_loss did not improve from 0.00080\n",
            "8/8 [==============================] - 0s 14ms/step - loss: 0.0015 - val_loss: 0.0014\n",
            "Epoch 84/250\n",
            "7/8 [=========================>....] - ETA: 0s - loss: 0.0015\n",
            "Epoch 84: val_loss did not improve from 0.00080\n",
            "8/8 [==============================] - 0s 14ms/step - loss: 0.0015 - val_loss: 0.0014\n",
            "Epoch 85/250\n",
            "7/8 [=========================>....] - ETA: 0s - loss: 0.0014\n",
            "Epoch 85: val_loss did not improve from 0.00080\n",
            "8/8 [==============================] - 0s 15ms/step - loss: 0.0014 - val_loss: 0.0012\n",
            "Epoch 86/250\n",
            "7/8 [=========================>....] - ETA: 0s - loss: 0.0014\n",
            "Epoch 86: val_loss did not improve from 0.00080\n",
            "8/8 [==============================] - 0s 14ms/step - loss: 0.0014 - val_loss: 8.1196e-04\n",
            "Epoch 87/250\n",
            "7/8 [=========================>....] - ETA: 0s - loss: 0.0014\n",
            "Epoch 87: val_loss improved from 0.00080 to 0.00074, saving model to best_model.h5\n",
            "8/8 [==============================] - 0s 18ms/step - loss: 0.0014 - val_loss: 7.3627e-04\n",
            "Epoch 88/250\n",
            "7/8 [=========================>....] - ETA: 0s - loss: 0.0014\n",
            "Epoch 88: val_loss did not improve from 0.00074\n",
            "8/8 [==============================] - 0s 15ms/step - loss: 0.0014 - val_loss: 0.0011\n",
            "Epoch 89/250\n",
            "6/8 [=====================>........] - ETA: 0s - loss: 0.0014    \n",
            "Epoch 89: val_loss did not improve from 0.00074\n",
            "8/8 [==============================] - 0s 16ms/step - loss: 0.0014 - val_loss: 8.2468e-04\n",
            "Epoch 90/250\n",
            "8/8 [==============================] - ETA: 0s - loss: 0.0015\n",
            "Epoch 90: val_loss did not improve from 0.00074\n",
            "8/8 [==============================] - 0s 13ms/step - loss: 0.0015 - val_loss: 0.0011\n",
            "Epoch 91/250\n",
            "7/8 [=========================>....] - ETA: 0s - loss: 0.0014\n",
            "Epoch 91: val_loss did not improve from 0.00074\n",
            "8/8 [==============================] - 0s 14ms/step - loss: 0.0014 - val_loss: 0.0019\n",
            "Epoch 92/250\n",
            "7/8 [=========================>....] - ETA: 0s - loss: 0.0014\n",
            "Epoch 92: val_loss did not improve from 0.00074\n",
            "8/8 [==============================] - 0s 13ms/step - loss: 0.0014 - val_loss: 8.3761e-04\n",
            "Epoch 93/250\n",
            "7/8 [=========================>....] - ETA: 0s - loss: 0.0014\n",
            "Epoch 93: val_loss improved from 0.00074 to 0.00074, saving model to best_model.h5\n",
            "8/8 [==============================] - 0s 18ms/step - loss: 0.0014 - val_loss: 7.3514e-04\n",
            "Epoch 94/250\n",
            "7/8 [=========================>....] - ETA: 0s - loss: 0.0013\n",
            "Epoch 94: val_loss did not improve from 0.00074\n",
            "8/8 [==============================] - 0s 13ms/step - loss: 0.0013 - val_loss: 8.0937e-04\n",
            "Epoch 95/250\n",
            "7/8 [=========================>....] - ETA: 0s - loss: 0.0014\n",
            "Epoch 95: val_loss did not improve from 0.00074\n",
            "8/8 [==============================] - 0s 14ms/step - loss: 0.0014 - val_loss: 7.7535e-04\n",
            "Epoch 96/250\n",
            "7/8 [=========================>....] - ETA: 0s - loss: 0.0014\n",
            "Epoch 96: val_loss did not improve from 0.00074\n",
            "8/8 [==============================] - 0s 13ms/step - loss: 0.0014 - val_loss: 7.4357e-04\n",
            "Epoch 97/250\n",
            "7/8 [=========================>....] - ETA: 0s - loss: 0.0013\n",
            "Epoch 97: val_loss did not improve from 0.00074\n",
            "8/8 [==============================] - 0s 13ms/step - loss: 0.0014 - val_loss: 0.0012\n",
            "Epoch 98/250\n",
            "7/8 [=========================>....] - ETA: 0s - loss: 0.0014\n",
            "Epoch 98: val_loss did not improve from 0.00074\n",
            "8/8 [==============================] - 0s 15ms/step - loss: 0.0014 - val_loss: 0.0013\n",
            "Epoch 99/250\n",
            "7/8 [=========================>....] - ETA: 0s - loss: 0.0014\n",
            "Epoch 99: val_loss did not improve from 0.00074\n",
            "8/8 [==============================] - 0s 14ms/step - loss: 0.0014 - val_loss: 0.0021\n",
            "Epoch 100/250\n",
            "6/8 [=====================>........] - ETA: 0s - loss: 0.0015\n",
            "Epoch 100: val_loss did not improve from 0.00074\n",
            "8/8 [==============================] - 0s 15ms/step - loss: 0.0014 - val_loss: 0.0014\n",
            "Epoch 101/250\n",
            "7/8 [=========================>....] - ETA: 0s - loss: 0.0013\n",
            "Epoch 101: val_loss did not improve from 0.00074\n",
            "8/8 [==============================] - 0s 18ms/step - loss: 0.0013 - val_loss: 9.3256e-04\n",
            "Epoch 102/250\n",
            "5/8 [=================>............] - ETA: 0s - loss: 0.0014\n",
            "Epoch 102: val_loss did not improve from 0.00074\n",
            "8/8 [==============================] - 0s 20ms/step - loss: 0.0013 - val_loss: 0.0018\n",
            "Epoch 103/250\n",
            "5/8 [=================>............] - ETA: 0s - loss: 0.0015\n",
            "Epoch 103: val_loss did not improve from 0.00074\n",
            "8/8 [==============================] - 0s 20ms/step - loss: 0.0014 - val_loss: 0.0014\n",
            "Epoch 104/250\n",
            "6/8 [=====================>........] - ETA: 0s - loss: 0.0014    \n",
            "Epoch 104: val_loss did not improve from 0.00074\n",
            "8/8 [==============================] - 0s 19ms/step - loss: 0.0013 - val_loss: 0.0015\n",
            "Epoch 105/250\n",
            "5/8 [=================>............] - ETA: 0s - loss: 0.0012\n",
            "Epoch 105: val_loss did not improve from 0.00074\n",
            "8/8 [==============================] - 0s 20ms/step - loss: 0.0013 - val_loss: 7.5086e-04\n",
            "Epoch 106/250\n",
            "6/8 [=====================>........] - ETA: 0s - loss: 0.0013\n",
            "Epoch 106: val_loss did not improve from 0.00074\n",
            "8/8 [==============================] - 0s 19ms/step - loss: 0.0013 - val_loss: 9.2374e-04\n",
            "Epoch 107/250\n",
            "6/8 [=====================>........] - ETA: 0s - loss: 0.0012\n",
            "Epoch 107: val_loss improved from 0.00074 to 0.00071, saving model to best_model.h5\n",
            "8/8 [==============================] - 0s 25ms/step - loss: 0.0012 - val_loss: 7.0884e-04\n",
            "Epoch 108/250\n",
            "5/8 [=================>............] - ETA: 0s - loss: 0.0013    \n",
            "Epoch 108: val_loss did not improve from 0.00071\n",
            "8/8 [==============================] - 0s 20ms/step - loss: 0.0012 - val_loss: 0.0011\n",
            "Epoch 109/250\n",
            "6/8 [=====================>........] - ETA: 0s - loss: 0.0013\n",
            "Epoch 109: val_loss did not improve from 0.00071\n",
            "8/8 [==============================] - 0s 19ms/step - loss: 0.0013 - val_loss: 8.4950e-04\n",
            "Epoch 110/250\n",
            "6/8 [=====================>........] - ETA: 0s - loss: 0.0013\n",
            "Epoch 110: val_loss did not improve from 0.00071\n",
            "8/8 [==============================] - 0s 19ms/step - loss: 0.0013 - val_loss: 0.0011\n",
            "Epoch 111/250\n",
            "6/8 [=====================>........] - ETA: 0s - loss: 0.0013\n",
            "Epoch 111: val_loss did not improve from 0.00071\n",
            "8/8 [==============================] - 0s 20ms/step - loss: 0.0012 - val_loss: 0.0018\n",
            "Epoch 112/250\n",
            "5/8 [=================>............] - ETA: 0s - loss: 0.0015\n",
            "Epoch 112: val_loss did not improve from 0.00071\n",
            "8/8 [==============================] - 0s 21ms/step - loss: 0.0013 - val_loss: 0.0029\n",
            "Epoch 113/250\n",
            "5/8 [=================>............] - ETA: 0s - loss: 0.0015\n",
            "Epoch 113: val_loss did not improve from 0.00071\n",
            "8/8 [==============================] - 0s 21ms/step - loss: 0.0014 - val_loss: 0.0022\n",
            "Epoch 114/250\n",
            "5/8 [=================>............] - ETA: 0s - loss: 0.0014\n",
            "Epoch 114: val_loss did not improve from 0.00071\n",
            "8/8 [==============================] - 0s 20ms/step - loss: 0.0013 - val_loss: 0.0020\n",
            "Epoch 115/250\n",
            "6/8 [=====================>........] - ETA: 0s - loss: 0.0012    \n",
            "Epoch 115: val_loss did not improve from 0.00071\n",
            "8/8 [==============================] - 0s 19ms/step - loss: 0.0012 - val_loss: 0.0017\n",
            "Epoch 116/250\n",
            "5/8 [=================>............] - ETA: 0s - loss: 0.0011\n",
            "Epoch 116: val_loss did not improve from 0.00071\n",
            "8/8 [==============================] - 0s 16ms/step - loss: 0.0012 - val_loss: 0.0017\n",
            "Epoch 117/250\n",
            "6/8 [=====================>........] - ETA: 0s - loss: 0.0011\n",
            "Epoch 117: val_loss did not improve from 0.00071\n",
            "8/8 [==============================] - 0s 15ms/step - loss: 0.0013 - val_loss: 0.0018\n",
            "Epoch 118/250\n",
            "7/8 [=========================>....] - ETA: 0s - loss: 0.0012    \n",
            "Epoch 118: val_loss did not improve from 0.00071\n",
            "8/8 [==============================] - 0s 14ms/step - loss: 0.0013 - val_loss: 0.0011\n",
            "Epoch 119/250\n",
            "7/8 [=========================>....] - ETA: 0s - loss: 0.0012\n",
            "Epoch 119: val_loss did not improve from 0.00071\n",
            "8/8 [==============================] - 0s 15ms/step - loss: 0.0012 - val_loss: 0.0013\n",
            "Epoch 120/250\n",
            "7/8 [=========================>....] - ETA: 0s - loss: 0.0012    \n",
            "Epoch 120: val_loss did not improve from 0.00071\n",
            "8/8 [==============================] - 0s 13ms/step - loss: 0.0012 - val_loss: 9.3297e-04\n",
            "Epoch 121/250\n",
            "7/8 [=========================>....] - ETA: 0s - loss: 0.0012    \n",
            "Epoch 121: val_loss did not improve from 0.00071\n",
            "8/8 [==============================] - 0s 14ms/step - loss: 0.0012 - val_loss: 9.2536e-04\n",
            "Epoch 122/250\n",
            "7/8 [=========================>....] - ETA: 0s - loss: 0.0012\n",
            "Epoch 122: val_loss did not improve from 0.00071\n",
            "8/8 [==============================] - 0s 13ms/step - loss: 0.0012 - val_loss: 0.0013\n",
            "Epoch 123/250\n",
            "7/8 [=========================>....] - ETA: 0s - loss: 0.0012\n",
            "Epoch 123: val_loss did not improve from 0.00071\n",
            "8/8 [==============================] - 0s 14ms/step - loss: 0.0012 - val_loss: 0.0013\n",
            "Epoch 124/250\n",
            "7/8 [=========================>....] - ETA: 0s - loss: 0.0012\n",
            "Epoch 124: val_loss did not improve from 0.00071\n",
            "8/8 [==============================] - 0s 15ms/step - loss: 0.0011 - val_loss: 0.0014\n",
            "Epoch 125/250\n",
            "7/8 [=========================>....] - ETA: 0s - loss: 0.0012\n",
            "Epoch 125: val_loss did not improve from 0.00071\n",
            "8/8 [==============================] - 0s 14ms/step - loss: 0.0012 - val_loss: 0.0029\n",
            "Epoch 126/250\n",
            "7/8 [=========================>....] - ETA: 0s - loss: 0.0013\n",
            "Epoch 126: val_loss did not improve from 0.00071\n",
            "8/8 [==============================] - 0s 15ms/step - loss: 0.0012 - val_loss: 0.0015\n",
            "Epoch 127/250\n",
            "7/8 [=========================>....] - ETA: 0s - loss: 0.0012    \n",
            "Epoch 127: val_loss did not improve from 0.00071\n",
            "8/8 [==============================] - 0s 13ms/step - loss: 0.0012 - val_loss: 0.0021\n",
            "Epoch 128/250\n",
            "7/8 [=========================>....] - ETA: 0s - loss: 0.0012    \n",
            "Epoch 128: val_loss did not improve from 0.00071\n",
            "8/8 [==============================] - 0s 14ms/step - loss: 0.0012 - val_loss: 0.0016\n",
            "Epoch 129/250\n",
            "7/8 [=========================>....] - ETA: 0s - loss: 0.0012\n",
            "Epoch 129: val_loss did not improve from 0.00071\n",
            "8/8 [==============================] - 0s 15ms/step - loss: 0.0012 - val_loss: 0.0013\n",
            "Epoch 130/250\n",
            "7/8 [=========================>....] - ETA: 0s - loss: 0.0011\n",
            "Epoch 130: val_loss did not improve from 0.00071\n",
            "8/8 [==============================] - 0s 15ms/step - loss: 0.0011 - val_loss: 0.0010\n",
            "Epoch 131/250\n",
            "7/8 [=========================>....] - ETA: 0s - loss: 0.0011\n",
            "Epoch 131: val_loss did not improve from 0.00071\n",
            "8/8 [==============================] - 0s 14ms/step - loss: 0.0011 - val_loss: 0.0011\n",
            "Epoch 132/250\n",
            "7/8 [=========================>....] - ETA: 0s - loss: 0.0011\n",
            "Epoch 132: val_loss did not improve from 0.00071\n",
            "8/8 [==============================] - 0s 15ms/step - loss: 0.0011 - val_loss: 9.2436e-04\n",
            "Epoch 133/250\n",
            "7/8 [=========================>....] - ETA: 0s - loss: 0.0011\n",
            "Epoch 133: val_loss did not improve from 0.00071\n",
            "8/8 [==============================] - 0s 15ms/step - loss: 0.0011 - val_loss: 7.4039e-04\n",
            "Epoch 134/250\n",
            "7/8 [=========================>....] - ETA: 0s - loss: 0.0011    \n",
            "Epoch 134: val_loss did not improve from 0.00071\n",
            "8/8 [==============================] - 0s 14ms/step - loss: 0.0011 - val_loss: 9.5560e-04\n",
            "Epoch 135/250\n",
            "7/8 [=========================>....] - ETA: 0s - loss: 0.0011    \n",
            "Epoch 135: val_loss improved from 0.00071 to 0.00071, saving model to best_model.h5\n",
            "8/8 [==============================] - 0s 20ms/step - loss: 0.0011 - val_loss: 7.0592e-04\n",
            "Epoch 136/250\n",
            "7/8 [=========================>....] - ETA: 0s - loss: 0.0011    \n",
            "Epoch 136: val_loss did not improve from 0.00071\n",
            "8/8 [==============================] - 0s 14ms/step - loss: 0.0011 - val_loss: 9.7679e-04\n",
            "Epoch 137/250\n",
            "7/8 [=========================>....] - ETA: 0s - loss: 0.0011    \n",
            "Epoch 137: val_loss did not improve from 0.00071\n",
            "8/8 [==============================] - 0s 16ms/step - loss: 0.0011 - val_loss: 7.1209e-04\n",
            "Epoch 138/250\n",
            "7/8 [=========================>....] - ETA: 0s - loss: 0.0011    \n",
            "Epoch 138: val_loss did not improve from 0.00071\n",
            "8/8 [==============================] - 0s 14ms/step - loss: 0.0011 - val_loss: 0.0011\n",
            "Epoch 139/250\n",
            "7/8 [=========================>....] - ETA: 0s - loss: 0.0010\n",
            "Epoch 139: val_loss did not improve from 0.00071\n",
            "8/8 [==============================] - 0s 14ms/step - loss: 0.0010 - val_loss: 7.4629e-04\n",
            "Epoch 140/250\n",
            "6/8 [=====================>........] - ETA: 0s - loss: 9.0131e-04\n",
            "Epoch 140: val_loss did not improve from 0.00071\n",
            "8/8 [==============================] - 0s 15ms/step - loss: 0.0011 - val_loss: 8.0264e-04\n",
            "Epoch 141/250\n",
            "7/8 [=========================>....] - ETA: 0s - loss: 0.0011    \n",
            "Epoch 141: val_loss did not improve from 0.00071\n",
            "8/8 [==============================] - 0s 14ms/step - loss: 0.0011 - val_loss: 0.0012\n",
            "Epoch 142/250\n",
            "7/8 [=========================>....] - ETA: 0s - loss: 0.0011    \n",
            "Epoch 142: val_loss did not improve from 0.00071\n",
            "8/8 [==============================] - 0s 14ms/step - loss: 0.0011 - val_loss: 9.9859e-04\n",
            "Epoch 143/250\n",
            "7/8 [=========================>....] - ETA: 0s - loss: 0.0010    \n",
            "Epoch 143: val_loss did not improve from 0.00071\n",
            "8/8 [==============================] - 0s 14ms/step - loss: 0.0010 - val_loss: 0.0015\n",
            "Epoch 144/250\n",
            "7/8 [=========================>....] - ETA: 0s - loss: 0.0011\n",
            "Epoch 144: val_loss did not improve from 0.00071\n",
            "8/8 [==============================] - 0s 14ms/step - loss: 0.0011 - val_loss: 0.0025\n",
            "Epoch 145/250\n",
            "7/8 [=========================>....] - ETA: 0s - loss: 0.0012\n",
            "Epoch 145: val_loss did not improve from 0.00071\n",
            "8/8 [==============================] - 0s 15ms/step - loss: 0.0012 - val_loss: 0.0012\n",
            "Epoch 146/250\n",
            "7/8 [=========================>....] - ETA: 0s - loss: 0.0011    \n",
            "Epoch 146: val_loss did not improve from 0.00071\n",
            "8/8 [==============================] - 0s 14ms/step - loss: 0.0011 - val_loss: 0.0014\n",
            "Epoch 147/250\n",
            "7/8 [=========================>....] - ETA: 0s - loss: 0.0010    \n",
            "Epoch 147: val_loss did not improve from 0.00071\n",
            "8/8 [==============================] - 0s 13ms/step - loss: 0.0011 - val_loss: 7.2041e-04\n",
            "Epoch 148/250\n",
            "7/8 [=========================>....] - ETA: 0s - loss: 0.0011    \n",
            "Epoch 148: val_loss did not improve from 0.00071\n",
            "8/8 [==============================] - 0s 13ms/step - loss: 0.0011 - val_loss: 7.3776e-04\n",
            "Epoch 149/250\n",
            "7/8 [=========================>....] - ETA: 0s - loss: 0.0011    \n",
            "Epoch 149: val_loss improved from 0.00071 to 0.00066, saving model to best_model.h5\n",
            "8/8 [==============================] - 0s 18ms/step - loss: 0.0011 - val_loss: 6.6305e-04\n",
            "Epoch 150/250\n",
            "7/8 [=========================>....] - ETA: 0s - loss: 0.0011    \n",
            "Epoch 150: val_loss did not improve from 0.00066\n",
            "8/8 [==============================] - 0s 14ms/step - loss: 0.0011 - val_loss: 9.1051e-04\n",
            "Epoch 151/250\n",
            "7/8 [=========================>....] - ETA: 0s - loss: 9.3295e-04\n",
            "Epoch 151: val_loss did not improve from 0.00066\n",
            "8/8 [==============================] - 0s 14ms/step - loss: 0.0011 - val_loss: 7.2053e-04\n",
            "Epoch 152/250\n",
            "7/8 [=========================>....] - ETA: 0s - loss: 0.0011\n",
            "Epoch 152: val_loss did not improve from 0.00066\n",
            "8/8 [==============================] - 0s 14ms/step - loss: 0.0011 - val_loss: 8.5742e-04\n",
            "Epoch 153/250\n",
            "6/8 [=====================>........] - ETA: 0s - loss: 0.0011    \n",
            "Epoch 153: val_loss did not improve from 0.00066\n",
            "8/8 [==============================] - 0s 15ms/step - loss: 0.0011 - val_loss: 8.1418e-04\n",
            "Epoch 154/250\n",
            "7/8 [=========================>....] - ETA: 0s - loss: 0.0011    \n",
            "Epoch 154: val_loss improved from 0.00066 to 0.00063, saving model to best_model.h5\n",
            "8/8 [==============================] - 0s 20ms/step - loss: 0.0011 - val_loss: 6.3007e-04\n",
            "Epoch 155/250\n",
            "7/8 [=========================>....] - ETA: 0s - loss: 0.0011\n",
            "Epoch 155: val_loss did not improve from 0.00063\n",
            "8/8 [==============================] - 0s 14ms/step - loss: 0.0011 - val_loss: 0.0010\n",
            "Epoch 156/250\n",
            "7/8 [=========================>....] - ETA: 0s - loss: 0.0011\n",
            "Epoch 156: val_loss did not improve from 0.00063\n",
            "8/8 [==============================] - 0s 13ms/step - loss: 0.0011 - val_loss: 0.0011\n",
            "Epoch 157/250\n",
            "7/8 [=========================>....] - ETA: 0s - loss: 0.0011    \n",
            "Epoch 157: val_loss did not improve from 0.00063\n",
            "8/8 [==============================] - 0s 15ms/step - loss: 0.0011 - val_loss: 9.5955e-04\n",
            "Epoch 158/250\n",
            "7/8 [=========================>....] - ETA: 0s - loss: 0.0011\n",
            "Epoch 158: val_loss did not improve from 0.00063\n",
            "8/8 [==============================] - 0s 14ms/step - loss: 0.0011 - val_loss: 8.8223e-04\n",
            "Epoch 159/250\n",
            "7/8 [=========================>....] - ETA: 0s - loss: 0.0010\n",
            "Epoch 159: val_loss did not improve from 0.00063\n",
            "8/8 [==============================] - 0s 14ms/step - loss: 0.0010 - val_loss: 8.6375e-04\n",
            "Epoch 160/250\n",
            "7/8 [=========================>....] - ETA: 0s - loss: 0.0011\n",
            "Epoch 160: val_loss did not improve from 0.00063\n",
            "8/8 [==============================] - 0s 13ms/step - loss: 0.0011 - val_loss: 0.0014\n",
            "Epoch 161/250\n",
            "7/8 [=========================>....] - ETA: 0s - loss: 0.0010    \n",
            "Epoch 161: val_loss did not improve from 0.00063\n",
            "8/8 [==============================] - 0s 14ms/step - loss: 0.0010 - val_loss: 7.0889e-04\n",
            "Epoch 162/250\n",
            "6/8 [=====================>........] - ETA: 0s - loss: 9.1993e-04\n",
            "Epoch 162: val_loss did not improve from 0.00063\n",
            "8/8 [==============================] - 0s 14ms/step - loss: 0.0011 - val_loss: 6.5016e-04\n",
            "Epoch 163/250\n",
            "6/8 [=====================>........] - ETA: 0s - loss: 0.0011\n",
            "Epoch 163: val_loss did not improve from 0.00063\n",
            "8/8 [==============================] - 0s 15ms/step - loss: 0.0011 - val_loss: 7.6950e-04\n",
            "Epoch 164/250\n",
            "7/8 [=========================>....] - ETA: 0s - loss: 0.0011    \n",
            "Epoch 164: val_loss did not improve from 0.00063\n",
            "8/8 [==============================] - 0s 16ms/step - loss: 0.0011 - val_loss: 0.0017\n",
            "Epoch 165/250\n",
            "7/8 [=========================>....] - ETA: 0s - loss: 0.0011    \n",
            "Epoch 165: val_loss did not improve from 0.00063\n",
            "8/8 [==============================] - 0s 13ms/step - loss: 0.0011 - val_loss: 9.3739e-04\n",
            "Epoch 166/250\n",
            "7/8 [=========================>....] - ETA: 0s - loss: 0.0011\n",
            "Epoch 166: val_loss did not improve from 0.00063\n",
            "8/8 [==============================] - 0s 14ms/step - loss: 0.0011 - val_loss: 8.8539e-04\n",
            "Epoch 167/250\n",
            "7/8 [=========================>....] - ETA: 0s - loss: 0.0011    \n",
            "Epoch 167: val_loss did not improve from 0.00063\n",
            "8/8 [==============================] - 0s 14ms/step - loss: 0.0011 - val_loss: 7.4650e-04\n",
            "Epoch 168/250\n",
            "7/8 [=========================>....] - ETA: 0s - loss: 0.0010    \n",
            "Epoch 168: val_loss did not improve from 0.00063\n",
            "8/8 [==============================] - 0s 14ms/step - loss: 0.0010 - val_loss: 7.0830e-04\n",
            "Epoch 169/250\n",
            "7/8 [=========================>....] - ETA: 0s - loss: 0.0011    \n",
            "Epoch 169: val_loss did not improve from 0.00063\n",
            "8/8 [==============================] - 0s 14ms/step - loss: 0.0011 - val_loss: 0.0011\n",
            "Epoch 170/250\n",
            "7/8 [=========================>....] - ETA: 0s - loss: 0.0011\n",
            "Epoch 170: val_loss did not improve from 0.00063\n",
            "8/8 [==============================] - 0s 13ms/step - loss: 0.0011 - val_loss: 8.5677e-04\n",
            "Epoch 171/250\n",
            "7/8 [=========================>....] - ETA: 0s - loss: 0.0010\n",
            "Epoch 171: val_loss did not improve from 0.00063\n",
            "8/8 [==============================] - 0s 17ms/step - loss: 0.0010 - val_loss: 6.8106e-04\n",
            "Epoch 172/250\n",
            "7/8 [=========================>....] - ETA: 0s - loss: 0.0011    \n",
            "Epoch 172: val_loss did not improve from 0.00063\n",
            "8/8 [==============================] - 0s 14ms/step - loss: 0.0010 - val_loss: 7.1734e-04\n",
            "Epoch 173/250\n",
            "7/8 [=========================>....] - ETA: 0s - loss: 0.0010    \n",
            "Epoch 173: val_loss did not improve from 0.00063\n",
            "8/8 [==============================] - 0s 13ms/step - loss: 0.0010 - val_loss: 6.7357e-04\n",
            "Epoch 174/250\n",
            "7/8 [=========================>....] - ETA: 0s - loss: 0.0010    \n",
            "Epoch 174: val_loss did not improve from 0.00063\n",
            "8/8 [==============================] - 0s 14ms/step - loss: 0.0010 - val_loss: 7.0249e-04\n",
            "Epoch 175/250\n",
            "7/8 [=========================>....] - ETA: 0s - loss: 0.0011    \n",
            "Epoch 175: val_loss did not improve from 0.00063\n",
            "8/8 [==============================] - 0s 14ms/step - loss: 0.0011 - val_loss: 7.0060e-04\n",
            "Epoch 176/250\n",
            "7/8 [=========================>....] - ETA: 0s - loss: 0.0010\n",
            "Epoch 176: val_loss did not improve from 0.00063\n",
            "8/8 [==============================] - 0s 14ms/step - loss: 0.0010 - val_loss: 7.2757e-04\n",
            "Epoch 177/250\n",
            "7/8 [=========================>....] - ETA: 0s - loss: 0.0010\n",
            "Epoch 177: val_loss improved from 0.00063 to 0.00060, saving model to best_model.h5\n",
            "8/8 [==============================] - 0s 17ms/step - loss: 0.0010 - val_loss: 5.9851e-04\n",
            "Epoch 178/250\n",
            "7/8 [=========================>....] - ETA: 0s - loss: 0.0011    \n",
            "Epoch 178: val_loss did not improve from 0.00060\n",
            "8/8 [==============================] - 0s 14ms/step - loss: 0.0011 - val_loss: 8.0025e-04\n",
            "Epoch 179/250\n",
            "7/8 [=========================>....] - ETA: 0s - loss: 0.0010    \n",
            "Epoch 179: val_loss did not improve from 0.00060\n",
            "8/8 [==============================] - 0s 15ms/step - loss: 0.0010 - val_loss: 8.3746e-04\n",
            "Epoch 180/250\n",
            "6/8 [=====================>........] - ETA: 0s - loss: 0.0011    \n",
            "Epoch 180: val_loss did not improve from 0.00060\n",
            "8/8 [==============================] - 0s 15ms/step - loss: 0.0010 - val_loss: 6.6886e-04\n",
            "Epoch 181/250\n",
            "6/8 [=====================>........] - ETA: 0s - loss: 0.0011    \n",
            "Epoch 181: val_loss did not improve from 0.00060\n",
            "8/8 [==============================] - 0s 15ms/step - loss: 0.0010 - val_loss: 8.9738e-04\n",
            "Epoch 182/250\n",
            "6/8 [=====================>........] - ETA: 0s - loss: 8.2225e-04\n",
            "Epoch 182: val_loss did not improve from 0.00060\n",
            "8/8 [==============================] - 0s 17ms/step - loss: 0.0010 - val_loss: 6.5457e-04\n",
            "Epoch 183/250\n",
            "7/8 [=========================>....] - ETA: 0s - loss: 0.0010    \n",
            "Epoch 183: val_loss did not improve from 0.00060\n",
            "8/8 [==============================] - 0s 15ms/step - loss: 0.0011 - val_loss: 7.9122e-04\n",
            "Epoch 184/250\n",
            "6/8 [=====================>........] - ETA: 0s - loss: 0.0011    \n",
            "Epoch 184: val_loss did not improve from 0.00060\n",
            "8/8 [==============================] - 0s 17ms/step - loss: 0.0010 - val_loss: 0.0013\n",
            "Epoch 185/250\n",
            "7/8 [=========================>....] - ETA: 0s - loss: 0.0011    \n",
            "Epoch 185: val_loss did not improve from 0.00060\n",
            "8/8 [==============================] - 0s 15ms/step - loss: 0.0011 - val_loss: 7.8003e-04\n",
            "Epoch 186/250\n",
            "7/8 [=========================>....] - ETA: 0s - loss: 0.0010\n",
            "Epoch 186: val_loss did not improve from 0.00060\n",
            "8/8 [==============================] - 0s 15ms/step - loss: 0.0010 - val_loss: 0.0022\n",
            "Epoch 187/250\n",
            "7/8 [=========================>....] - ETA: 0s - loss: 0.0012    \n",
            "Epoch 187: val_loss did not improve from 0.00060\n",
            "8/8 [==============================] - 0s 15ms/step - loss: 0.0012 - val_loss: 0.0019\n",
            "Epoch 188/250\n",
            "5/8 [=================>............] - ETA: 0s - loss: 0.0011\n",
            "Epoch 188: val_loss did not improve from 0.00060\n",
            "8/8 [==============================] - 0s 18ms/step - loss: 0.0011 - val_loss: 0.0016\n",
            "Epoch 189/250\n",
            "6/8 [=====================>........] - ETA: 0s - loss: 0.0012\n",
            "Epoch 189: val_loss did not improve from 0.00060\n",
            "8/8 [==============================] - 0s 16ms/step - loss: 0.0011 - val_loss: 0.0012\n",
            "Epoch 190/250\n",
            "7/8 [=========================>....] - ETA: 0s - loss: 0.0011    \n",
            "Epoch 190: val_loss did not improve from 0.00060\n",
            "8/8 [==============================] - 0s 15ms/step - loss: 0.0011 - val_loss: 9.5255e-04\n",
            "Epoch 191/250\n",
            "7/8 [=========================>....] - ETA: 0s - loss: 0.0011    \n",
            "Epoch 191: val_loss did not improve from 0.00060\n",
            "8/8 [==============================] - 0s 15ms/step - loss: 0.0011 - val_loss: 0.0011\n",
            "Epoch 192/250\n",
            "7/8 [=========================>....] - ETA: 0s - loss: 0.0010\n",
            "Epoch 192: val_loss did not improve from 0.00060\n",
            "8/8 [==============================] - 0s 15ms/step - loss: 0.0010 - val_loss: 0.0015\n",
            "Epoch 193/250\n",
            "6/8 [=====================>........] - ETA: 0s - loss: 0.0011    \n",
            "Epoch 193: val_loss did not improve from 0.00060\n",
            "8/8 [==============================] - 0s 17ms/step - loss: 0.0010 - val_loss: 0.0016\n",
            "Epoch 194/250\n",
            "7/8 [=========================>....] - ETA: 0s - loss: 0.0011    \n",
            "Epoch 194: val_loss did not improve from 0.00060\n",
            "8/8 [==============================] - 0s 14ms/step - loss: 0.0011 - val_loss: 9.2472e-04\n",
            "Epoch 195/250\n",
            "6/8 [=====================>........] - ETA: 0s - loss: 0.0010    \n",
            "Epoch 195: val_loss did not improve from 0.00060\n",
            "8/8 [==============================] - 0s 17ms/step - loss: 0.0010 - val_loss: 6.6627e-04\n",
            "Epoch 196/250\n",
            "6/8 [=====================>........] - ETA: 0s - loss: 0.0011    \n",
            "Epoch 196: val_loss did not improve from 0.00060\n",
            "8/8 [==============================] - 0s 15ms/step - loss: 9.9902e-04 - val_loss: 6.9621e-04\n",
            "Epoch 197/250\n",
            "6/8 [=====================>........] - ETA: 0s - loss: 0.0011\n",
            "Epoch 197: val_loss did not improve from 0.00060\n",
            "8/8 [==============================] - 0s 15ms/step - loss: 9.9686e-04 - val_loss: 6.5382e-04\n",
            "Epoch 198/250\n",
            "6/8 [=====================>........] - ETA: 0s - loss: 8.3671e-04\n",
            "Epoch 198: val_loss did not improve from 0.00060\n",
            "8/8 [==============================] - 0s 17ms/step - loss: 0.0010 - val_loss: 8.2938e-04\n",
            "Epoch 199/250\n",
            "6/8 [=====================>........] - ETA: 0s - loss: 9.1451e-04\n",
            "Epoch 199: val_loss improved from 0.00060 to 0.00059, saving model to best_model.h5\n",
            "8/8 [==============================] - 0s 23ms/step - loss: 0.0010 - val_loss: 5.8943e-04\n",
            "Epoch 200/250\n",
            "5/8 [=================>............] - ETA: 0s - loss: 0.0011\n",
            "Epoch 200: val_loss did not improve from 0.00059\n",
            "8/8 [==============================] - 0s 19ms/step - loss: 0.0010 - val_loss: 7.9215e-04\n",
            "Epoch 201/250\n",
            "6/8 [=====================>........] - ETA: 0s - loss: 9.9715e-04\n",
            "Epoch 201: val_loss did not improve from 0.00059\n",
            "8/8 [==============================] - 0s 20ms/step - loss: 0.0010 - val_loss: 9.5927e-04\n",
            "Epoch 202/250\n",
            "6/8 [=====================>........] - ETA: 0s - loss: 0.0011\n",
            "Epoch 202: val_loss did not improve from 0.00059\n",
            "8/8 [==============================] - 0s 21ms/step - loss: 0.0010 - val_loss: 9.5128e-04\n",
            "Epoch 203/250\n",
            "6/8 [=====================>........] - ETA: 0s - loss: 8.8394e-04\n",
            "Epoch 203: val_loss did not improve from 0.00059\n",
            "8/8 [==============================] - 0s 19ms/step - loss: 0.0010 - val_loss: 0.0012\n",
            "Epoch 204/250\n",
            "5/8 [=================>............] - ETA: 0s - loss: 9.1327e-04\n",
            "Epoch 204: val_loss did not improve from 0.00059\n",
            "8/8 [==============================] - 0s 20ms/step - loss: 0.0010 - val_loss: 8.9039e-04\n",
            "Epoch 205/250\n",
            "6/8 [=====================>........] - ETA: 0s - loss: 9.7771e-04\n",
            "Epoch 205: val_loss did not improve from 0.00059\n",
            "8/8 [==============================] - 0s 28ms/step - loss: 9.7034e-04 - val_loss: 9.5921e-04\n",
            "Epoch 206/250\n",
            "6/8 [=====================>........] - ETA: 0s - loss: 9.7901e-04\n",
            "Epoch 206: val_loss did not improve from 0.00059\n",
            "8/8 [==============================] - 0s 19ms/step - loss: 9.8726e-04 - val_loss: 9.8526e-04\n",
            "Epoch 207/250\n",
            "6/8 [=====================>........] - ETA: 0s - loss: 9.8197e-04\n",
            "Epoch 207: val_loss did not improve from 0.00059\n",
            "8/8 [==============================] - 0s 22ms/step - loss: 9.6387e-04 - val_loss: 5.9138e-04\n",
            "Epoch 208/250\n",
            "4/8 [==============>...............] - ETA: 0s - loss: 9.9626e-04\n",
            "Epoch 208: val_loss did not improve from 0.00059\n",
            "8/8 [==============================] - 0s 22ms/step - loss: 9.4498e-04 - val_loss: 6.9702e-04\n",
            "Epoch 209/250\n",
            "5/8 [=================>............] - ETA: 0s - loss: 0.0011    \n",
            "Epoch 209: val_loss improved from 0.00059 to 0.00057, saving model to best_model.h5\n",
            "8/8 [==============================] - 0s 25ms/step - loss: 9.8758e-04 - val_loss: 5.7119e-04\n",
            "Epoch 210/250\n",
            "5/8 [=================>............] - ETA: 0s - loss: 0.0011    \n",
            "Epoch 210: val_loss did not improve from 0.00057\n",
            "8/8 [==============================] - 0s 19ms/step - loss: 0.0010 - val_loss: 7.2325e-04\n",
            "Epoch 211/250\n",
            "6/8 [=====================>........] - ETA: 0s - loss: 9.9227e-04\n",
            "Epoch 211: val_loss did not improve from 0.00057\n",
            "8/8 [==============================] - 0s 19ms/step - loss: 9.8398e-04 - val_loss: 7.3358e-04\n",
            "Epoch 212/250\n",
            "5/8 [=================>............] - ETA: 0s - loss: 0.0011    \n",
            "Epoch 212: val_loss did not improve from 0.00057\n",
            "8/8 [==============================] - 0s 21ms/step - loss: 9.5378e-04 - val_loss: 0.0015\n",
            "Epoch 213/250\n",
            "6/8 [=====================>........] - ETA: 0s - loss: 0.0010    \n",
            "Epoch 213: val_loss did not improve from 0.00057\n",
            "8/8 [==============================] - 0s 16ms/step - loss: 0.0010 - val_loss: 8.4231e-04\n",
            "Epoch 214/250\n",
            "6/8 [=====================>........] - ETA: 0s - loss: 9.7966e-04\n",
            "Epoch 214: val_loss did not improve from 0.00057\n",
            "8/8 [==============================] - 0s 16ms/step - loss: 9.6967e-04 - val_loss: 6.5956e-04\n",
            "Epoch 215/250\n",
            "6/8 [=====================>........] - ETA: 0s - loss: 0.0010    \n",
            "Epoch 215: val_loss did not improve from 0.00057\n",
            "8/8 [==============================] - 0s 17ms/step - loss: 9.8179e-04 - val_loss: 8.5999e-04\n",
            "Epoch 216/250\n",
            "6/8 [=====================>........] - ETA: 0s - loss: 7.9872e-04\n",
            "Epoch 216: val_loss did not improve from 0.00057\n",
            "8/8 [==============================] - 0s 15ms/step - loss: 9.3329e-04 - val_loss: 7.6425e-04\n",
            "Epoch 217/250\n",
            "7/8 [=========================>....] - ETA: 0s - loss: 0.0010    \n",
            "Epoch 217: val_loss improved from 0.00057 to 0.00055, saving model to best_model.h5\n",
            "8/8 [==============================] - 0s 20ms/step - loss: 0.0010 - val_loss: 5.5299e-04\n",
            "Epoch 218/250\n",
            "7/8 [=========================>....] - ETA: 0s - loss: 0.0010    \n",
            "Epoch 218: val_loss did not improve from 0.00055\n",
            "8/8 [==============================] - 0s 16ms/step - loss: 0.0010 - val_loss: 5.6730e-04\n",
            "Epoch 219/250\n",
            "6/8 [=====================>........] - ETA: 0s - loss: 0.0010    \n",
            "Epoch 219: val_loss did not improve from 0.00055\n",
            "8/8 [==============================] - 0s 15ms/step - loss: 0.0010 - val_loss: 5.9424e-04\n",
            "Epoch 220/250\n",
            "6/8 [=====================>........] - ETA: 0s - loss: 0.0010\n",
            "Epoch 220: val_loss did not improve from 0.00055\n",
            "8/8 [==============================] - 0s 16ms/step - loss: 9.8538e-04 - val_loss: 6.6683e-04\n",
            "Epoch 221/250\n",
            "6/8 [=====================>........] - ETA: 0s - loss: 0.0010    \n",
            "Epoch 221: val_loss improved from 0.00055 to 0.00054, saving model to best_model.h5\n",
            "8/8 [==============================] - 0s 22ms/step - loss: 9.9402e-04 - val_loss: 5.3913e-04\n",
            "Epoch 222/250\n",
            "6/8 [=====================>........] - ETA: 0s - loss: 0.0010    \n",
            "Epoch 222: val_loss did not improve from 0.00054\n",
            "8/8 [==============================] - 0s 18ms/step - loss: 9.8644e-04 - val_loss: 7.0400e-04\n",
            "Epoch 223/250\n",
            "6/8 [=====================>........] - ETA: 0s - loss: 7.9820e-04\n",
            "Epoch 223: val_loss did not improve from 0.00054\n",
            "8/8 [==============================] - 0s 16ms/step - loss: 9.6613e-04 - val_loss: 6.1124e-04\n",
            "Epoch 224/250\n",
            "6/8 [=====================>........] - ETA: 0s - loss: 8.1826e-04\n",
            "Epoch 224: val_loss did not improve from 0.00054\n",
            "8/8 [==============================] - 0s 17ms/step - loss: 9.4504e-04 - val_loss: 6.1871e-04\n",
            "Epoch 225/250\n",
            "7/8 [=========================>....] - ETA: 0s - loss: 9.3050e-04\n",
            "Epoch 225: val_loss did not improve from 0.00054\n",
            "8/8 [==============================] - 0s 14ms/step - loss: 9.1766e-04 - val_loss: 0.0010\n",
            "Epoch 226/250\n",
            "6/8 [=====================>........] - ETA: 0s - loss: 0.0010    \n",
            "Epoch 226: val_loss did not improve from 0.00054\n",
            "8/8 [==============================] - 0s 15ms/step - loss: 9.5978e-04 - val_loss: 7.1847e-04\n",
            "Epoch 227/250\n",
            "7/8 [=========================>....] - ETA: 0s - loss: 9.7426e-04\n",
            "Epoch 227: val_loss did not improve from 0.00054\n",
            "8/8 [==============================] - 0s 14ms/step - loss: 9.5864e-04 - val_loss: 6.5042e-04\n",
            "Epoch 228/250\n",
            "7/8 [=========================>....] - ETA: 0s - loss: 9.6879e-04\n",
            "Epoch 228: val_loss did not improve from 0.00054\n",
            "8/8 [==============================] - 0s 15ms/step - loss: 9.5468e-04 - val_loss: 9.2111e-04\n",
            "Epoch 229/250\n",
            "7/8 [=========================>....] - ETA: 0s - loss: 9.9216e-04\n",
            "Epoch 229: val_loss did not improve from 0.00054\n",
            "8/8 [==============================] - 0s 15ms/step - loss: 9.8001e-04 - val_loss: 7.8012e-04\n",
            "Epoch 230/250\n",
            "7/8 [=========================>....] - ETA: 0s - loss: 9.9087e-04\n",
            "Epoch 230: val_loss did not improve from 0.00054\n",
            "8/8 [==============================] - 0s 14ms/step - loss: 9.8992e-04 - val_loss: 7.5323e-04\n",
            "Epoch 231/250\n",
            "7/8 [=========================>....] - ETA: 0s - loss: 8.3360e-04\n",
            "Epoch 231: val_loss did not improve from 0.00054\n",
            "8/8 [==============================] - 0s 15ms/step - loss: 9.9786e-04 - val_loss: 0.0011\n",
            "Epoch 232/250\n",
            "7/8 [=========================>....] - ETA: 0s - loss: 9.9047e-04\n",
            "Epoch 232: val_loss did not improve from 0.00054\n",
            "8/8 [==============================] - 0s 15ms/step - loss: 9.8195e-04 - val_loss: 6.6278e-04\n",
            "Epoch 233/250\n",
            "6/8 [=====================>........] - ETA: 0s - loss: 9.9602e-04\n",
            "Epoch 233: val_loss did not improve from 0.00054\n",
            "8/8 [==============================] - 0s 17ms/step - loss: 9.6279e-04 - val_loss: 7.2085e-04\n",
            "Epoch 234/250\n",
            "7/8 [=========================>....] - ETA: 0s - loss: 9.2606e-04\n",
            "Epoch 234: val_loss did not improve from 0.00054\n",
            "8/8 [==============================] - 0s 15ms/step - loss: 9.1321e-04 - val_loss: 6.6606e-04\n",
            "Epoch 235/250\n",
            "7/8 [=========================>....] - ETA: 0s - loss: 9.3778e-04\n",
            "Epoch 235: val_loss improved from 0.00054 to 0.00052, saving model to best_model.h5\n",
            "8/8 [==============================] - 0s 19ms/step - loss: 9.2587e-04 - val_loss: 5.2261e-04\n",
            "Epoch 236/250\n",
            "7/8 [=========================>....] - ETA: 0s - loss: 9.8742e-04\n",
            "Epoch 236: val_loss did not improve from 0.00052\n",
            "8/8 [==============================] - 0s 15ms/step - loss: 9.7550e-04 - val_loss: 6.1050e-04\n",
            "Epoch 237/250\n",
            "6/8 [=====================>........] - ETA: 0s - loss: 8.2392e-04\n",
            "Epoch 237: val_loss did not improve from 0.00052\n",
            "8/8 [==============================] - 0s 19ms/step - loss: 9.7661e-04 - val_loss: 6.1164e-04\n",
            "Epoch 238/250\n",
            "7/8 [=========================>....] - ETA: 0s - loss: 0.0010\n",
            "Epoch 238: val_loss did not improve from 0.00052\n",
            "8/8 [==============================] - 0s 15ms/step - loss: 0.0010 - val_loss: 7.5396e-04\n",
            "Epoch 239/250\n",
            "7/8 [=========================>....] - ETA: 0s - loss: 0.0011    \n",
            "Epoch 239: val_loss did not improve from 0.00052\n",
            "8/8 [==============================] - 0s 14ms/step - loss: 0.0010 - val_loss: 6.2269e-04\n",
            "Epoch 240/250\n",
            "7/8 [=========================>....] - ETA: 0s - loss: 9.8198e-04\n",
            "Epoch 240: val_loss improved from 0.00052 to 0.00051, saving model to best_model.h5\n",
            "8/8 [==============================] - 0s 19ms/step - loss: 9.7149e-04 - val_loss: 5.0721e-04\n",
            "Epoch 241/250\n",
            "6/8 [=====================>........] - ETA: 0s - loss: 9.8669e-04\n",
            "Epoch 241: val_loss did not improve from 0.00051\n",
            "8/8 [==============================] - 0s 18ms/step - loss: 9.5011e-04 - val_loss: 6.3313e-04\n",
            "Epoch 242/250\n",
            "7/8 [=========================>....] - ETA: 0s - loss: 0.0010    \n",
            "Epoch 242: val_loss did not improve from 0.00051\n",
            "8/8 [==============================] - 0s 15ms/step - loss: 9.9962e-04 - val_loss: 0.0010\n",
            "Epoch 243/250\n",
            "7/8 [=========================>....] - ETA: 0s - loss: 9.5059e-04\n",
            "Epoch 243: val_loss did not improve from 0.00051\n",
            "8/8 [==============================] - 0s 14ms/step - loss: 9.3349e-04 - val_loss: 7.8554e-04\n",
            "Epoch 244/250\n",
            "7/8 [=========================>....] - ETA: 0s - loss: 9.7542e-04\n",
            "Epoch 244: val_loss did not improve from 0.00051\n",
            "8/8 [==============================] - 0s 15ms/step - loss: 9.8430e-04 - val_loss: 8.4406e-04\n",
            "Epoch 245/250\n",
            "7/8 [=========================>....] - ETA: 0s - loss: 9.9979e-04\n",
            "Epoch 245: val_loss did not improve from 0.00051\n",
            "8/8 [==============================] - 0s 15ms/step - loss: 9.8653e-04 - val_loss: 6.9357e-04\n",
            "Epoch 246/250\n",
            "7/8 [=========================>....] - ETA: 0s - loss: 9.0242e-04\n",
            "Epoch 246: val_loss did not improve from 0.00051\n",
            "8/8 [==============================] - 0s 15ms/step - loss: 9.0437e-04 - val_loss: 7.7731e-04\n",
            "Epoch 247/250\n",
            "7/8 [=========================>....] - ETA: 0s - loss: 9.5720e-04\n",
            "Epoch 247: val_loss did not improve from 0.00051\n",
            "8/8 [==============================] - 0s 14ms/step - loss: 9.4718e-04 - val_loss: 5.6850e-04\n",
            "Epoch 248/250\n",
            "7/8 [=========================>....] - ETA: 0s - loss: 9.1673e-04\n",
            "Epoch 248: val_loss did not improve from 0.00051\n",
            "8/8 [==============================] - 0s 14ms/step - loss: 9.0304e-04 - val_loss: 5.5114e-04\n",
            "Epoch 249/250\n",
            "7/8 [=========================>....] - ETA: 0s - loss: 9.4401e-04\n",
            "Epoch 249: val_loss did not improve from 0.00051\n",
            "8/8 [==============================] - 0s 14ms/step - loss: 9.2801e-04 - val_loss: 7.6180e-04\n",
            "Epoch 250/250\n",
            "6/8 [=====================>........] - ETA: 0s - loss: 9.6076e-04\n",
            "Epoch 250: val_loss did not improve from 0.00051\n",
            "8/8 [==============================] - 0s 17ms/step - loss: 9.3053e-04 - val_loss: 8.3648e-04\n"
          ]
        }
      ]
    },
    {
      "cell_type": "code",
      "source": [
        "y_pred = model.predict(X_test)"
      ],
      "metadata": {
        "colab": {
          "base_uri": "https://localhost:8080/"
        },
        "id": "y2zo4CsJRjqd",
        "outputId": "a672e049-4b74-4d43-a711-9c5b2671b9c9"
      },
      "execution_count": null,
      "outputs": [
        {
          "output_type": "stream",
          "name": "stdout",
          "text": [
            "6/6 [==============================] - 1s 5ms/step\n"
          ]
        }
      ]
    },
    {
      "cell_type": "code",
      "source": [
        "y_pred_orig = scaler4.inverse_transform(y_pred.reshape(-1,6))/1000000\n",
        "y_test_orig = scaler4.inverse_transform(y_test.reshape(-1,6))/1000000\n",
        "y_train_orig= scaler4.inverse_transform(y_train.reshape(-1,6))/1000000"
      ],
      "metadata": {
        "id": "Zu6M_k9rcSZN"
      },
      "execution_count": null,
      "outputs": []
    },
    {
      "cell_type": "code",
      "source": [
        "rmse = np.sqrt(np.mean((y_test_orig[:,5] - y_pred_orig[:,5])**2))\n",
        "print(\" Root Mean Squared Error:\", rmse)"
      ],
      "metadata": {
        "colab": {
          "base_uri": "https://localhost:8080/"
        },
        "id": "xir0e8y9SMuo",
        "outputId": "bf0ef342-0197-4f08-ff0a-2443a0d5ae1f"
      },
      "execution_count": null,
      "outputs": [
        {
          "output_type": "stream",
          "name": "stdout",
          "text": [
            " Root Mean Squared Error: 9.248245655884798\n"
          ]
        }
      ]
    },
    {
      "cell_type": "code",
      "source": [
        "from sklearn.metrics import mean_absolute_error\n",
        "mae = mean_absolute_error(y_test_orig[:,5] , y_pred_orig[:,5])\n",
        "print(\"MAE:\", mae)"
      ],
      "metadata": {
        "colab": {
          "base_uri": "https://localhost:8080/"
        },
        "id": "Cwr2cAN8sjSt",
        "outputId": "4ed1bea8-8681-4825-e309-a820e64271de"
      },
      "execution_count": null,
      "outputs": [
        {
          "output_type": "stream",
          "name": "stdout",
          "text": [
            "MAE: 6.800523356081113\n"
          ]
        }
      ]
    },
    {
      "cell_type": "code",
      "source": [
        "def calculate_mape(y_true, y_pred):\n",
        "    absolute_percentage_errors = np.abs((y_true - y_pred) / y_true)\n",
        "    mape = np.mean(absolute_percentage_errors) * 100\n",
        "    return mape"
      ],
      "metadata": {
        "id": "SSVKESIqtLAY"
      },
      "execution_count": null,
      "outputs": []
    },
    {
      "cell_type": "code",
      "source": [
        "mape = calculate_mape(y_test_orig[:,5], y_pred_orig[:,5])\n",
        "print(\"MAPE:\", mape)"
      ],
      "metadata": {
        "colab": {
          "base_uri": "https://localhost:8080/"
        },
        "id": "PYOKxkW3tN2n",
        "outputId": "f22fbc22-b7ef-4a88-8583-1c2b48bfc106"
      },
      "execution_count": null,
      "outputs": [
        {
          "output_type": "stream",
          "name": "stdout",
          "text": [
            "MAPE: 59.33630812021802\n"
          ]
        }
      ]
    },
    {
      "cell_type": "code",
      "source": [
        "from sklearn.metrics import r2_score"
      ],
      "metadata": {
        "id": "cAnGwQVccNCd"
      },
      "execution_count": null,
      "outputs": []
    },
    {
      "cell_type": "code",
      "source": [
        "r2_val = r2_score(y_test[:,3], y_pred[:,3])\n",
        "\n",
        "print(\"R-squared :\", r2_val)"
      ],
      "metadata": {
        "colab": {
          "base_uri": "https://localhost:8080/"
        },
        "id": "lJj0k4T3cPls",
        "outputId": "281e5f91-f22b-4219-842e-3c2d2ecbdecd"
      },
      "execution_count": null,
      "outputs": [
        {
          "output_type": "stream",
          "name": "stdout",
          "text": [
            "R-squared : 0.9620247512315907\n"
          ]
        }
      ]
    },
    {
      "cell_type": "code",
      "source": [
        "print(y_train.shape)"
      ],
      "metadata": {
        "colab": {
          "base_uri": "https://localhost:8080/"
        },
        "id": "XRfmsmgGxqJ7",
        "outputId": "dfc6134a-072c-4688-df4f-3e375b8632d0"
      },
      "execution_count": null,
      "outputs": [
        {
          "output_type": "stream",
          "name": "stdout",
          "text": [
            "(777, 6)\n"
          ]
        }
      ]
    },
    {
      "cell_type": "code",
      "source": [
        "time_index_train = np.arange(len(y_train))\n",
        "\n",
        "# Calculate the time_index for y_test and y_pred starting from the appropriate offset\n",
        "time_index_test = np.arange(len(y_test)) + len(y_train)\n",
        "time_index_pred = np.arange(len(y_pred)) + len(y_train)\n",
        "\n",
        "# Plot the true values (y_train), the test values (y_test), and the predicted values (y_pred)\n",
        "plt.figure(figsize=(10, 6))\n",
        "plt.plot(time_index_train, y_train_orig[:,4], label='Training Data', color='blue')\n",
        "plt.plot(time_index_test, y_test_orig[:,4], label='Test Data', color='green')\n",
        "plt.plot(time_index_pred, y_pred_orig[:,4], label='Predictions', color='red', linestyle='dashed')\n",
        "plt.xlabel('Time')\n",
        "plt.ylabel('Value')\n",
        "plt.title('True Values vs. Predictions')\n",
        "plt.legend()\n",
        "\n",
        "plt.show()"
      ],
      "metadata": {
        "colab": {
          "base_uri": "https://localhost:8080/",
          "height": 564
        },
        "id": "V9wbt4_ochK4",
        "outputId": "cdb2d96f-fb93-4fdf-bf6e-dcdedcbac610"
      },
      "execution_count": null,
      "outputs": [
        {
          "output_type": "display_data",
          "data": {
            "text/plain": [
              "<Figure size 1000x600 with 1 Axes>"
            ],
            "image/png": "[encoded data removed]"
          },
          "metadata": {}
        }
      ]
    },
    {
      "cell_type": "code",
      "source": [
        "ema_12 = np.convolve(y_pred_orig[:,4], np.ones(12) / 12, mode='valid')\n",
        "ema_26 = np.convolve(y_pred_orig[:,4], np.ones(26) / 26, mode='valid')\n",
        "macd_line = ema_12[:len(ema_26)] - ema_26\n",
        "signal_line = np.convolve(macd_line, np.ones(9) / 9, mode='valid')\n",
        "macd_histogram_equity = macd_line[len(ema_26) - len(signal_line):] - signal_line\n"
      ],
      "metadata": {
        "id": "Fhv1-5jrckQN"
      },
      "execution_count": null,
      "outputs": []
    },
    {
      "cell_type": "code",
      "source": [
        "time_index = np.arange(len(macd_line))\n",
        "plt.figure(figsize=(12, 8))\n",
        "plt.plot(time_index[:117], y_pred_orig[:,3][:117], label='ICICI BANK Close Prices', color='black')\n",
        "\n",
        "# Plot MACD line\n",
        "plt.plot(time_index[:117], macd_line[:117], label='MACD Line', color='blue')\n",
        "plt.plot(time_index[:117], signal_line, label='Signal Line', color='red')\n",
        "plt.bar(time_index[:117], macd_histogram_equity, label='MACD Histogram', color='green')\n",
        "xtick_positions = np.arange(0, len(time_index[:117]), len(time_index[:117]) // 6)\n",
        "xtick_labels = [\"03/2018\",\"08/2018\",\"1/2019\",\"06/2019\",\"11/2019\",\"4/2020\",\"09/2020\"]\n",
        "\n",
        "plt.xticks(xtick_positions, xtick_labels)\n",
        "\n",
        "plt.xlabel('Time Index')\n",
        "plt.ylabel('Values')\n",
        "plt.title('ICICI BANK Close Prices and MACD Line')\n",
        "plt.legend()\n",
        "plt.grid(True)\n",
        "plt.show()"
      ],
      "metadata": {
        "colab": {
          "base_uri": "https://localhost:8080/",
          "height": 718
        },
        "id": "sG8mopC-uJKn",
        "outputId": "51bdc201-fd60-4431-8a22-7138094e38cb"
      },
      "execution_count": null,
      "outputs": [
        {
          "output_type": "display_data",
          "data": {
            "text/plain": [
              "<Figure size 1200x800 with 1 Axes>"
            ],
            "image/png": "[encoded data removed]"
          },
          "metadata": {}
        }
      ]
    },
    {
      "cell_type": "code",
      "source": [
        "ema_12 = np.convolve(y_pred_orig[:,0], np.ones(12) / 12, mode='valid')\n",
        "ema_26 = np.convolve(y_pred_orig[:,0], np.ones(26) / 26, mode='valid')\n",
        "macd_line = ema_12[:len(ema_26)] - ema_26\n",
        "signal_line = np.convolve(macd_line, np.ones(9) / 9, mode='valid')\n",
        "macd_histogram = macd_line[len(ema_26) - len(signal_line):] - signal_line"
      ],
      "metadata": {
        "id": "CSTHrjFT73UU"
      },
      "execution_count": null,
      "outputs": []
    },
    {
      "cell_type": "code",
      "source": [
        "time_index = np.arange(len(macd_line))\n",
        "plt.figure(figsize=(12, 8))\n",
        "plt.plot(time_index[:487], y_pred_orig[:,0][:487], label='BANK NIFTY Close Prices', color='black')\n",
        "\n",
        "# Plot MACD line\n",
        "plt.plot(time_index[:487], macd_line[:487], label='MACD Line', color='blue')\n",
        "plt.plot(time_index[:487], signal_line, label='Signal Line', color='red')\n",
        "plt.bar(time_index[:487], macd_histogram, label='MACD Histogram', color='green')\n",
        "xtick_positions = np.arange(0, len(time_index[:487]), len(time_index[:487]) // 6)\n",
        "xtick_labels = [\"03/2018\",\"08/2018\",\"1/2019\",\"06/2019\",\"11/2019\",\"4/2020\",\"09/2020\"]\n",
        "\n",
        "plt.xticks(xtick_positions, xtick_labels)\n",
        "\n",
        "plt.xlabel('Time Index')\n",
        "plt.ylabel('Values')\n",
        "plt.title('BANK NIFTY Close Prices and MACD Line')\n",
        "plt.legend()\n",
        "plt.grid(True)\n",
        "plt.show()"
      ],
      "metadata": {
        "id": "TXGigZxa78V1"
      },
      "execution_count": null,
      "outputs": []
    },
    {
      "cell_type": "code",
      "source": [
        "!pip install ta"
      ],
      "metadata": {
        "colab": {
          "base_uri": "https://localhost:8080/"
        },
        "id": "KN8-0R7Tw4vk",
        "outputId": "acff67d3-1b0a-41de-8c06-e75d6689b718"
      },
      "execution_count": null,
      "outputs": [
        {
          "output_type": "stream",
          "name": "stdout",
          "text": [
            "Collecting ta\n",
            "  Downloading ta-0.10.2.tar.gz (25 kB)\n",
            "  Preparing metadata (setup.py) ... \u001b[?25l\u001b[?25hdone\n",
            "Requirement already satisfied: numpy in /usr/local/lib/python3.10/dist-packages (from ta) (1.23.5)\n",
            "Requirement already satisfied: pandas in /usr/local/lib/python3.10/dist-packages (from ta) (1.5.3)\n",
            "Requirement already satisfied: python-dateutil>=2.8.1 in /usr/local/lib/python3.10/dist-packages (from pandas->ta) (2.8.2)\n",
            "Requirement already satisfied: pytz>=2020.1 in /usr/local/lib/python3.10/dist-packages (from pandas->ta) (2023.3)\n",
            "Requirement already satisfied: six>=1.5 in /usr/local/lib/python3.10/dist-packages (from python-dateutil>=2.8.1->pandas->ta) (1.16.0)\n",
            "Building wheels for collected packages: ta\n",
            "  Building wheel for ta (setup.py) ... \u001b[?25l\u001b[?25hdone\n",
            "  Created wheel for ta: filename=ta-0.10.2-py3-none-any.whl size=29089 sha256=43ff39acf03de5915b97d943c78991a3256c42ed0ba477bb8af1cd6a7cfc96a2\n",
            "  Stored in directory: /root/.cache/pip/wheels/47/51/06/380dc516ea78621870b93ff65527c251afdfdc5fa9d7f4d248\n",
            "Successfully built ta\n",
            "Installing collected packages: ta\n",
            "Successfully installed ta-0.10.2\n"
          ]
        }
      ]
    },
    {
      "cell_type": "code",
      "source": [
        "from ta import momentum\n",
        "df = pd.DataFrame({\"close\": y_pred_orig[:,3]})\n",
        "rsi = momentum.RSIIndicator(df[\"close\"], window=14)\n",
        "rsi_values = rsi.rsi()"
      ],
      "metadata": {
        "id": "ley5jDNcu4nF"
      },
      "execution_count": null,
      "outputs": []
    },
    {
      "cell_type": "code",
      "source": [
        "time_index = np.arange(len(y_pred_orig[:,3]))\n",
        "\n",
        "# Set the figure size\n",
        "plt.figure(figsize=(12, 8))\n",
        "\n",
        "# Plot close prices\n",
        "plt.plot(time_index, y_pred_orig[:,3], label='Close Prices', color='black')\n",
        "\n",
        "# Plot RSI values\n",
        "plt.plot(time_index, rsi_values, label='RSI', color='blue')\n",
        "xtick_positions = np.arange(0, len(time_index), len(time_index) // 6)\n",
        "xtick_labels = [\"03/2018\",\"08/2018\",\"1/2019\",\"06/2019\",\"11/2019\",\"4/2020\",\"09/2020\"]\n",
        "\n",
        "plt.xticks(xtick_positions, xtick_labels)\n",
        "\n",
        "plt.xlabel('Time Index')\n",
        "plt.ylabel('Values')\n",
        "plt.title('Close Prices and RSI')\n",
        "plt.legend()\n",
        "plt.grid(True)\n",
        "plt.show()"
      ],
      "metadata": {
        "colab": {
          "base_uri": "https://localhost:8080/",
          "height": 1000
        },
        "id": "VAiyvuzww2y_",
        "outputId": "88eafd41-9064-44f3-96c2-80d0faa95009"
      },
      "execution_count": null,
      "outputs": [
        {
          "output_type": "error",
          "ename": "ValueError",
          "evalue": "ignored",
          "traceback": [
            "\u001b[0;31m---------------------------------------------------------------------------\u001b[0m",
            "\u001b[0;31mValueError\u001b[0m                                Traceback (most recent call last)",
            "\u001b[0;32m<ipython-input-34-76450126d817>\u001b[0m in \u001b[0;36m<cell line: 14>\u001b[0;34m()\u001b[0m\n\u001b[1;32m     12\u001b[0m \u001b[0mxtick_labels\u001b[0m \u001b[0;34m=\u001b[0m \u001b[0;34m[\u001b[0m\u001b[0;34m\"03/2018\"\u001b[0m\u001b[0;34m,\u001b[0m\u001b[0;34m\"08/2018\"\u001b[0m\u001b[0;34m,\u001b[0m\u001b[0;34m\"1/2019\"\u001b[0m\u001b[0;34m,\u001b[0m\u001b[0;34m\"06/2019\"\u001b[0m\u001b[0;34m,\u001b[0m\u001b[0;34m\"11/2019\"\u001b[0m\u001b[0;34m,\u001b[0m\u001b[0;34m\"4/2020\"\u001b[0m\u001b[0;34m,\u001b[0m\u001b[0;34m\"09/2020\"\u001b[0m\u001b[0;34m]\u001b[0m\u001b[0;34m\u001b[0m\u001b[0;34m\u001b[0m\u001b[0m\n\u001b[1;32m     13\u001b[0m \u001b[0;34m\u001b[0m\u001b[0m\n\u001b[0;32m---> 14\u001b[0;31m \u001b[0mplt\u001b[0m\u001b[0;34m.\u001b[0m\u001b[0mxticks\u001b[0m\u001b[0;34m(\u001b[0m\u001b[0mxtick_positions\u001b[0m\u001b[0;34m,\u001b[0m \u001b[0mxtick_labels\u001b[0m\u001b[0;34m)\u001b[0m\u001b[0;34m\u001b[0m\u001b[0;34m\u001b[0m\u001b[0m\n\u001b[0m\u001b[1;32m     15\u001b[0m \u001b[0;34m\u001b[0m\u001b[0m\n\u001b[1;32m     16\u001b[0m \u001b[0mplt\u001b[0m\u001b[0;34m.\u001b[0m\u001b[0mxlabel\u001b[0m\u001b[0;34m(\u001b[0m\u001b[0;34m'Time Index'\u001b[0m\u001b[0;34m)\u001b[0m\u001b[0;34m\u001b[0m\u001b[0;34m\u001b[0m\u001b[0m\n",
            "\u001b[0;32m/usr/local/lib/python3.10/dist-packages/matplotlib/pyplot.py\u001b[0m in \u001b[0;36mxticks\u001b[0;34m(ticks, labels, minor, **kwargs)\u001b[0m\n\u001b[1;32m   1891\u001b[0m             \u001b[0ml\u001b[0m\u001b[0;34m.\u001b[0m\u001b[0m_internal_update\u001b[0m\u001b[0;34m(\u001b[0m\u001b[0mkwargs\u001b[0m\u001b[0;34m)\u001b[0m\u001b[0;34m\u001b[0m\u001b[0;34m\u001b[0m\u001b[0m\n\u001b[1;32m   1892\u001b[0m     \u001b[0;32melse\u001b[0m\u001b[0;34m:\u001b[0m\u001b[0;34m\u001b[0m\u001b[0;34m\u001b[0m\u001b[0m\n\u001b[0;32m-> 1893\u001b[0;31m         \u001b[0mlabels\u001b[0m \u001b[0;34m=\u001b[0m \u001b[0max\u001b[0m\u001b[0;34m.\u001b[0m\u001b[0mset_xticklabels\u001b[0m\u001b[0;34m(\u001b[0m\u001b[0mlabels\u001b[0m\u001b[0;34m,\u001b[0m \u001b[0mminor\u001b[0m\u001b[0;34m=\u001b[0m\u001b[0mminor\u001b[0m\u001b[0;34m,\u001b[0m \u001b[0;34m**\u001b[0m\u001b[0mkwargs\u001b[0m\u001b[0;34m)\u001b[0m\u001b[0;34m\u001b[0m\u001b[0;34m\u001b[0m\u001b[0m\n\u001b[0m\u001b[1;32m   1894\u001b[0m \u001b[0;34m\u001b[0m\u001b[0m\n\u001b[1;32m   1895\u001b[0m     \u001b[0;32mreturn\u001b[0m \u001b[0mlocs\u001b[0m\u001b[0;34m,\u001b[0m \u001b[0mlabels\u001b[0m\u001b[0;34m\u001b[0m\u001b[0;34m\u001b[0m\u001b[0m\n",
            "\u001b[0;32m/usr/local/lib/python3.10/dist-packages/matplotlib/axes/_base.py\u001b[0m in \u001b[0;36mwrapper\u001b[0;34m(self, *args, **kwargs)\u001b[0m\n\u001b[1;32m     72\u001b[0m \u001b[0;34m\u001b[0m\u001b[0m\n\u001b[1;32m     73\u001b[0m         \u001b[0;32mdef\u001b[0m \u001b[0mwrapper\u001b[0m\u001b[0;34m(\u001b[0m\u001b[0mself\u001b[0m\u001b[0;34m,\u001b[0m \u001b[0;34m*\u001b[0m\u001b[0margs\u001b[0m\u001b[0;34m,\u001b[0m \u001b[0;34m**\u001b[0m\u001b[0mkwargs\u001b[0m\u001b[0;34m)\u001b[0m\u001b[0;34m:\u001b[0m\u001b[0;34m\u001b[0m\u001b[0;34m\u001b[0m\u001b[0m\n\u001b[0;32m---> 74\u001b[0;31m             \u001b[0;32mreturn\u001b[0m \u001b[0mget_method\u001b[0m\u001b[0;34m(\u001b[0m\u001b[0mself\u001b[0m\u001b[0;34m)\u001b[0m\u001b[0;34m(\u001b[0m\u001b[0;34m*\u001b[0m\u001b[0margs\u001b[0m\u001b[0;34m,\u001b[0m \u001b[0;34m**\u001b[0m\u001b[0mkwargs\u001b[0m\u001b[0;34m)\u001b[0m\u001b[0;34m\u001b[0m\u001b[0;34m\u001b[0m\u001b[0m\n\u001b[0m\u001b[1;32m     75\u001b[0m \u001b[0;34m\u001b[0m\u001b[0m\n\u001b[1;32m     76\u001b[0m         \u001b[0mwrapper\u001b[0m\u001b[0;34m.\u001b[0m\u001b[0m__module__\u001b[0m \u001b[0;34m=\u001b[0m \u001b[0mowner\u001b[0m\u001b[0;34m.\u001b[0m\u001b[0m__module__\u001b[0m\u001b[0;34m\u001b[0m\u001b[0;34m\u001b[0m\u001b[0m\n",
            "\u001b[0;32m/usr/local/lib/python3.10/dist-packages/matplotlib/_api/deprecation.py\u001b[0m in \u001b[0;36mwrapper\u001b[0;34m(*args, **kwargs)\u001b[0m\n\u001b[1;32m    295\u001b[0m                 f\"for the old name will be dropped %(removal)s.\")\n\u001b[1;32m    296\u001b[0m             \u001b[0mkwargs\u001b[0m\u001b[0;34m[\u001b[0m\u001b[0mnew\u001b[0m\u001b[0;34m]\u001b[0m \u001b[0;34m=\u001b[0m \u001b[0mkwargs\u001b[0m\u001b[0;34m.\u001b[0m\u001b[0mpop\u001b[0m\u001b[0;34m(\u001b[0m\u001b[0mold\u001b[0m\u001b[0;34m)\u001b[0m\u001b[0;34m\u001b[0m\u001b[0;34m\u001b[0m\u001b[0m\n\u001b[0;32m--> 297\u001b[0;31m         \u001b[0;32mreturn\u001b[0m \u001b[0mfunc\u001b[0m\u001b[0;34m(\u001b[0m\u001b[0;34m*\u001b[0m\u001b[0margs\u001b[0m\u001b[0;34m,\u001b[0m \u001b[0;34m**\u001b[0m\u001b[0mkwargs\u001b[0m\u001b[0;34m)\u001b[0m\u001b[0;34m\u001b[0m\u001b[0;34m\u001b[0m\u001b[0m\n\u001b[0m\u001b[1;32m    298\u001b[0m \u001b[0;34m\u001b[0m\u001b[0m\n\u001b[1;32m    299\u001b[0m     \u001b[0;31m# wrapper() must keep the same documented signature as func(): if we\u001b[0m\u001b[0;34m\u001b[0m\u001b[0;34m\u001b[0m\u001b[0m\n",
            "\u001b[0;32m/usr/local/lib/python3.10/dist-packages/matplotlib/axis.py\u001b[0m in \u001b[0;36mset_ticklabels\u001b[0;34m(self, labels, minor, fontdict, **kwargs)\u001b[0m\n\u001b[1;32m   1967\u001b[0m             \u001b[0;31m# remove all tick labels, so only error for > 0 labels\u001b[0m\u001b[0;34m\u001b[0m\u001b[0;34m\u001b[0m\u001b[0m\n\u001b[1;32m   1968\u001b[0m             \u001b[0;32mif\u001b[0m \u001b[0mlen\u001b[0m\u001b[0;34m(\u001b[0m\u001b[0mlocator\u001b[0m\u001b[0;34m.\u001b[0m\u001b[0mlocs\u001b[0m\u001b[0;34m)\u001b[0m \u001b[0;34m!=\u001b[0m \u001b[0mlen\u001b[0m\u001b[0;34m(\u001b[0m\u001b[0mlabels\u001b[0m\u001b[0;34m)\u001b[0m \u001b[0;32mand\u001b[0m \u001b[0mlen\u001b[0m\u001b[0;34m(\u001b[0m\u001b[0mlabels\u001b[0m\u001b[0;34m)\u001b[0m \u001b[0;34m!=\u001b[0m \u001b[0;36m0\u001b[0m\u001b[0;34m:\u001b[0m\u001b[0;34m\u001b[0m\u001b[0;34m\u001b[0m\u001b[0m\n\u001b[0;32m-> 1969\u001b[0;31m                 raise ValueError(\n\u001b[0m\u001b[1;32m   1970\u001b[0m                     \u001b[0;34m\"The number of FixedLocator locations\"\u001b[0m\u001b[0;34m\u001b[0m\u001b[0;34m\u001b[0m\u001b[0m\n\u001b[1;32m   1971\u001b[0m                     \u001b[0;34mf\" ({len(locator.locs)}), usually from a call to\"\u001b[0m\u001b[0;34m\u001b[0m\u001b[0;34m\u001b[0m\u001b[0m\n",
            "\u001b[0;31mValueError\u001b[0m: The number of FixedLocator locations (6), usually from a call to set_ticks, does not match the number of labels (7)."
          ]
        },
        {
          "output_type": "display_data",
          "data": {
            "text/plain": [
              "<Figure size 1200x800 with 1 Axes>"
            ],
            "image/png": "[encoded data removed]"
          },
          "metadata": {}
        }
      ]
    },
    {
      "cell_type": "code",
      "source": [
        "from ta import volume\n",
        "df = pd.DataFrame({\"high\": y_pred_orig[:,1], \"low\": y_pred_orig[:,2], \"close\": y_pred_orig[:,3], \"volume\": y_pred_orig[:,4]})\n",
        "mfi = volume.MFIIndicator(df[\"high\"], df[\"low\"], df[\"close\"], df[\"volume\"], window=14)\n",
        "mfi_values = mfi.money_flow_index()\n",
        "\n",
        "# Create a time index for x-axis (assuming one point per day)\n",
        "time_index = np.arange(len(y_pred_orig[:,1]))\n",
        "\n",
        "# Set the figure size\n",
        "plt.figure(figsize=(10, 6))\n",
        "\n",
        "# Plot MFI values\n",
        "plt.plot(time_index, mfi_values, label='MFI', color='blue')\n",
        "xtick_positions = np.arange(0, len(time_index), len(time_index) // 6)\n",
        "xtick_labels = [\"03/2018\",\"08/2018\",\"1/2019\",\"06/2019\",\"11/2019\",\"4/2020\",\"09/2020\"]\n",
        "\n",
        "plt.xticks(xtick_positions, xtick_labels)\n",
        "plt.xlabel('Time Index')\n",
        "plt.ylabel('MFI Values')\n",
        "plt.title('Money Flow Index (MFI)')\n",
        "plt.legend()\n",
        "plt.grid(True)\n",
        "plt.show()"
      ],
      "metadata": {
        "id": "jFMs5WJvxNet"
      },
      "execution_count": null,
      "outputs": []
    },
    {
      "cell_type": "code",
      "source": [
        "def success_Score(n):\n",
        "  success_score=0\n",
        "  if rsi_values[n+14]<30:\n",
        "    success_score+=10\n",
        "  if mfi_values[n+14]<30:\n",
        "    success_score+=10\n",
        "  if y_pred_orig[n+1][4]>y_pred_orig[n][4]:\n",
        "    success_score+=20\n",
        "  if macd_histogram[n]>0:\n",
        "    success_score+=20\n",
        "  if macd_histogram_equity[n]>0:\n",
        "    success_score+=40\n",
        "  print(success_score)\n"
      ],
      "metadata": {
        "id": "0Pu01d6sx5eg"
      },
      "execution_count": null,
      "outputs": []
    },
    {
      "cell_type": "code",
      "source": [
        "print(mfi_values[14])"
      ],
      "metadata": {
        "colab": {
          "base_uri": "https://localhost:8080/"
        },
        "id": "---ZX1c18h8k",
        "outputId": "f94d33d5-7639-4eb1-ff35-ce76d60d4c4a"
      },
      "execution_count": null,
      "outputs": [
        {
          "output_type": "stream",
          "name": "stdout",
          "text": [
            "73.53128536402795\n"
          ]
        }
      ]
    },
    {
      "cell_type": "code",
      "source": [],
      "metadata": {
        "id": "OrQbr8Zd-Znw"
      },
      "execution_count": null,
      "outputs": []
    }
  ]
}