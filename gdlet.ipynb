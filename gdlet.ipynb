{
  "nbformat": 4,
  "nbformat_minor": 0,
  "metadata": {
    "colab": {
      "provenance": []
    },
    "kernelspec": {
      "name": "python3",
      "display_name": "Python 3"
    },
    "language_info": {
      "name": "python"
    }
  },
  "cells": [
    {
      "cell_type": "code",
      "source": [
        "from IPython.display import clear_output\n"
      ],
      "metadata": {
        "id": "6N65Cepn5kdw"
      },
      "execution_count": null,
      "outputs": []
    },
    {
      "cell_type": "code",
      "source": [
        "import requests\n",
        "import time"
      ],
      "metadata": {
        "id": "4wIPgdUF5pE-"
      },
      "execution_count": null,
      "outputs": []
    },
    {
      "cell_type": "code",
      "source": [
        "URLlist = [\n",
        "'https://api.gdeltproject.org/api/v2/doc/doc?query=(\"ICICI BANK\" OR \"BANK NIFTY\") (domainis:economictimes.indiatimes.com OR domainis:moneycontrol.com OR domainis:livemint.com)&startdatetime=20230401000000&enddatetime=20230502000000&mode=artlist&maxrecords=250&sort=datedesc&format=csv',\n",
        "'https://api.gdeltproject.org/api/v2/doc/doc?query=(\"ICICI BANK\" OR \"BANK NIFTY\") (domainis:economictimes.indiatimes.com OR domainis:moneycontrol.com OR domainis:livemint.com)&startdatetime=20230301000000&enddatetime=20230402000000&mode=artlist&maxrecords=250&sort=datedesc&format=csv',\n",
        "'https://api.gdeltproject.org/api/v2/doc/doc?query=(\"ICICI BANK\" OR \"BANK NIFTY\") (domainis:economictimes.indiatimes.com OR domainis:moneycontrol.com OR domainis:livemint.com)&startdatetime=20230201000000&enddatetime=20230302000000&mode=artlist&maxrecords=250&sort=datedesc&format=csv',\n",
        "'https://api.gdeltproject.org/api/v2/doc/doc?query=(\"ICICI BANK\" OR \"BANK NIFTY\") (domainis:economictimes.indiatimes.com OR domainis:moneycontrol.com OR domainis:livemint.com)&startdatetime=20230101000000&enddatetime=20230202000000&mode=artlist&maxrecords=250&sort=datedesc&format=csv',\n",
        "'https://api.gdeltproject.org/api/v2/doc/doc?query=(\"ICICI BANK\" OR \"BANK NIFTY\") (domainis:economictimes.indiatimes.com OR domainis:moneycontrol.com OR domainis:livemint.com)&startdatetime=20221201000000&enddatetime=20230102000000&mode=artlist&maxrecords=250&sort=datedesc&format=csv',\n",
        "'https://api.gdeltproject.org/api/v2/doc/doc?query=(\"ICICI BANK\" OR \"BANK NIFTY\") (domainis:economictimes.indiatimes.com OR domainis:moneycontrol.com OR domainis:livemint.com)&startdatetime=20221101000000&enddatetime=20221202000000&mode=artlist&maxrecords=250&sort=datedesc&format=csv',\n",
        "'https://api.gdeltproject.org/api/v2/doc/doc?query=(\"ICICI BANK\" OR \"BANK NIFTY\") (domainis:economictimes.indiatimes.com OR domainis:moneycontrol.com OR domainis:livemint.com)&startdatetime=20221001000000&enddatetime=20221102000000&mode=artlist&maxrecords=250&sort=datedesc&format=csv',\n",
        "'https://api.gdeltproject.org/api/v2/doc/doc?query=(\"ICICI BANK\" OR \"BANK NIFTY\") (domainis:economictimes.indiatimes.com OR domainis:moneycontrol.com OR domainis:livemint.com)&startdatetime=20220901000000&enddatetime=20221002000000&mode=artlist&maxrecords=250&sort=datedesc&format=csv',\n",
        "'https://api.gdeltproject.org/api/v2/doc/doc?query=(\"ICICI BANK\" OR \"BANK NIFTY\") (domainis:economictimes.indiatimes.com OR domainis:moneycontrol.com OR domainis:livemint.com)&startdatetime=20220801000000&enddatetime=20220902000000&mode=artlist&maxrecords=250&sort=datedesc&format=csv',\n",
        "'https://api.gdeltproject.org/api/v2/doc/doc?query=(\"ICICI BANK\" OR \"BANK NIFTY\") (domainis:economictimes.indiatimes.com OR domainis:moneycontrol.com OR domainis:livemint.com)&startdatetime=20220701000000&enddatetime=20220802000000&mode=artlist&maxrecords=250&sort=datedesc&format=csv',\n",
        "'https://api.gdeltproject.org/api/v2/doc/doc?query=(\"ICICI BANK\" OR \"BANK NIFTY\") (domainis:economictimes.indiatimes.com OR domainis:moneycontrol.com OR domainis:livemint.com)&startdatetime=20220601000000&enddatetime=20220702000000&mode=artlist&maxrecords=250&sort=datedesc&format=csv',\n",
        "'https://api.gdeltproject.org/api/v2/doc/doc?query=(\"ICICI BANK\" OR \"BANK NIFTY\") (domainis:economictimes.indiatimes.com OR domainis:moneycontrol.com OR domainis:livemint.com)&startdatetime=20220501000000&enddatetime=20220602000000&mode=artlist&maxrecords=250&sort=datedesc&format=csv',\n",
        "'https://api.gdeltproject.org/api/v2/doc/doc?query=(\"ICICI BANK\" OR \"BANK NIFTY\") (domainis:economictimes.indiatimes.com OR domainis:moneycontrol.com OR domainis:livemint.com)&startdatetime=20220401000000&enddatetime=20220502000000&mode=artlist&maxrecords=250&sort=datedesc&format=csv',\n",
        "'https://api.gdeltproject.org/api/v2/doc/doc?query=(\"ICICI BANK\" OR \"BANK NIFTY\") (domainis:economictimes.indiatimes.com OR domainis:moneycontrol.com OR domainis:livemint.com)&startdatetime=20220301000000&enddatetime=20220402000000&mode=artlist&maxrecords=250&sort=datedesc&format=csv',\n",
        "'https://api.gdeltproject.org/api/v2/doc/doc?query=(\"ICICI BANK\" OR \"BANK NIFTY\") (domainis:economictimes.indiatimes.com OR domainis:moneycontrol.com OR domainis:livemint.com)&startdatetime=20220201000000&enddatetime=20220302000000&mode=artlist&maxrecords=250&sort=datedesc&format=csv',\n",
        "'https://api.gdeltproject.org/api/v2/doc/doc?query=(\"ICICI BANK\" OR \"BANK NIFTY\") (domainis:economictimes.indiatimes.com OR domainis:moneycontrol.com OR domainis:livemint.com)&startdatetime=20220101000000&enddatetime=20220202000000&mode=artlist&maxrecords=250&sort=datedesc&format=csv',\n",
        "'https://api.gdeltproject.org/api/v2/doc/doc?query=(\"ICICI BANK\" OR \"BANK NIFTY\") (domainis:economictimes.indiatimes.com OR domainis:moneycontrol.com OR domainis:livemint.com)&startdatetime=20211201000000&enddatetime=20220102000000&mode=artlist&maxrecords=250&sort=datedesc&format=csv',\n",
        "'https://api.gdeltproject.org/api/v2/doc/doc?query=(\"ICICI BANK\" OR \"BANK NIFTY\") (domainis:economictimes.indiatimes.com OR domainis:moneycontrol.com OR domainis:livemint.com)&startdatetime=20211001000000&enddatetime=20211202000000&mode=artlist&maxrecords=250&sort=datedesc&format=csv',\n",
        "'https://api.gdeltproject.org/api/v2/doc/doc?query=(\"ICICI BANK\" OR \"BANK NIFTY\") (domainis:economictimes.indiatimes.com OR domainis:moneycontrol.com OR domainis:livemint.com)&startdatetime=20210901000000&enddatetime=20211002000000&mode=artlist&maxrecords=250&sort=datedesc&format=csv',\n",
        "'https://api.gdeltproject.org/api/v2/doc/doc?query=(\"ICICI BANK\" OR \"BANK NIFTY\") (domainis:economictimes.indiatimes.com OR domainis:moneycontrol.com OR domainis:livemint.com)&startdatetime=20210801000000&enddatetime=20210902000000&mode=artlist&maxrecords=250&sort=datedesc&format=csv',\n",
        "'https://api.gdeltproject.org/api/v2/doc/doc?query=(\"ICICI BANK\" OR \"BANK NIFTY\") (domainis:economictimes.indiatimes.com OR domainis:moneycontrol.com OR domainis:livemint.com)&startdatetime=20210701000000&enddatetime=20210802000000&mode=artlist&maxrecords=250&sort=datedesc&format=csv',\n",
        "'https://api.gdeltproject.org/api/v2/doc/doc?query=(\"ICICI BANK\" OR \"BANK NIFTY\") (domainis:economictimes.indiatimes.com OR domainis:moneycontrol.com OR domainis:livemint.com)&startdatetime=20210601000000&enddatetime=20210702000000&mode=artlist&maxrecords=250&sort=datedesc&format=csv',\n",
        "'https://api.gdeltproject.org/api/v2/doc/doc?query=(\"ICICI BANK\" OR \"BANK NIFTY\") (domainis:economictimes.indiatimes.com OR domainis:moneycontrol.com OR domainis:livemint.com)&startdatetime=20210501000000&enddatetime=20210602000000&mode=artlist&maxrecords=250&sort=datedesc&format=csv',\n",
        "'https://api.gdeltproject.org/api/v2/doc/doc?query=(\"ICICI BANK\" OR \"BANK NIFTY\") (domainis:economictimes.indiatimes.com OR domainis:moneycontrol.com OR domainis:livemint.com)&startdatetime=20210401000000&enddatetime=20210502000000&mode=artlist&maxrecords=250&sort=datedesc&format=csv',\n",
        "'https://api.gdeltproject.org/api/v2/doc/doc?query=(\"ICICI BANK\" OR \"BANK NIFTY\") (domainis:economictimes.indiatimes.com OR domainis:moneycontrol.com OR domainis:livemint.com)&startdatetime=20210301000000&enddatetime=20210402000000&mode=artlist&maxrecords=250&sort=datedesc&format=csv',\n",
        "'https://api.gdeltproject.org/api/v2/doc/doc?query=(\"ICICI BANK\" OR \"BANK NIFTY\") (domainis:economictimes.indiatimes.com OR domainis:moneycontrol.com OR domainis:livemint.com)&startdatetime=20210201000000&enddatetime=20210302000000&mode=artlist&maxrecords=250&sort=datedesc&format=csv',\n",
        "'https://api.gdeltproject.org/api/v2/doc/doc?query=(\"ICICI BANK\" OR \"BANK NIFTY\") (domainis:economictimes.indiatimes.com OR domainis:moneycontrol.com OR domainis:livemint.com)&startdatetime=20210101000000&enddatetime=20210202000000&mode=artlist&maxrecords=250&sort=datedesc&format=csv',\n",
        "'https://api.gdeltproject.org/api/v2/doc/doc?query=(\"ICICI BANK\" OR \"BANK NIFTY\") (domainis:economictimes.indiatimes.com OR domainis:moneycontrol.com OR domainis:livemint.com)&startdatetime=20201201000000&enddatetime=20210102000000&mode=artlist&maxrecords=250&sort=datedesc&format=csv',\n",
        "'https://api.gdeltproject.org/api/v2/doc/doc?query=(\"ICICI BANK\" OR \"BANK NIFTY\") (domainis:economictimes.indiatimes.com OR domainis:moneycontrol.com OR domainis:livemint.com)&startdatetime=20201101000000&enddatetime=20201202000000&mode=artlist&maxrecords=250&sort=datedesc&format=csv',\n",
        "'https://api.gdeltproject.org/api/v2/doc/doc?query=(\"ICICI BANK\" OR \"BANK NIFTY\") (domainis:economictimes.indiatimes.com OR domainis:moneycontrol.com OR domainis:livemint.com)&startdatetime=20201001000000&enddatetime=20201102000000&mode=artlist&maxrecords=250&sort=datedesc&format=csv',\n",
        "'https://api.gdeltproject.org/api/v2/doc/doc?query=(\"ICICI BANK\" OR \"BANK NIFTY\") (domainis:economictimes.indiatimes.com OR domainis:moneycontrol.com OR domainis:livemint.com)&startdatetime=20200901000000&enddatetime=20201002000000&mode=artlist&maxrecords=250&sort=datedesc&format=csv',\n",
        "'https://api.gdeltproject.org/api/v2/doc/doc?query=(\"ICICI BANK\" OR \"BANK NIFTY\") (domainis:economictimes.indiatimes.com OR domainis:moneycontrol.com OR domainis:livemint.com)&startdatetime=20200801000000&enddatetime=20200902000000&mode=artlist&maxrecords=250&sort=datedesc&format=csv',\n",
        "'https://api.gdeltproject.org/api/v2/doc/doc?query=(\"ICICI BANK\" OR \"BANK NIFTY\") (domainis:economictimes.indiatimes.com OR domainis:moneycontrol.com OR domainis:livemint.com)&startdatetime=20200701000000&enddatetime=20200802000000&mode=artlist&maxrecords=250&sort=datedesc&format=csv',\n",
        "'https://api.gdeltproject.org/api/v2/doc/doc?query=(\"ICICI BANK\" OR \"BANK NIFTY\") (domainis:economictimes.indiatimes.com OR domainis:moneycontrol.com OR domainis:livemint.com)&startdatetime=20200601000000&enddatetime=20200702000000&mode=artlist&maxrecords=250&sort=datedesc&format=csv',\n",
        "'https://api.gdeltproject.org/api/v2/doc/doc?query=(\"ICICI BANK\" OR \"BANK NIFTY\") (domainis:economictimes.indiatimes.com OR domainis:moneycontrol.com OR domainis:livemint.com)&startdatetime=20200501000000&enddatetime=20200602000000&mode=artlist&maxrecords=250&sort=datedesc&format=csv',\n",
        "'https://api.gdeltproject.org/api/v2/doc/doc?query=(\"ICICI BANK\" OR \"BANK NIFTY\") (domainis:economictimes.indiatimes.com OR domainis:moneycontrol.com OR domainis:livemint.com)&startdatetime=20200401000000&enddatetime=20200502000000&mode=artlist&maxrecords=250&sort=datedesc&format=csv',\n",
        "'https://api.gdeltproject.org/api/v2/doc/doc?query=(\"ICICI BANK\" OR \"BANK NIFTY\") (domainis:economictimes.indiatimes.com OR domainis:moneycontrol.com OR domainis:livemint.com)&startdatetime=20200301000000&enddatetime=20200402000000&mode=artlist&maxrecords=250&sort=datedesc&format=csv',\n",
        "'https://api.gdeltproject.org/api/v2/doc/doc?query=(\"ICICI BANK\" OR \"BANK NIFTY\") (domainis:economictimes.indiatimes.com OR domainis:moneycontrol.com OR domainis:livemint.com)&startdatetime=20200201000000&enddatetime=20200302000000&mode=artlist&maxrecords=250&sort=datedesc&format=csv',\n",
        "'https://api.gdeltproject.org/api/v2/doc/doc?query=(\"ICICI BANK\" OR \"BANK NIFTY\") (domainis:economictimes.indiatimes.com OR domainis:moneycontrol.com OR domainis:livemint.com)&startdatetime=20200101000000&enddatetime=20200202000000&mode=artlist&maxrecords=250&sort=datedesc&format=csv',\n",
        "'https://api.gdeltproject.org/api/v2/doc/doc?query=(\"ICICI BANK\" OR \"BANK NIFTY\") (domainis:economictimes.indiatimes.com OR domainis:moneycontrol.com OR domainis:livemint.com)&startdatetime=20191201000000&enddatetime=20200102000000&mode=artlist&maxrecords=250&sort=datedesc&format=csv',\n",
        "'https://api.gdeltproject.org/api/v2/doc/doc?query=(\"ICICI BANK\" OR \"BANK NIFTY\") (domainis:economictimes.indiatimes.com OR domainis:moneycontrol.com OR domainis:livemint.com)&startdatetime=20191101000000&enddatetime=20191202000000&mode=artlist&maxrecords=250&sort=datedesc&format=csv',\n",
        "'https://api.gdeltproject.org/api/v2/doc/doc?query=(\"ICICI BANK\" OR \"BANK NIFTY\") (domainis:economictimes.indiatimes.com OR domainis:moneycontrol.com OR domainis:livemint.com)&startdatetime=20191001000000&enddatetime=20191102000000&mode=artlist&maxrecords=250&sort=datedesc&format=csv',\n",
        "'https://api.gdeltproject.org/api/v2/doc/doc?query=(\"ICICI BANK\" OR \"BANK NIFTY\") (domainis:economictimes.indiatimes.com OR domainis:moneycontrol.com OR domainis:livemint.com)&startdatetime=20190901000000&enddatetime=20191002000000&mode=artlist&maxrecords=250&sort=datedesc&format=csv',\n",
        "'https://api.gdeltproject.org/api/v2/doc/doc?query=(\"ICICI BANK\" OR \"BANK NIFTY\") (domainis:economictimes.indiatimes.com OR domainis:moneycontrol.com OR domainis:livemint.com)&startdatetime=20190801000000&enddatetime=20190902000000&mode=artlist&maxrecords=250&sort=datedesc&format=csv',\n",
        "'https://api.gdeltproject.org/api/v2/doc/doc?query=(\"ICICI BANK\" OR \"BANK NIFTY\") (domainis:economictimes.indiatimes.com OR domainis:moneycontrol.com OR domainis:livemint.com)&startdatetime=20190701000000&enddatetime=20190802000000&mode=artlist&maxrecords=250&sort=datedesc&format=csv',\n",
        "'https://api.gdeltproject.org/api/v2/doc/doc?query=(\"ICICI BANK\" OR \"BANK NIFTY\") (domainis:economictimes.indiatimes.com OR domainis:moneycontrol.com OR domainis:livemint.com)&startdatetime=20190601000000&enddatetime=20190702000000&mode=artlist&maxrecords=250&sort=datedesc&format=csv',\n",
        "'https://api.gdeltproject.org/api/v2/doc/doc?query=(\"ICICI BANK\" OR \"BANK NIFTY\") (domainis:economictimes.indiatimes.com OR domainis:moneycontrol.com OR domainis:livemint.com)&startdatetime=20190501000000&enddatetime=20190602000000&mode=artlist&maxrecords=250&sort=datedesc&format=csv',\n",
        "'https://api.gdeltproject.org/api/v2/doc/doc?query=(\"ICICI BANK\" OR \"BANK NIFTY\") (domainis:economictimes.indiatimes.com OR domainis:moneycontrol.com OR domainis:livemint.com)&startdatetime=20190401000000&enddatetime=20190502000000&mode=artlist&maxrecords=250&sort=datedesc&format=csv',\n",
        "'https://api.gdeltproject.org/api/v2/doc/doc?query=(\"ICICI BANK\" OR \"BANK NIFTY\") (domainis:economictimes.indiatimes.com OR domainis:moneycontrol.com OR domainis:livemint.com)&startdatetime=20190301000000&enddatetime=20190402000000&mode=artlist&maxrecords=250&sort=datedesc&format=csv',\n",
        "'https://api.gdeltproject.org/api/v2/doc/doc?query=(\"ICICI BANK\" OR \"BANK NIFTY\") (domainis:economictimes.indiatimes.com OR domainis:moneycontrol.com OR domainis:livemint.com)&startdatetime=20190201000000&enddatetime=20190302000000&mode=artlist&maxrecords=250&sort=datedesc&format=csv',\n",
        "'https://api.gdeltproject.org/api/v2/doc/doc?query=(\"ICICI BANK\" OR \"BANK NIFTY\") (domainis:economictimes.indiatimes.com OR domainis:moneycontrol.com OR domainis:livemint.com)&startdatetime=20190101000000&enddatetime=20190202000000&mode=artlist&maxrecords=250&sort=datedesc&format=csv',\n",
        "'https://api.gdeltproject.org/api/v2/doc/doc?query=(\"ICICI BANK\" OR \"BANK NIFTY\") (domainis:economictimes.indiatimes.com OR domainis:moneycontrol.com OR domainis:livemint.com)&startdatetime=20181201000000&enddatetime=20190102000000&mode=artlist&maxrecords=250&sort=datedesc&format=csv',\n",
        "'https://api.gdeltproject.org/api/v2/doc/doc?query=(\"ICICI BANK\" OR \"BANK NIFTY\") (domainis:economictimes.indiatimes.com OR domainis:moneycontrol.com OR domainis:livemint.com)&startdatetime=20181101000000&enddatetime=20181202000000&mode=artlist&maxrecords=250&sort=datedesc&format=csv',\n",
        "'https://api.gdeltproject.org/api/v2/doc/doc?query=(\"ICICI BANK\" OR \"BANK NIFTY\") (domainis:economictimes.indiatimes.com OR domainis:moneycontrol.com OR domainis:livemint.com)&startdatetime=20181001000000&enddatetime=20181102000000&mode=artlist&maxrecords=250&sort=datedesc&format=csv',\n",
        "'https://api.gdeltproject.org/api/v2/doc/doc?query=(\"ICICI BANK\" OR \"BANK NIFTY\") (domainis:economictimes.indiatimes.com OR domainis:moneycontrol.com OR domainis:livemint.com)&startdatetime=20180901000000&enddatetime=20181002000000&mode=artlist&maxrecords=250&sort=datedesc&format=csv',\n",
        "'https://api.gdeltproject.org/api/v2/doc/doc?query=(\"ICICI BANK\" OR \"BANK NIFTY\") (domainis:economictimes.indiatimes.com OR domainis:moneycontrol.com OR domainis:livemint.com)&startdatetime=20180801000000&enddatetime=20180902000000&mode=artlist&maxrecords=250&sort=datedesc&format=csv',\n",
        "'https://api.gdeltproject.org/api/v2/doc/doc?query=(\"ICICI BANK\" OR \"BANK NIFTY\") (domainis:economictimes.indiatimes.com OR domainis:moneycontrol.com OR domainis:livemint.com)&startdatetime=20180701000000&enddatetime=20180802000000&mode=artlist&maxrecords=250&sort=datedesc&format=csv',\n",
        "'https://api.gdeltproject.org/api/v2/doc/doc?query=(\"ICICI BANK\" OR \"BANK NIFTY\") (domainis:economictimes.indiatimes.com OR domainis:moneycontrol.com OR domainis:livemint.com)&startdatetime=20180601000000&enddatetime=20180702000000&mode=artlist&maxrecords=250&sort=datedesc&format=csv',\n",
        "'https://api.gdeltproject.org/api/v2/doc/doc?query=(\"ICICI BANK\" OR \"BANK NIFTY\") (domainis:economictimes.indiatimes.com OR domainis:moneycontrol.com OR domainis:livemint.com)&startdatetime=20180501000000&enddatetime=20180602000000&mode=artlist&maxrecords=250&sort=datedesc&format=csv',\n",
        "'https://api.gdeltproject.org/api/v2/doc/doc?query=(\"ICICI BANK\" OR \"BANK NIFTY\") (domainis:economictimes.indiatimes.com OR domainis:moneycontrol.com OR domainis:livemint.com)&startdatetime=20180401000000&enddatetime=20180502000000&mode=artlist&maxrecords=250&sort=datedesc&format=csv',\n",
        "'https://api.gdeltproject.org/api/v2/doc/doc?query=(\"ICICI BANK\" OR \"BANK NIFTY\") (domainis:economictimes.indiatimes.com OR domainis:moneycontrol.com OR domainis:livemint.com)&startdatetime=20180301000000&enddatetime=20180402000000&mode=artlist&maxrecords=250&sort=datedesc&format=csv',\n",
        "'https://api.gdeltproject.org/api/v2/doc/doc?query=(\"ICICI BANK\" OR \"BANK NIFTY\") (domainis:economictimes.indiatimes.com OR domainis:moneycontrol.com OR domainis:livemint.com)&startdatetime=20180201000000&enddatetime=20180302000000&mode=artlist&maxrecords=250&sort=datedesc&format=csv',\n",
        "'https://api.gdeltproject.org/api/v2/doc/doc?query=(\"ICICI BANK\" OR \"BANK NIFTY\") (domainis:economictimes.indiatimes.com OR domainis:moneycontrol.com OR domainis:livemint.com)&startdatetime=20180101000000&enddatetime=20180202000000&mode=artlist&maxrecords=250&sort=datedesc&format=csv',\n",
        "'https://api.gdeltproject.org/api/v2/doc/doc?query=(\"ICICI BANK\" OR \"BANK NIFTY\") (domainis:economictimes.indiatimes.com OR domainis:moneycontrol.com OR domainis:livemint.com)&startdatetime=20171201000000&enddatetime=20180102000000&mode=artlist&maxrecords=250&sort=datedesc&format=csv',\n",
        "'https://api.gdeltproject.org/api/v2/doc/doc?query=(\"ICICI BANK\" OR \"BANK NIFTY\") (domainis:economictimes.indiatimes.com OR domainis:moneycontrol.com OR domainis:livemint.com)&startdatetime=20171101000000&enddatetime=20171202000000&mode=artlist&maxrecords=250&sort=datedesc&format=csv',\n",
        "'https://api.gdeltproject.org/api/v2/doc/doc?query=(\"ICICI BANK\" OR \"BANK NIFTY\") (domainis:economictimes.indiatimes.com OR domainis:moneycontrol.com OR domainis:livemint.com)&startdatetime=20171001000000&enddatetime=20171102000000&mode=artlist&maxrecords=250&sort=datedesc&format=csv',\n",
        "'https://api.gdeltproject.org/api/v2/doc/doc?query=(\"ICICI BANK\" OR \"BANK NIFTY\") (domainis:economictimes.indiatimes.com OR domainis:moneycontrol.com OR domainis:livemint.com)&startdatetime=20170901000000&enddatetime=20171002000000&mode=artlist&maxrecords=250&sort=datedesc&format=csv',\n",
        "'https://api.gdeltproject.org/api/v2/doc/doc?query=(\"ICICI BANK\" OR \"BANK NIFTY\") (domainis:economictimes.indiatimes.com OR domainis:moneycontrol.com OR domainis:livemint.com)&startdatetime=20170801000000&enddatetime=20170902000000&mode=artlist&maxrecords=250&sort=datedesc&format=csv',\n",
        "'https://api.gdeltproject.org/api/v2/doc/doc?query=(\"ICICI BANK\" OR \"BANK NIFTY\") (domainis:economictimes.indiatimes.com OR domainis:moneycontrol.com OR domainis:livemint.com)&startdatetime=20170701000000&enddatetime=20170802000000&mode=artlist&maxrecords=250&sort=datedesc&format=csv',\n",
        "'https://api.gdeltproject.org/api/v2/doc/doc?query=(\"ICICI BANK\" OR \"BANK NIFTY\") (domainis:economictimes.indiatimes.com OR domainis:moneycontrol.com OR domainis:livemint.com)&startdatetime=20170601000000&enddatetime=20170702000000&mode=artlist&maxrecords=250&sort=datedesc&format=csv',\n",
        "'https://api.gdeltproject.org/api/v2/doc/doc?query=(\"ICICI BANK\" OR \"BANK NIFTY\") (domainis:economictimes.indiatimes.com OR domainis:moneycontrol.com OR domainis:livemint.com)&startdatetime=20170501000000&enddatetime=20170602000000&mode=artlist&maxrecords=250&sort=datedesc&format=csv',\n",
        "'https://api.gdeltproject.org/api/v2/doc/doc?query=(\"ICICI BANK\" OR \"BANK NIFTY\") (domainis:economictimes.indiatimes.com OR domainis:moneycontrol.com OR domainis:livemint.com)&startdatetime=20170401000000&enddatetime=20170502000000&mode=artlist&maxrecords=250&sort=datedesc&format=csv',\n",
        "'https://api.gdeltproject.org/api/v2/doc/doc?query=(\"ICICI BANK\" OR \"BANK NIFTY\") (domainis:economictimes.indiatimes.com OR domainis:moneycontrol.com OR domainis:livemint.com)&startdatetime=20170301000000&enddatetime=20170402000000&mode=artlist&maxrecords=250&sort=datedesc&format=csv',\n",
        "'https://api.gdeltproject.org/api/v2/doc/doc?query=(\"ICICI BANK\" OR \"BANK NIFTY\") (domainis:economictimes.indiatimes.com OR domainis:moneycontrol.com OR domainis:livemint.com)&startdatetime=20170201000000&enddatetime=20170302000000&mode=artlist&maxrecords=250&sort=datedesc&format=csv',\n",
        "'https://api.gdeltproject.org/api/v2/doc/doc?query=(\"ICICI BANK\" OR \"BANK NIFTY\") (domainis:economictimes.indiatimes.com OR domainis:moneycontrol.com OR domainis:livemint.com)&startdatetime=20170101000000&enddatetime=20170202000000&mode=artlist&maxrecords=250&sort=datedesc&format=csv',\n",
        "\n",
        "]\n",
        "print(\"URL list loaded\")"
      ],
      "metadata": {
        "colab": {
          "base_uri": "https://localhost:8080/"
        },
        "id": "x9_nHSNH5u0n",
        "outputId": "fa7ba1dc-b049-470b-bc79-26d7bf5a5a40"
      },
      "execution_count": null,
      "outputs": [
        {
          "output_type": "stream",
          "name": "stdout",
          "text": [
            "URL list loaded\n"
          ]
        }
      ]
    },
    {
      "cell_type": "code",
      "source": [
        "completed = 0.\n",
        "OutOf = len(URLlist)\n",
        "for URL in URLlist:\n",
        "    clear_output(wait=True)\n",
        "    myfile = requests.get(URL)\n",
        "    open('PickAFile.csv','ab').write(myfile.content)\n",
        "    completed = completed + 1\n",
        "    print(\"Completed: \",completed,\" out of\",OutOf)\n",
        "    time.sleep(6)\n",
        "print(\"The dataset is ready to view.\")"
      ],
      "metadata": {
        "colab": {
          "base_uri": "https://localhost:8080/"
        },
        "id": "Uy3LmKt0512G",
        "outputId": "4a1a3453-47fe-49c4-a3e6-0d4f2a3329ec"
      },
      "execution_count": null,
      "outputs": [
        {
          "output_type": "stream",
          "name": "stdout",
          "text": [
            "Completed:  75.0  out of 75\n",
            "The dataset is ready to view.\n"
          ]
        }
      ]
    },
    {
      "cell_type": "code",
      "source": [],
      "metadata": {
        "id": "lHgjNsBL559j"
      },
      "execution_count": null,
      "outputs": []
    }
  ]
}